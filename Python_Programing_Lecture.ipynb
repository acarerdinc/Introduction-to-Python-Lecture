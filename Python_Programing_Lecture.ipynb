{
  "nbformat": 4,
  "nbformat_minor": 0,
  "metadata": {
    "colab": {
      "name": "Python-Programing-Lecture.ipynb",
      "provenance": [],
      "collapsed_sections": [
        "28dQyfQrVgMB",
        "xruhcpxIUZ0v",
        "FbbNdx-QYQyy",
        "mVP1cxYibMO2",
        "cbi-ctWJhE0C",
        "le1ZtfjshdZd",
        "0kk1oJFQccej",
        "KrlV70n1gPuo",
        "xjmSLDJLh70O",
        "rHERAt3LYFjK",
        "YXO92zcdq_ND",
        "pNTSIPtLXveN",
        "I23fW2V9Xvef",
        "8f-wE9wNXvel",
        "YhGmzAj_Xvfj",
        "gW_1EfPYXvfx",
        "iWewtah2Xvf5",
        "O625Mik4Xvf9",
        "5qm44zJdYFkG",
        "s03SIHyPYFkS",
        "kB1ItsrgFzca",
        "VWUDUbsDGFPD",
        "ciSW3v45GFPG",
        "uRVXglubGFPJ",
        "ndNaIh4mIhrV",
        "ZzxjuRDJGFPO",
        "GunI_D9AGFPO",
        "ao1Ed1UHGFPV",
        "F2EnT9mmGFPX",
        "KL45O1NeGFPa",
        "dxAmqaFaGFPc",
        "GG_5QhD9MVHL",
        "zVlql5scSfRS",
        "nyNgCL58ZHM-",
        "JVktCKN3ZHNQ",
        "jGZHomUmZHNW",
        "HxYpwnkCZHNe",
        "pWdhrtr_ZHNq",
        "ZVDdx0nEZHNu",
        "WX-rIP7oZHN5",
        "Yhlg9TISWDmN",
        "wNNzpQCmWyQT",
        "eR5eHTW9hGZi",
        "VEJ5CLbthGZp",
        "sBZe8hwDgKie"
      ],
      "toc_visible": true
    },
    "kernelspec": {
      "name": "python3",
      "display_name": "Python 3"
    }
  },
  "cells": [
    {
      "cell_type": "markdown",
      "metadata": {
        "id": "28dQyfQrVgMB",
        "colab_type": "text"
      },
      "source": [
        "#Introduction to Programming with Python"
      ]
    },
    {
      "cell_type": "markdown",
      "metadata": {
        "id": "rera5agMWxKD",
        "colab_type": "text"
      },
      "source": [
        "Python is an interpreted, high-level, general-purpose programming language.\n",
        "\n",
        "Created by Guido van Rossum and first released in 1991, Python's design philosophy emphasizes code readability with its notable use of **significant whitespace.**\n",
        "\n",
        " Its language constructs and object-oriented approach aim to help programmers write clear, logical code for small and large-scale projects\n",
        "\n",
        " <hr>"
      ]
    },
    {
      "cell_type": "markdown",
      "metadata": {
        "id": "xruhcpxIUZ0v",
        "colab_type": "text"
      },
      "source": [
        "##Python Installation"
      ]
    },
    {
      "cell_type": "markdown",
      "metadata": {
        "id": "q41nB4QLUZ0v",
        "colab_type": "text"
      },
      "source": [
        "Mac OS X and Linux comes pre installed with python. \n",
        "\n",
        "Windows users can download python from https://www.python.org/downloads/ .\n",
        "\n",
        "<hr>"
      ]
    },
    {
      "cell_type": "markdown",
      "metadata": {
        "id": "FbbNdx-QYQyy",
        "colab_type": "text"
      },
      "source": [
        "## Google Colaboratory"
      ]
    },
    {
      "cell_type": "markdown",
      "metadata": {
        "id": "tpQBMAh_YUVS",
        "colab_type": "text"
      },
      "source": [
        "Google Colaboratory, or Google Colab as short, is a free tool supported by Google to enable developers and researchers to create, test, and share python code.\n",
        "\n",
        "Google Colab also provides GPU processing for free. To enable GPU processing go to Runtime -> Change Runtime Type -> select \"GPU\" as Hardware Accelerator.\n",
        "\n",
        "GPU processing is especially important for deep learning projects as they oftenly demand extensive processing power.\n",
        "\n",
        "Keep in mind that Colab session will terminate once every 12 hours and you will lose the runtime session along with all the variables.\n",
        "\n",
        "<hr>"
      ]
    },
    {
      "cell_type": "markdown",
      "metadata": {
        "id": "mVP1cxYibMO2",
        "colab_type": "text"
      },
      "source": [
        "# Python Basics"
      ]
    },
    {
      "cell_type": "markdown",
      "metadata": {
        "id": "cbi-ctWJhE0C",
        "colab_type": "text"
      },
      "source": [
        "## print(Function"
      ]
    },
    {
      "cell_type": "markdown",
      "metadata": {
        "id": "vEXdpEVUhHBb",
        "colab_type": "text"
      },
      "source": [
        "The built-in print(function in python allows printing text and variables.\n",
        "\n",
        "You can also simply type the name of the variable to print(its value in any IPython Kernel.\n",
        "\n",
        "<hr>"
      ]
    },
    {
      "cell_type": "code",
      "metadata": {
        "id": "o6v47i24hUfm",
        "colab_type": "code",
        "colab": {
          "base_uri": "https://localhost:8080/",
          "height": 0
        },
        "outputId": "b1e4dadd-80e1-468f-d233-e76b7c8581e4"
      },
      "source": [
        "print('Hello world!')"
      ],
      "execution_count": 1,
      "outputs": [
        {
          "output_type": "stream",
          "text": [
            "Hello world!\n"
          ],
          "name": "stdout"
        }
      ]
    },
    {
      "cell_type": "code",
      "metadata": {
        "id": "FXc1YlG3j17j",
        "colab_type": "code",
        "colab": {
          "base_uri": "https://localhost:8080/",
          "height": 0
        },
        "outputId": "d932a4e9-05d7-44e7-f416-fef9f93e1650"
      },
      "source": [
        "a = 5\n",
        "a"
      ],
      "execution_count": 2,
      "outputs": [
        {
          "output_type": "execute_result",
          "data": {
            "text/plain": [
              "5"
            ]
          },
          "metadata": {
            "tags": []
          },
          "execution_count": 2
        }
      ]
    },
    {
      "cell_type": "markdown",
      "metadata": {
        "id": "le1ZtfjshdZd",
        "colab_type": "text"
      },
      "source": [
        "## Installing Modules"
      ]
    },
    {
      "cell_type": "markdown",
      "metadata": {
        "id": "Z3Le7BKbfP8O",
        "colab_type": "text"
      },
      "source": [
        "`pip` is the package installer for Python. You can use pip to install packages from the Python Package Index and other indexes.\n",
        "\n",
        "You can execute terminal commands inside Jupyter Notebooks via using quotation mark.\n",
        "\n",
        "Numpy is one of the most popular python packages that enables powerful numerical operations with optimized functionality.\n",
        "\n",
        "<hr>"
      ]
    },
    {
      "cell_type": "code",
      "metadata": {
        "id": "8Tt5YpcWfR1i",
        "colab_type": "code",
        "colab": {
          "base_uri": "https://localhost:8080/",
          "height": 0
        },
        "outputId": "2ca5cc90-0b1f-4c61-ed22-ccbd912f38a8"
      },
      "source": [
        "!pip install numpy"
      ],
      "execution_count": 3,
      "outputs": [
        {
          "output_type": "stream",
          "text": [
            "Requirement already satisfied: numpy in /usr/local/lib/python3.6/dist-packages (1.18.5)\n"
          ],
          "name": "stdout"
        }
      ]
    },
    {
      "cell_type": "markdown",
      "metadata": {
        "id": "0kk1oJFQccej",
        "colab_type": "text"
      },
      "source": [
        "## Importing Modules"
      ]
    },
    {
      "cell_type": "markdown",
      "metadata": {
        "id": "qTSr2PAJclqo",
        "colab_type": "text"
      },
      "source": [
        "Modules are Python .py files that consist of Python code. Any Python file can be referenced as a module. A Python file called hello.py has the module name of hello that can be imported into other Python files or used on the Python command line interpreter. You can learn about creating your own modules by reading How To Write Modules in Python 3.\n",
        "\n",
        "Modules can define functions, classes, and variables that you can reference in other Python .py files or via the Python command line interpreter.\n",
        "\n",
        "In Python, modules are accessed by using the import statement. When you do this, you execute the code of the module, keeping the scopes of the definitions so that your current file(s) can make use of these.\n",
        "\n",
        "<hr>"
      ]
    },
    {
      "cell_type": "code",
      "metadata": {
        "id": "AFMg3ILsecj0",
        "colab_type": "code",
        "colab": {
          "base_uri": "https://localhost:8080/",
          "height": 0
        },
        "outputId": "e051685e-b904-4c97-faf6-0a99ee7d7017"
      },
      "source": [
        "import numpy as np\n",
        "\n",
        "print('Numpy version is ' + np.__version__)"
      ],
      "execution_count": 4,
      "outputs": [
        {
          "output_type": "stream",
          "text": [
            "Numpy version is 1.18.5\n"
          ],
          "name": "stdout"
        }
      ]
    },
    {
      "cell_type": "markdown",
      "metadata": {
        "id": "KrlV70n1gPuo",
        "colab_type": "text"
      },
      "source": [
        "## Python Objects, Basic Types, and Variables"
      ]
    },
    {
      "cell_type": "markdown",
      "metadata": {
        "id": "P6dvYEopccNK",
        "colab_type": "text"
      },
      "source": [
        "Everything in Python is an **object** and every object in Python has a **type**. Some of the basic types include:\n",
        "\n",
        "- **`int`** (integer; a whole number with no decimal place)\n",
        "  - `10`\n",
        "  - `-3`\n",
        "- **`float`** (float; a number that has a decimal place)\n",
        "  - `7.41`\n",
        "  - `-0.006`\n",
        "- **`str`** (string; a sequence of characters enclosed in single quotes, double quotes, or triple quotes)\n",
        "  - `'this is a string using single quotes'`\n",
        "  - `\"this is a string using double quotes\"`\n",
        "  - `'''this is a triple quoted string using single quotes'''`\n",
        "  - `\"\"\"this is a triple quoted string using double quotes\"\"\"`\n",
        "- **`bool`** (boolean; a binary value that is either true or false)\n",
        "  - `True`\n",
        "  - `False`\n",
        "- **`NoneType`** (a special type representing the absence of a value)\n",
        "  - `None`\n",
        "\n",
        "In Python, a **variable** is a name you specify in your code that maps to a particular **object**, object **instance**, or value.\n",
        "\n",
        "By defining variables, we can refer to things by names that make sense to us. Names for variables can only contain letters, underscores (`_`), or numbers (no spaces, dashes, or other characters). Variable names must start with a letter or underscore.\n",
        "\n",
        "<hr>"
      ]
    },
    {
      "cell_type": "markdown",
      "metadata": {
        "id": "xjmSLDJLh70O",
        "colab_type": "text"
      },
      "source": [
        "## Basic Operators\n"
      ]
    },
    {
      "cell_type": "markdown",
      "metadata": {
        "id": "p28xvfpbcuSz",
        "colab_type": "text"
      },
      "source": [
        "In Python, there are different types of **operators** (special symbols) that operate on different values. Some of the basic operators include:\n",
        "\n",
        "- arithmetic operators\n",
        "  - **`+`** (addition)\n",
        "  - **`-`** (subtraction)\n",
        "  - **`*`** (multiplication)\n",
        "  - **`/`** (division)\n",
        "  - __`**`__ (exponent)\n",
        "- assignment operators\n",
        "  - **`=`** (assign a value)\n",
        "  - **`+=`** (add and re-assign; increment)\n",
        "  - **`-=`** (subtract and re-assign; decrement)\n",
        "  - **`*=`** (multiply and re-assign)\n",
        "- comparison operators (return either `True` or `False`)\n",
        "  - **`==`** (equal to)\n",
        "  - **`!=`** (not equal to)\n",
        "  - **`<`** (less than)\n",
        "  - **`<=`** (less than or equal to)\n",
        "  - **`>`** (greater than)\n",
        "  - **`>=`** (greater than or equal to)\n",
        "\n",
        "When multiple operators are used in a single expression, **operator precedence** determines which parts of the expression are evaluated in which order. Operators with higher precedence are evaluated first (like PEMDAS in math). Operators with the same precedence are evaluated from left to right.\n",
        "\n",
        "- `()` parentheses, for grouping\n",
        "- `**` exponent\n",
        "- `*`, `/` multiplication and division\n",
        "- `+`, `-` addition and subtraction\n",
        "- `==`, `!=`, `<`, `<=`, `>`, `>=` comparisons\n",
        "\n",
        "> See https://docs.python.org/3/reference/expressions.html#operator-precedence\n",
        "\n",
        "<hr>"
      ]
    },
    {
      "cell_type": "code",
      "metadata": {
        "deletable": true,
        "editable": true,
        "id": "AgVJhGaSbCiK",
        "colab_type": "code",
        "colab": {}
      },
      "source": [
        "# Assigning some numbers to different variables\n",
        "num1 = 10\n",
        "num2 = -3\n",
        "num3 = 7.41\n",
        "num4 = -.6\n",
        "num5 = 7\n",
        "num6 = 3\n",
        "num7 = 11.11"
      ],
      "execution_count": 5,
      "outputs": []
    },
    {
      "cell_type": "code",
      "metadata": {
        "deletable": true,
        "editable": true,
        "id": "heVy0KxWbCiN",
        "colab_type": "code",
        "colab": {
          "base_uri": "https://localhost:8080/",
          "height": 0
        },
        "outputId": "9df0cb76-05c9-455c-8bec-fa0adfef3c38"
      },
      "source": [
        "# Addition\n",
        "num1 + num2"
      ],
      "execution_count": 6,
      "outputs": [
        {
          "output_type": "execute_result",
          "data": {
            "text/plain": [
              "7"
            ]
          },
          "metadata": {
            "tags": []
          },
          "execution_count": 6
        }
      ]
    },
    {
      "cell_type": "code",
      "metadata": {
        "deletable": true,
        "editable": true,
        "id": "6142V19abCiP",
        "colab_type": "code",
        "colab": {
          "base_uri": "https://localhost:8080/",
          "height": 0
        },
        "outputId": "782a35b0-4bc6-4654-800b-c20a673320e3"
      },
      "source": [
        "# Subtraction\n",
        "num2 - num3"
      ],
      "execution_count": 7,
      "outputs": [
        {
          "output_type": "execute_result",
          "data": {
            "text/plain": [
              "-10.41"
            ]
          },
          "metadata": {
            "tags": []
          },
          "execution_count": 7
        }
      ]
    },
    {
      "cell_type": "code",
      "metadata": {
        "deletable": true,
        "editable": true,
        "id": "KddwPUmObCiR",
        "colab_type": "code",
        "colab": {
          "base_uri": "https://localhost:8080/",
          "height": 0
        },
        "outputId": "351e4497-0c51-4999-fc8b-65d4848dc380"
      },
      "source": [
        "# Multiplication\n",
        "num3 * num4"
      ],
      "execution_count": 8,
      "outputs": [
        {
          "output_type": "execute_result",
          "data": {
            "text/plain": [
              "-4.446"
            ]
          },
          "metadata": {
            "tags": []
          },
          "execution_count": 8
        }
      ]
    },
    {
      "cell_type": "code",
      "metadata": {
        "deletable": true,
        "editable": true,
        "id": "iEwZU4wmbCiT",
        "colab_type": "code",
        "colab": {
          "base_uri": "https://localhost:8080/",
          "height": 0
        },
        "outputId": "2f021383-f207-4530-de92-54f156aa2f05"
      },
      "source": [
        "# Division\n",
        "num4 / num5"
      ],
      "execution_count": 9,
      "outputs": [
        {
          "output_type": "execute_result",
          "data": {
            "text/plain": [
              "-0.08571428571428572"
            ]
          },
          "metadata": {
            "tags": []
          },
          "execution_count": 9
        }
      ]
    },
    {
      "cell_type": "code",
      "metadata": {
        "deletable": true,
        "editable": true,
        "id": "hQjhpGKHbCiV",
        "colab_type": "code",
        "colab": {
          "base_uri": "https://localhost:8080/",
          "height": 0
        },
        "outputId": "305451ba-a349-4050-80fc-a2fa5574a5ec"
      },
      "source": [
        "# Exponent\n",
        "num5 ** num6"
      ],
      "execution_count": 10,
      "outputs": [
        {
          "output_type": "execute_result",
          "data": {
            "text/plain": [
              "343"
            ]
          },
          "metadata": {
            "tags": []
          },
          "execution_count": 10
        }
      ]
    },
    {
      "cell_type": "code",
      "metadata": {
        "deletable": true,
        "editable": true,
        "id": "-dHwedVfbCiX",
        "colab_type": "code",
        "colab": {
          "base_uri": "https://localhost:8080/",
          "height": 0
        },
        "outputId": "5f172b57-8be5-4d73-e519-ceded38957b8"
      },
      "source": [
        "# Increment existing variable\n",
        "num7 += 4\n",
        "num7"
      ],
      "execution_count": 11,
      "outputs": [
        {
          "output_type": "execute_result",
          "data": {
            "text/plain": [
              "15.11"
            ]
          },
          "metadata": {
            "tags": []
          },
          "execution_count": 11
        }
      ]
    },
    {
      "cell_type": "code",
      "metadata": {
        "deletable": true,
        "editable": true,
        "id": "vDM9AsyFbCiZ",
        "colab_type": "code",
        "colab": {
          "base_uri": "https://localhost:8080/",
          "height": 0
        },
        "outputId": "d02dbc4f-b7f9-4529-8eef-84a1bbbafb8a"
      },
      "source": [
        "# Decrement existing variable\n",
        "num6 -= 2\n",
        "num6"
      ],
      "execution_count": 12,
      "outputs": [
        {
          "output_type": "execute_result",
          "data": {
            "text/plain": [
              "1"
            ]
          },
          "metadata": {
            "tags": []
          },
          "execution_count": 12
        }
      ]
    },
    {
      "cell_type": "code",
      "metadata": {
        "deletable": true,
        "editable": true,
        "id": "56DfPkjNbCib",
        "colab_type": "code",
        "colab": {
          "base_uri": "https://localhost:8080/",
          "height": 0
        },
        "outputId": "52e31fc9-3b81-49ac-c27a-a911b7b4f7a8"
      },
      "source": [
        "# Multiply & re-assign\n",
        "num3 *= 5\n",
        "num3"
      ],
      "execution_count": 13,
      "outputs": [
        {
          "output_type": "execute_result",
          "data": {
            "text/plain": [
              "37.05"
            ]
          },
          "metadata": {
            "tags": []
          },
          "execution_count": 13
        }
      ]
    },
    {
      "cell_type": "code",
      "metadata": {
        "deletable": true,
        "editable": true,
        "id": "_Iwvl7esbCic",
        "colab_type": "code",
        "colab": {
          "base_uri": "https://localhost:8080/",
          "height": 0
        },
        "outputId": "77e71dff-7ab4-46ca-baa7-e96bccbd7458"
      },
      "source": [
        "# Assign the value of an expression to a variable\n",
        "num8 = num1 + num2 * num3\n",
        "num8"
      ],
      "execution_count": 14,
      "outputs": [
        {
          "output_type": "execute_result",
          "data": {
            "text/plain": [
              "-101.14999999999999"
            ]
          },
          "metadata": {
            "tags": []
          },
          "execution_count": 14
        }
      ]
    },
    {
      "cell_type": "code",
      "metadata": {
        "deletable": true,
        "editable": true,
        "id": "LYeZt43LbCie",
        "colab_type": "code",
        "colab": {
          "base_uri": "https://localhost:8080/",
          "height": 0
        },
        "outputId": "1c8664bb-39f2-44b1-cdf9-0e1842c88245"
      },
      "source": [
        "# Are these two expressions equal to each other?\n",
        "num1 + num2 == num5"
      ],
      "execution_count": 15,
      "outputs": [
        {
          "output_type": "execute_result",
          "data": {
            "text/plain": [
              "True"
            ]
          },
          "metadata": {
            "tags": []
          },
          "execution_count": 15
        }
      ]
    },
    {
      "cell_type": "code",
      "metadata": {
        "deletable": true,
        "editable": true,
        "id": "TaWsxtNsbCig",
        "colab_type": "code",
        "colab": {
          "base_uri": "https://localhost:8080/",
          "height": 0
        },
        "outputId": "8cdc2b42-d8bc-411c-f2a3-f3d59005c446"
      },
      "source": [
        "# Are these two expressions not equal to each other?\n",
        "num3 != num4"
      ],
      "execution_count": 16,
      "outputs": [
        {
          "output_type": "execute_result",
          "data": {
            "text/plain": [
              "True"
            ]
          },
          "metadata": {
            "tags": []
          },
          "execution_count": 16
        }
      ]
    },
    {
      "cell_type": "code",
      "metadata": {
        "deletable": true,
        "editable": true,
        "id": "oWO2tBBubCii",
        "colab_type": "code",
        "colab": {
          "base_uri": "https://localhost:8080/",
          "height": 0
        },
        "outputId": "12cd458a-300d-42c1-f0b6-e07beab1ddf9"
      },
      "source": [
        "# Is the first expression less than the second expression?\n",
        "num5 < num6"
      ],
      "execution_count": 17,
      "outputs": [
        {
          "output_type": "execute_result",
          "data": {
            "text/plain": [
              "False"
            ]
          },
          "metadata": {
            "tags": []
          },
          "execution_count": 17
        }
      ]
    },
    {
      "cell_type": "code",
      "metadata": {
        "deletable": true,
        "editable": true,
        "id": "7DZXIOGMbCij",
        "colab_type": "code",
        "colab": {
          "base_uri": "https://localhost:8080/",
          "height": 0
        },
        "outputId": "ce87ddb4-4e78-4698-aa09-4a272cc64935"
      },
      "source": [
        "# Is this expression True?\n",
        "5 > 3 > 1"
      ],
      "execution_count": 18,
      "outputs": [
        {
          "output_type": "execute_result",
          "data": {
            "text/plain": [
              "True"
            ]
          },
          "metadata": {
            "tags": []
          },
          "execution_count": 18
        }
      ]
    },
    {
      "cell_type": "code",
      "metadata": {
        "deletable": true,
        "editable": true,
        "id": "-L3oDMLFbCil",
        "colab_type": "code",
        "colab": {
          "base_uri": "https://localhost:8080/",
          "height": 0
        },
        "outputId": "2959c87d-cec8-42ac-8007-deadba1af6b7"
      },
      "source": [
        "# Is this expression True?\n",
        "5 > 3 < 4 == 3 + 1"
      ],
      "execution_count": 19,
      "outputs": [
        {
          "output_type": "execute_result",
          "data": {
            "text/plain": [
              "True"
            ]
          },
          "metadata": {
            "tags": []
          },
          "execution_count": 19
        }
      ]
    },
    {
      "cell_type": "code",
      "metadata": {
        "deletable": true,
        "editable": true,
        "id": "EyyPX_LibCin",
        "colab_type": "code",
        "colab": {}
      },
      "source": [
        "# Assign some strings to different variables\n",
        "simple_string1 = 'an example'\n",
        "simple_string2 = \"oranges \""
      ],
      "execution_count": 20,
      "outputs": []
    },
    {
      "cell_type": "code",
      "metadata": {
        "deletable": true,
        "editable": true,
        "id": "5AiIIaU9bCio",
        "colab_type": "code",
        "colab": {
          "base_uri": "https://localhost:8080/",
          "height": 0
        },
        "outputId": "cee88437-e369-4333-a73b-399731cea0d3"
      },
      "source": [
        "# Addition\n",
        "simple_string1 + ' of using the + operator'"
      ],
      "execution_count": 21,
      "outputs": [
        {
          "output_type": "execute_result",
          "data": {
            "application/vnd.google.colaboratory.intrinsic+json": {
              "type": "string"
            },
            "text/plain": [
              "'an example of using the + operator'"
            ]
          },
          "metadata": {
            "tags": []
          },
          "execution_count": 21
        }
      ]
    },
    {
      "cell_type": "code",
      "metadata": {
        "deletable": true,
        "editable": true,
        "id": "AINfYiW-bCiq",
        "colab_type": "code",
        "colab": {
          "base_uri": "https://localhost:8080/",
          "height": 0
        },
        "outputId": "795a4435-5780-47c2-aec9-9d6c165e866c"
      },
      "source": [
        "# Notice that the string was not modified\n",
        "simple_string1"
      ],
      "execution_count": 22,
      "outputs": [
        {
          "output_type": "execute_result",
          "data": {
            "application/vnd.google.colaboratory.intrinsic+json": {
              "type": "string"
            },
            "text/plain": [
              "'an example'"
            ]
          },
          "metadata": {
            "tags": []
          },
          "execution_count": 22
        }
      ]
    },
    {
      "cell_type": "code",
      "metadata": {
        "deletable": true,
        "editable": true,
        "id": "9fsKSQlGbCis",
        "colab_type": "code",
        "colab": {
          "base_uri": "https://localhost:8080/",
          "height": 0
        },
        "outputId": "62f184f2-11e6-4c8e-c7db-9f2a96d5b1d4"
      },
      "source": [
        "# Multiplication\n",
        "simple_string2 * 4"
      ],
      "execution_count": 23,
      "outputs": [
        {
          "output_type": "execute_result",
          "data": {
            "application/vnd.google.colaboratory.intrinsic+json": {
              "type": "string"
            },
            "text/plain": [
              "'oranges oranges oranges oranges '"
            ]
          },
          "metadata": {
            "tags": []
          },
          "execution_count": 23
        }
      ]
    },
    {
      "cell_type": "code",
      "metadata": {
        "deletable": true,
        "editable": true,
        "id": "bjztyXN5bCiu",
        "colab_type": "code",
        "colab": {
          "base_uri": "https://localhost:8080/",
          "height": 0
        },
        "outputId": "3237c0d9-ddbc-4a29-fedb-690e69f19f57"
      },
      "source": [
        "# This string wasn't modified either\n",
        "simple_string2"
      ],
      "execution_count": 24,
      "outputs": [
        {
          "output_type": "execute_result",
          "data": {
            "application/vnd.google.colaboratory.intrinsic+json": {
              "type": "string"
            },
            "text/plain": [
              "'oranges '"
            ]
          },
          "metadata": {
            "tags": []
          },
          "execution_count": 24
        }
      ]
    },
    {
      "cell_type": "code",
      "metadata": {
        "deletable": true,
        "editable": true,
        "id": "q43lFL27bCiv",
        "colab_type": "code",
        "colab": {
          "base_uri": "https://localhost:8080/",
          "height": 0
        },
        "outputId": "47a3855a-0daf-4551-f560-4a7d0a1a66c0"
      },
      "source": [
        "# Are these two expressions equal to each other?\n",
        "simple_string1 == simple_string2"
      ],
      "execution_count": 25,
      "outputs": [
        {
          "output_type": "execute_result",
          "data": {
            "text/plain": [
              "False"
            ]
          },
          "metadata": {
            "tags": []
          },
          "execution_count": 25
        }
      ]
    },
    {
      "cell_type": "code",
      "metadata": {
        "deletable": true,
        "editable": true,
        "id": "fCevnXFobCix",
        "colab_type": "code",
        "colab": {
          "base_uri": "https://localhost:8080/",
          "height": 0
        },
        "outputId": "550e7a2b-11db-4b99-8b3b-9ed81776a1c2"
      },
      "source": [
        "# Are these two expressions equal to each other?\n",
        "simple_string1 == 'an example'"
      ],
      "execution_count": 26,
      "outputs": [
        {
          "output_type": "execute_result",
          "data": {
            "text/plain": [
              "True"
            ]
          },
          "metadata": {
            "tags": []
          },
          "execution_count": 26
        }
      ]
    },
    {
      "cell_type": "code",
      "metadata": {
        "deletable": true,
        "editable": true,
        "id": "xBmU9P-hbCiy",
        "colab_type": "code",
        "colab": {
          "base_uri": "https://localhost:8080/",
          "height": 0
        },
        "outputId": "2f7e3dbf-c844-4a5a-9292-6291ea54a387"
      },
      "source": [
        "# Add and re-assign\n",
        "simple_string1 += ' that re-assigned the original string'\n",
        "simple_string1"
      ],
      "execution_count": 27,
      "outputs": [
        {
          "output_type": "execute_result",
          "data": {
            "application/vnd.google.colaboratory.intrinsic+json": {
              "type": "string"
            },
            "text/plain": [
              "'an example that re-assigned the original string'"
            ]
          },
          "metadata": {
            "tags": []
          },
          "execution_count": 27
        }
      ]
    },
    {
      "cell_type": "code",
      "metadata": {
        "deletable": true,
        "editable": true,
        "id": "uzx4wlIGbCi0",
        "colab_type": "code",
        "colab": {
          "base_uri": "https://localhost:8080/",
          "height": 0
        },
        "outputId": "f80bf297-fdac-48b8-d164-a8a2b462e945"
      },
      "source": [
        "# Multiply and re-assign\n",
        "simple_string2 *= 3\n",
        "simple_string2"
      ],
      "execution_count": 28,
      "outputs": [
        {
          "output_type": "execute_result",
          "data": {
            "application/vnd.google.colaboratory.intrinsic+json": {
              "type": "string"
            },
            "text/plain": [
              "'oranges oranges oranges '"
            ]
          },
          "metadata": {
            "tags": []
          },
          "execution_count": 28
        }
      ]
    },
    {
      "cell_type": "markdown",
      "metadata": {
        "id": "rHERAt3LYFjK",
        "colab_type": "text"
      },
      "source": [
        "##Strings"
      ]
    },
    {
      "cell_type": "markdown",
      "metadata": {
        "id": "Qok7a_4KYFjK",
        "colab_type": "text"
      },
      "source": [
        "Strings are ordered text based data which are represented by enclosing the same in single-double-triple quotes."
      ]
    },
    {
      "cell_type": "code",
      "metadata": {
        "id": "-oXxga0zYFjK",
        "colab_type": "code",
        "colab": {}
      },
      "source": [
        "String0 = 'Taj Mahal is beautiful'\n",
        "String1 = \"Taj Mahal is beautiful\"\n",
        "String2 = '''Taj Mahal\n",
        "is\n",
        "beautiful'''"
      ],
      "execution_count": 29,
      "outputs": []
    },
    {
      "cell_type": "code",
      "metadata": {
        "id": "s6uaL2XlYFjN",
        "colab_type": "code",
        "colab": {
          "base_uri": "https://localhost:8080/",
          "height": 102
        },
        "outputId": "bcb44eed-6dc3-4848-beed-49540e5bc5bc"
      },
      "source": [
        "print(String0 , type(String0))\n",
        "print(String1, type(String1))\n",
        "print(String2, type(String2))"
      ],
      "execution_count": 30,
      "outputs": [
        {
          "output_type": "stream",
          "text": [
            "Taj Mahal is beautiful <class 'str'>\n",
            "Taj Mahal is beautiful <class 'str'>\n",
            "Taj Mahal\n",
            "is\n",
            "beautiful <class 'str'>\n"
          ],
          "name": "stdout"
        }
      ]
    },
    {
      "cell_type": "markdown",
      "metadata": {
        "id": "Ac8du2juYFjQ",
        "colab_type": "text"
      },
      "source": [
        "String Indexing and Slicing are similar to Lists which was explained in detail earlier."
      ]
    },
    {
      "cell_type": "code",
      "metadata": {
        "id": "8ERZqVvcYFjQ",
        "colab_type": "code",
        "colab": {
          "base_uri": "https://localhost:8080/",
          "height": 51
        },
        "outputId": "73ea6b16-e6d3-49cd-a788-37459e579d1f"
      },
      "source": [
        "print(String0[4])\n",
        "print(String0[4:])"
      ],
      "execution_count": 31,
      "outputs": [
        {
          "output_type": "stream",
          "text": [
            "M\n",
            "Mahal is beautiful\n"
          ],
          "name": "stdout"
        }
      ]
    },
    {
      "cell_type": "markdown",
      "metadata": {
        "id": "KNxZvpB8YFjS",
        "colab_type": "text"
      },
      "source": [
        "###Built-in Functions"
      ]
    },
    {
      "cell_type": "markdown",
      "metadata": {
        "id": "7bE65Vg_YFjS",
        "colab_type": "text"
      },
      "source": [
        "**find( )** function returns the index value of the given data that is to found in the string. If it is not found it returns **-1**. Remember to not confuse the returned -1 for reverse indexing value."
      ]
    },
    {
      "cell_type": "code",
      "metadata": {
        "id": "bdfHCN07YFjS",
        "colab_type": "code",
        "colab": {
          "base_uri": "https://localhost:8080/",
          "height": 51
        },
        "outputId": "3303064c-2a05-4747-d858-7baed6d40101"
      },
      "source": [
        "print(String0.find('al'))\n",
        "print(String0.find('am'))"
      ],
      "execution_count": 32,
      "outputs": [
        {
          "output_type": "stream",
          "text": [
            "7\n",
            "-1\n"
          ],
          "name": "stdout"
        }
      ]
    },
    {
      "cell_type": "markdown",
      "metadata": {
        "id": "XloKFwihYFjU",
        "colab_type": "text"
      },
      "source": [
        "The index value returned is the index of the first element in the input data."
      ]
    },
    {
      "cell_type": "code",
      "metadata": {
        "id": "-gMIvaVNYFjV",
        "colab_type": "code",
        "colab": {
          "base_uri": "https://localhost:8080/",
          "height": 34
        },
        "outputId": "644b2b8a-bf4d-4671-9b81-7fd8bd29deb6"
      },
      "source": [
        "print(String0[7])"
      ],
      "execution_count": 33,
      "outputs": [
        {
          "output_type": "stream",
          "text": [
            "a\n"
          ],
          "name": "stdout"
        }
      ]
    },
    {
      "cell_type": "markdown",
      "metadata": {
        "id": "tLe6KYRBYFjX",
        "colab_type": "text"
      },
      "source": [
        "One can also input **find( )** function between which index values it has to search."
      ]
    },
    {
      "cell_type": "code",
      "metadata": {
        "id": "h1q33ot8YFjX",
        "colab_type": "code",
        "colab": {
          "base_uri": "https://localhost:8080/",
          "height": 51
        },
        "outputId": "23dc017c-a942-4085-d4c8-b45112826c7d"
      },
      "source": [
        "print(String0.find('j',1))\n",
        "print(String0.find('j',1,3))"
      ],
      "execution_count": 34,
      "outputs": [
        {
          "output_type": "stream",
          "text": [
            "2\n",
            "2\n"
          ],
          "name": "stdout"
        }
      ]
    },
    {
      "cell_type": "markdown",
      "metadata": {
        "id": "zBa7cwOsYFjZ",
        "colab_type": "text"
      },
      "source": [
        "**capitalize( )** is used to capitalize the first element in the string."
      ]
    },
    {
      "cell_type": "code",
      "metadata": {
        "id": "45W-dC67YFjZ",
        "colab_type": "code",
        "colab": {
          "base_uri": "https://localhost:8080/",
          "height": 34
        },
        "outputId": "e64a0afa-3344-4071-cb42-ebaa6d4bba51"
      },
      "source": [
        "String3 = 'observe the first letter in this sentence.'\n",
        "print(String3.capitalize())"
      ],
      "execution_count": 35,
      "outputs": [
        {
          "output_type": "stream",
          "text": [
            "Observe the first letter in this sentence.\n"
          ],
          "name": "stdout"
        }
      ]
    },
    {
      "cell_type": "markdown",
      "metadata": {
        "id": "O3zUWYLVYFjb",
        "colab_type": "text"
      },
      "source": [
        "**center( )** is used to center align the string by specifying the field width."
      ]
    },
    {
      "cell_type": "code",
      "metadata": {
        "id": "TipuFfV-YFjb",
        "colab_type": "code",
        "colab": {
          "base_uri": "https://localhost:8080/",
          "height": 35
        },
        "outputId": "4cb49b45-1418-4bf1-ffb0-c84a472e620e"
      },
      "source": [
        "String0.center(70)"
      ],
      "execution_count": 36,
      "outputs": [
        {
          "output_type": "execute_result",
          "data": {
            "application/vnd.google.colaboratory.intrinsic+json": {
              "type": "string"
            },
            "text/plain": [
              "'                        Taj Mahal is beautiful                        '"
            ]
          },
          "metadata": {
            "tags": []
          },
          "execution_count": 36
        }
      ]
    },
    {
      "cell_type": "markdown",
      "metadata": {
        "id": "JHNLsTmjYFjd",
        "colab_type": "text"
      },
      "source": [
        "One can also fill the left out spaces with any other character."
      ]
    },
    {
      "cell_type": "code",
      "metadata": {
        "id": "pYMJ2MEXYFjd",
        "colab_type": "code",
        "colab": {
          "base_uri": "https://localhost:8080/",
          "height": 35
        },
        "outputId": "334cefe9-2d1e-440d-84e4-3de59667658b"
      },
      "source": [
        "String0.center(70,'-')"
      ],
      "execution_count": 37,
      "outputs": [
        {
          "output_type": "execute_result",
          "data": {
            "application/vnd.google.colaboratory.intrinsic+json": {
              "type": "string"
            },
            "text/plain": [
              "'------------------------Taj Mahal is beautiful------------------------'"
            ]
          },
          "metadata": {
            "tags": []
          },
          "execution_count": 37
        }
      ]
    },
    {
      "cell_type": "markdown",
      "metadata": {
        "id": "oiNDdDlJYFjf",
        "colab_type": "text"
      },
      "source": [
        "**zfill( )** is used for zero padding by specifying the field width."
      ]
    },
    {
      "cell_type": "code",
      "metadata": {
        "id": "WS_9_fIyYFjg",
        "colab_type": "code",
        "colab": {
          "base_uri": "https://localhost:8080/",
          "height": 35
        },
        "outputId": "fc09b950-2f57-4294-96cc-4f9d8a1d9ec6"
      },
      "source": [
        "String0.zfill(30)"
      ],
      "execution_count": 38,
      "outputs": [
        {
          "output_type": "execute_result",
          "data": {
            "application/vnd.google.colaboratory.intrinsic+json": {
              "type": "string"
            },
            "text/plain": [
              "'00000000Taj Mahal is beautiful'"
            ]
          },
          "metadata": {
            "tags": []
          },
          "execution_count": 38
        }
      ]
    },
    {
      "cell_type": "markdown",
      "metadata": {
        "id": "j4QA6gPjYFji",
        "colab_type": "text"
      },
      "source": [
        "**expandtabs( )** allows you to change the spacing of the tab character. '\\t' which is by default set to 8 spaces."
      ]
    },
    {
      "cell_type": "code",
      "metadata": {
        "id": "BU9GVi56YFji",
        "colab_type": "code",
        "colab": {
          "base_uri": "https://localhost:8080/",
          "height": 68
        },
        "outputId": "73790183-7c36-4862-9290-53bdfa9016e0"
      },
      "source": [
        "s = 'h\\te\\tl\\tl\\to'\n",
        "print(s)\n",
        "print(s.expandtabs(1))\n",
        "print(s.expandtabs())"
      ],
      "execution_count": 39,
      "outputs": [
        {
          "output_type": "stream",
          "text": [
            "h\te\tl\tl\to\n",
            "h e l l o\n",
            "h       e       l       l       o\n"
          ],
          "name": "stdout"
        }
      ]
    },
    {
      "cell_type": "markdown",
      "metadata": {
        "collapsed": true,
        "id": "nqf4yuvwYFjk",
        "colab_type": "text"
      },
      "source": [
        "**index( )** works the same way as **find( )** function the only difference is find returns '-1' when the input element is not found in the string but **index( )** function throws a ValueError"
      ]
    },
    {
      "cell_type": "code",
      "metadata": {
        "id": "LKpyPs7oYFjk",
        "colab_type": "code",
        "colab": {
          "base_uri": "https://localhost:8080/",
          "height": 51
        },
        "outputId": "9a14e8d3-759e-4f7e-821b-bc24a1a32d62"
      },
      "source": [
        "print(String0.index('Taj'))\n",
        "print(String0.index('Mahal',0))\n",
        "# print(String0.index('Mahal',10,20))"
      ],
      "execution_count": 40,
      "outputs": [
        {
          "output_type": "stream",
          "text": [
            "0\n",
            "4\n"
          ],
          "name": "stdout"
        }
      ]
    },
    {
      "cell_type": "markdown",
      "metadata": {
        "collapsed": false,
        "id": "meY1Yq2lYFjl",
        "colab_type": "text"
      },
      "source": [
        "**endswith( )** function is used to check if the given string ends with the particular char which is given as input."
      ]
    },
    {
      "cell_type": "code",
      "metadata": {
        "id": "T7K9wYAqYFjm",
        "colab_type": "code",
        "colab": {
          "base_uri": "https://localhost:8080/",
          "height": 34
        },
        "outputId": "c207de92-801b-47b7-9f3b-583c584f968f"
      },
      "source": [
        "print(String0.endswith('y'))"
      ],
      "execution_count": 41,
      "outputs": [
        {
          "output_type": "stream",
          "text": [
            "False\n"
          ],
          "name": "stdout"
        }
      ]
    },
    {
      "cell_type": "markdown",
      "metadata": {
        "id": "avi0x6vPYFjo",
        "colab_type": "text"
      },
      "source": [
        "The start and stop index values can also be specified."
      ]
    },
    {
      "cell_type": "code",
      "metadata": {
        "id": "7eGTNNEfYFjo",
        "colab_type": "code",
        "colab": {
          "base_uri": "https://localhost:8080/",
          "height": 51
        },
        "outputId": "64db254c-9230-4c70-fb3d-96752a465c0a"
      },
      "source": [
        "print(String0.endswith('l',0))\n",
        "print(String0.endswith('M',0,5))"
      ],
      "execution_count": 42,
      "outputs": [
        {
          "output_type": "stream",
          "text": [
            "True\n",
            "True\n"
          ],
          "name": "stdout"
        }
      ]
    },
    {
      "cell_type": "markdown",
      "metadata": {
        "id": "-7ceoDRaYFjq",
        "colab_type": "text"
      },
      "source": [
        "**count( )** function counts the number of char in the given string. The start and the stop index can also be specified or left blank. (These are Implicit arguments which will be dealt in functions)"
      ]
    },
    {
      "cell_type": "code",
      "metadata": {
        "id": "G5T5zP-CYFjq",
        "colab_type": "code",
        "colab": {
          "base_uri": "https://localhost:8080/",
          "height": 51
        },
        "outputId": "42a72709-3282-4db7-b882-b54cf894a1ce"
      },
      "source": [
        "print(String0.count('a',0))\n",
        "print(String0.count('a',5,10))"
      ],
      "execution_count": 43,
      "outputs": [
        {
          "output_type": "stream",
          "text": [
            "4\n",
            "2\n"
          ],
          "name": "stdout"
        }
      ]
    },
    {
      "cell_type": "markdown",
      "metadata": {
        "collapsed": false,
        "id": "K7r08N4rYFju",
        "colab_type": "text"
      },
      "source": [
        "**join( )** function is used add a char in between the elements of the input string."
      ]
    },
    {
      "cell_type": "code",
      "metadata": {
        "id": "bhH4pz-PYFju",
        "colab_type": "code",
        "colab": {
          "base_uri": "https://localhost:8080/",
          "height": 35
        },
        "outputId": "c3f9dd51-44a4-4843-d66d-9026e554ed56"
      },
      "source": [
        "'a'.join('*_-')"
      ],
      "execution_count": 44,
      "outputs": [
        {
          "output_type": "execute_result",
          "data": {
            "application/vnd.google.colaboratory.intrinsic+json": {
              "type": "string"
            },
            "text/plain": [
              "'*a_a-'"
            ]
          },
          "metadata": {
            "tags": []
          },
          "execution_count": 44
        }
      ]
    },
    {
      "cell_type": "markdown",
      "metadata": {
        "id": "2ucgBoPIYFjv",
        "colab_type": "text"
      },
      "source": [
        "'*_-' is the input string and char 'a' is added in between each element"
      ]
    },
    {
      "cell_type": "markdown",
      "metadata": {
        "id": "0FnFjQmrYFjw",
        "colab_type": "text"
      },
      "source": [
        "**join( )** function can also be used to convert a list into a string."
      ]
    },
    {
      "cell_type": "code",
      "metadata": {
        "id": "19O5nb59YFjw",
        "colab_type": "code",
        "colab": {
          "base_uri": "https://localhost:8080/",
          "height": 51
        },
        "outputId": "a3ad30f0-640f-49eb-f3d9-ab3e6f736d5b"
      },
      "source": [
        "a = list(String0)\n",
        "print(a)\n",
        "b = ''.join(a)\n",
        "print(b)"
      ],
      "execution_count": 45,
      "outputs": [
        {
          "output_type": "stream",
          "text": [
            "['T', 'a', 'j', ' ', 'M', 'a', 'h', 'a', 'l', ' ', 'i', 's', ' ', 'b', 'e', 'a', 'u', 't', 'i', 'f', 'u', 'l']\n",
            "Taj Mahal is beautiful\n"
          ],
          "name": "stdout"
        }
      ]
    },
    {
      "cell_type": "markdown",
      "metadata": {
        "id": "TH4gGQjXYFjx",
        "colab_type": "text"
      },
      "source": [
        "Before converting it into a string **join( )** function can be used to insert any char in between the list elements."
      ]
    },
    {
      "cell_type": "code",
      "metadata": {
        "id": "XjQNyO10YFjy",
        "colab_type": "code",
        "colab": {
          "base_uri": "https://localhost:8080/",
          "height": 34
        },
        "outputId": "9815f582-336a-479c-90d4-219526ca6a37"
      },
      "source": [
        "c = '/'.join(a)[18:]\n",
        "print(c)"
      ],
      "execution_count": 46,
      "outputs": [
        {
          "output_type": "stream",
          "text": [
            " /i/s/ /b/e/a/u/t/i/f/u/l\n"
          ],
          "name": "stdout"
        }
      ]
    },
    {
      "cell_type": "markdown",
      "metadata": {
        "collapsed": false,
        "id": "BVrLp9z2YFjz",
        "colab_type": "text"
      },
      "source": [
        "**split( )** function is used to convert a string back to a list. Think of it as the opposite of the **join()** function."
      ]
    },
    {
      "cell_type": "code",
      "metadata": {
        "id": "mveoYHPRYFjz",
        "colab_type": "code",
        "colab": {
          "base_uri": "https://localhost:8080/",
          "height": 34
        },
        "outputId": "5f44d9a3-353f-4413-c8ba-7fa8b3fe0809"
      },
      "source": [
        "d = c.split('/')\n",
        "print(d)"
      ],
      "execution_count": 47,
      "outputs": [
        {
          "output_type": "stream",
          "text": [
            "[' ', 'i', 's', ' ', 'b', 'e', 'a', 'u', 't', 'i', 'f', 'u', 'l']\n"
          ],
          "name": "stdout"
        }
      ]
    },
    {
      "cell_type": "markdown",
      "metadata": {
        "id": "WP0XquYHYFj1",
        "colab_type": "text"
      },
      "source": [
        "In **split( )** function one can also specify the number of times you want to split the string or the number of elements the new returned list should conatin. The number of elements is always one more than the specified number this is because it is split the number of times specified."
      ]
    },
    {
      "cell_type": "code",
      "metadata": {
        "id": "dMm6LKOJYFj1",
        "colab_type": "code",
        "colab": {
          "base_uri": "https://localhost:8080/",
          "height": 51
        },
        "outputId": "749777dc-383a-4176-cac2-ac6f05453e71"
      },
      "source": [
        "e = c.split('/',3)\n",
        "print(e)\n",
        "print(len(e))"
      ],
      "execution_count": 48,
      "outputs": [
        {
          "output_type": "stream",
          "text": [
            "[' ', 'i', 's', ' /b/e/a/u/t/i/f/u/l']\n",
            "4\n"
          ],
          "name": "stdout"
        }
      ]
    },
    {
      "cell_type": "markdown",
      "metadata": {
        "id": "qfryX49IYFj2",
        "colab_type": "text"
      },
      "source": [
        "**lower( )** converts any capital letter to small letter."
      ]
    },
    {
      "cell_type": "code",
      "metadata": {
        "id": "8Xkp_WnwYFj3",
        "colab_type": "code",
        "colab": {
          "base_uri": "https://localhost:8080/",
          "height": 51
        },
        "outputId": "3170138d-e6be-4828-9049-007b78eb1217"
      },
      "source": [
        "print(String0)\n",
        "print(String0.lower())"
      ],
      "execution_count": 49,
      "outputs": [
        {
          "output_type": "stream",
          "text": [
            "Taj Mahal is beautiful\n",
            "taj mahal is beautiful\n"
          ],
          "name": "stdout"
        }
      ]
    },
    {
      "cell_type": "markdown",
      "metadata": {
        "id": "2UByPjLdYFj5",
        "colab_type": "text"
      },
      "source": [
        "**upper( )** converts any small letter to capital letter."
      ]
    },
    {
      "cell_type": "code",
      "metadata": {
        "id": "lK2R2pVDYFj5",
        "colab_type": "code",
        "colab": {
          "base_uri": "https://localhost:8080/",
          "height": 35
        },
        "outputId": "9aea8162-2d49-4e47-f309-ffee5a0c05ec"
      },
      "source": [
        "String0.upper()"
      ],
      "execution_count": 50,
      "outputs": [
        {
          "output_type": "execute_result",
          "data": {
            "application/vnd.google.colaboratory.intrinsic+json": {
              "type": "string"
            },
            "text/plain": [
              "'TAJ MAHAL IS BEAUTIFUL'"
            ]
          },
          "metadata": {
            "tags": []
          },
          "execution_count": 50
        }
      ]
    },
    {
      "cell_type": "markdown",
      "metadata": {
        "id": "ddfTZRopYFj7",
        "colab_type": "text"
      },
      "source": [
        "**replace( )** function replaces the element with another element."
      ]
    },
    {
      "cell_type": "code",
      "metadata": {
        "id": "g9MtPCwdYFj7",
        "colab_type": "code",
        "colab": {
          "base_uri": "https://localhost:8080/",
          "height": 35
        },
        "outputId": "8b25c7bb-27a6-47bf-8d0f-3bf8c3ac2e20"
      },
      "source": [
        "String0.replace('Taj Mahal','Bengaluru')"
      ],
      "execution_count": 51,
      "outputs": [
        {
          "output_type": "execute_result",
          "data": {
            "application/vnd.google.colaboratory.intrinsic+json": {
              "type": "string"
            },
            "text/plain": [
              "'Bengaluru is beautiful'"
            ]
          },
          "metadata": {
            "tags": []
          },
          "execution_count": 51
        }
      ]
    },
    {
      "cell_type": "markdown",
      "metadata": {
        "id": "kjHCChmPYFj8",
        "colab_type": "text"
      },
      "source": [
        "**strip( )** function is used to delete elements from the right end and the left end which is not required."
      ]
    },
    {
      "cell_type": "code",
      "metadata": {
        "id": "kEDiEhDCYFj8",
        "colab_type": "code",
        "colab": {}
      },
      "source": [
        "f = '    hello      '"
      ],
      "execution_count": 52,
      "outputs": []
    },
    {
      "cell_type": "markdown",
      "metadata": {
        "id": "KKt6UpFTYFj-",
        "colab_type": "text"
      },
      "source": [
        "If no char is specified then it will delete all the spaces that is present in the right and left hand side of the data."
      ]
    },
    {
      "cell_type": "code",
      "metadata": {
        "id": "DwD7zfcfYFj-",
        "colab_type": "code",
        "colab": {
          "base_uri": "https://localhost:8080/",
          "height": 35
        },
        "outputId": "a0e6e23c-0a01-4c2b-f186-e436863a105f"
      },
      "source": [
        "f.strip()"
      ],
      "execution_count": 53,
      "outputs": [
        {
          "output_type": "execute_result",
          "data": {
            "application/vnd.google.colaboratory.intrinsic+json": {
              "type": "string"
            },
            "text/plain": [
              "'hello'"
            ]
          },
          "metadata": {
            "tags": []
          },
          "execution_count": 53
        }
      ]
    },
    {
      "cell_type": "markdown",
      "metadata": {
        "id": "yk8kubf1YFkA",
        "colab_type": "text"
      },
      "source": [
        "**strip( )** function, when a char is specified then it deletes that char if it is present in the two ends of the specified string."
      ]
    },
    {
      "cell_type": "code",
      "metadata": {
        "id": "HXL9PJMjYFkA",
        "colab_type": "code",
        "colab": {}
      },
      "source": [
        "f = '   ***----hello---*******     '"
      ],
      "execution_count": 54,
      "outputs": []
    },
    {
      "cell_type": "code",
      "metadata": {
        "id": "5nnPqlvaYFkC",
        "colab_type": "code",
        "colab": {
          "base_uri": "https://localhost:8080/",
          "height": 35
        },
        "outputId": "6c3b0f6e-0dba-4749-ddfc-17c09da0c278"
      },
      "source": [
        "f.strip('*')"
      ],
      "execution_count": 55,
      "outputs": [
        {
          "output_type": "execute_result",
          "data": {
            "application/vnd.google.colaboratory.intrinsic+json": {
              "type": "string"
            },
            "text/plain": [
              "'   ***----hello---*******     '"
            ]
          },
          "metadata": {
            "tags": []
          },
          "execution_count": 55
        }
      ]
    },
    {
      "cell_type": "markdown",
      "metadata": {
        "id": "R_1Iu9bAYFkD",
        "colab_type": "text"
      },
      "source": [
        "The asterisk had to be deleted but is not. This is because there is a space in both the right and left hand side. So in strip function. The characters need to be inputted in the specific order in which they are present."
      ]
    },
    {
      "cell_type": "code",
      "metadata": {
        "id": "C-6pKKTlYFkD",
        "colab_type": "code",
        "colab": {
          "base_uri": "https://localhost:8080/",
          "height": 51
        },
        "outputId": "5d61c450-5770-4616-9be8-75585abe9ef3"
      },
      "source": [
        "print(f.strip(' *'))\n",
        "print(f.strip(' *-'))"
      ],
      "execution_count": 56,
      "outputs": [
        {
          "output_type": "stream",
          "text": [
            "----hello---\n",
            "hello\n"
          ],
          "name": "stdout"
        }
      ]
    },
    {
      "cell_type": "markdown",
      "metadata": {
        "collapsed": false,
        "id": "oJmM-sLRYFkF",
        "colab_type": "text"
      },
      "source": [
        "**lstrip( )** and **rstrip( )** function have the same functionality as strip function but the only difference is **lstrip( )** deletes only towards the left side and **rstrip( )** towards the right."
      ]
    },
    {
      "cell_type": "code",
      "metadata": {
        "id": "SRt-LfASYFkF",
        "colab_type": "code",
        "colab": {
          "base_uri": "https://localhost:8080/",
          "height": 51
        },
        "outputId": "e0b3efa2-1f8f-4b0c-da71-44b9ba52419e"
      },
      "source": [
        "print(f.lstrip(' *'))\n",
        "print(f.rstrip(' *'))"
      ],
      "execution_count": 57,
      "outputs": [
        {
          "output_type": "stream",
          "text": [
            "----hello---*******     \n",
            "   ***----hello---\n"
          ],
          "name": "stdout"
        }
      ]
    },
    {
      "cell_type": "markdown",
      "metadata": {
        "id": "YXO92zcdq_ND",
        "colab_type": "text"
      },
      "source": [
        "##Lists"
      ]
    },
    {
      "cell_type": "markdown",
      "metadata": {
        "id": "3RIPA6GxrDtH",
        "colab_type": "text"
      },
      "source": [
        "Lists are the most commonly used data structure. Think of it as a sequence of data that is enclosed in square brackets and data are separated by a comma. Each of these data can be accessed by calling it's index value.\n",
        "\n",
        "Lists are declared by just equating a variable to '[ ]' or list."
      ]
    },
    {
      "cell_type": "code",
      "metadata": {
        "id": "M4Jb-BAtXveG",
        "colab_type": "code",
        "colab": {}
      },
      "source": [
        "a = []"
      ],
      "execution_count": 58,
      "outputs": []
    },
    {
      "cell_type": "code",
      "metadata": {
        "id": "d-w1kFkFXveJ",
        "colab_type": "code",
        "colab": {
          "base_uri": "https://localhost:8080/",
          "height": 0
        },
        "outputId": "127fff58-4891-4d8d-87d4-4c6001eacd96"
      },
      "source": [
        "print(type(a))"
      ],
      "execution_count": 59,
      "outputs": [
        {
          "output_type": "stream",
          "text": [
            "<class 'list'>\n"
          ],
          "name": "stdout"
        }
      ]
    },
    {
      "cell_type": "markdown",
      "metadata": {
        "id": "nrgEIUMlXveL",
        "colab_type": "text"
      },
      "source": [
        "One can directly assign the sequence of data to a list x as shown."
      ]
    },
    {
      "cell_type": "code",
      "metadata": {
        "id": "tqggt5TTXveM",
        "colab_type": "code",
        "colab": {}
      },
      "source": [
        "x = ['apple', 'orange']"
      ],
      "execution_count": 60,
      "outputs": []
    },
    {
      "cell_type": "markdown",
      "metadata": {
        "id": "pNTSIPtLXveN",
        "colab_type": "text"
      },
      "source": [
        "### Indexing"
      ]
    },
    {
      "cell_type": "markdown",
      "metadata": {
        "id": "PAAf0stdXveO",
        "colab_type": "text"
      },
      "source": [
        "In python, Indexing starts from 0. Thus now the list x, which has two elements will have apple at 0 index and orange at 1 index."
      ]
    },
    {
      "cell_type": "code",
      "metadata": {
        "id": "JCSUqIJMXveO",
        "colab_type": "code",
        "colab": {
          "base_uri": "https://localhost:8080/",
          "height": 0
        },
        "outputId": "aea90e88-7cb9-4e23-e513-23cc79b6c99b"
      },
      "source": [
        "x[0]"
      ],
      "execution_count": 61,
      "outputs": [
        {
          "output_type": "execute_result",
          "data": {
            "application/vnd.google.colaboratory.intrinsic+json": {
              "type": "string"
            },
            "text/plain": [
              "'apple'"
            ]
          },
          "metadata": {
            "tags": []
          },
          "execution_count": 61
        }
      ]
    },
    {
      "cell_type": "markdown",
      "metadata": {
        "id": "qqueUvIgXveQ",
        "colab_type": "text"
      },
      "source": [
        "Indexing can also be done in reverse order. That is the last element can be accessed first. Here, indexing starts from -1. Thus index value -1 will be orange and index -2 will be apple."
      ]
    },
    {
      "cell_type": "code",
      "metadata": {
        "id": "RHaHiYv2XveQ",
        "colab_type": "code",
        "colab": {
          "base_uri": "https://localhost:8080/",
          "height": 0
        },
        "outputId": "eb29e218-f633-4537-e6b3-8c2ad6614b0c"
      },
      "source": [
        "x[-1]"
      ],
      "execution_count": 62,
      "outputs": [
        {
          "output_type": "execute_result",
          "data": {
            "application/vnd.google.colaboratory.intrinsic+json": {
              "type": "string"
            },
            "text/plain": [
              "'orange'"
            ]
          },
          "metadata": {
            "tags": []
          },
          "execution_count": 62
        }
      ]
    },
    {
      "cell_type": "markdown",
      "metadata": {
        "id": "NaSQv4iHXveU",
        "colab_type": "text"
      },
      "source": [
        "As you might have already guessed, x[0] = x[-2], x[1] = x[-1]. This concept can be extended towards lists with more many elements."
      ]
    },
    {
      "cell_type": "code",
      "metadata": {
        "id": "t_fESJroXveV",
        "colab_type": "code",
        "colab": {}
      },
      "source": [
        "y = ['carrot','potato']"
      ],
      "execution_count": 63,
      "outputs": []
    },
    {
      "cell_type": "markdown",
      "metadata": {
        "id": "VpmDULfsXveW",
        "colab_type": "text"
      },
      "source": [
        "Here we have declared two lists x and y each containing its own data. Now, these two lists can again be put into another list say z which will have it's data as two lists. This list inside a list is called as nested lists and is how an array would be declared which we will see later."
      ]
    },
    {
      "cell_type": "code",
      "metadata": {
        "id": "npbo_ChGXveX",
        "colab_type": "code",
        "colab": {
          "base_uri": "https://localhost:8080/",
          "height": 0
        },
        "outputId": "ba1a585f-a020-4e9b-8c98-036a4e01c52e"
      },
      "source": [
        "z  = [x,y]\n",
        "print(z)"
      ],
      "execution_count": 64,
      "outputs": [
        {
          "output_type": "stream",
          "text": [
            "[['apple', 'orange'], ['carrot', 'potato']]\n"
          ],
          "name": "stdout"
        }
      ]
    },
    {
      "cell_type": "markdown",
      "metadata": {
        "id": "jtoDQMkLXveY",
        "colab_type": "text"
      },
      "source": [
        "Indexing in nested lists can be quite confusing if you do not understand how indexing works in python. So let us break it down and then arrive at a conclusion.\n",
        "\n",
        "Let us access the data 'apple' in the above nested list.\n",
        "First, at index 0 there is a list ['apple','orange'] and at index 1 there is another list ['carrot','potato']. Hence z[0] should give us the first list which contains 'apple'."
      ]
    },
    {
      "cell_type": "code",
      "metadata": {
        "id": "CnHfoAHCXveZ",
        "colab_type": "code",
        "colab": {
          "base_uri": "https://localhost:8080/",
          "height": 0
        },
        "outputId": "5ea58d3c-0038-4820-8bc7-28ae702ddbf2"
      },
      "source": [
        "z1 = z[0]\n",
        "print(z1)"
      ],
      "execution_count": 65,
      "outputs": [
        {
          "output_type": "stream",
          "text": [
            "['apple', 'orange']\n"
          ],
          "name": "stdout"
        }
      ]
    },
    {
      "cell_type": "markdown",
      "metadata": {
        "id": "T1bE6rv_Xvea",
        "colab_type": "text"
      },
      "source": [
        "Now observe that z1 is not at all a nested list thus to access 'apple', z1 should be indexed at 0."
      ]
    },
    {
      "cell_type": "code",
      "metadata": {
        "id": "e8r_bIXLXveb",
        "colab_type": "code",
        "colab": {
          "base_uri": "https://localhost:8080/",
          "height": 0
        },
        "outputId": "66f5e45c-ff3c-47e2-f12a-ca9acd994e50"
      },
      "source": [
        "z1[0]"
      ],
      "execution_count": 66,
      "outputs": [
        {
          "output_type": "execute_result",
          "data": {
            "application/vnd.google.colaboratory.intrinsic+json": {
              "type": "string"
            },
            "text/plain": [
              "'apple'"
            ]
          },
          "metadata": {
            "tags": []
          },
          "execution_count": 66
        }
      ]
    },
    {
      "cell_type": "markdown",
      "metadata": {
        "id": "VZkjDVZEXvec",
        "colab_type": "text"
      },
      "source": [
        "Instead of doing the above, In python, you can access 'apple' by just writing the index values each time side by side."
      ]
    },
    {
      "cell_type": "code",
      "metadata": {
        "id": "MEVxdF_tXved",
        "colab_type": "code",
        "colab": {
          "base_uri": "https://localhost:8080/",
          "height": 0
        },
        "outputId": "ac69b091-3d8b-4227-9530-9e7ac0ad7743"
      },
      "source": [
        "z[0][0]"
      ],
      "execution_count": 67,
      "outputs": [
        {
          "output_type": "execute_result",
          "data": {
            "application/vnd.google.colaboratory.intrinsic+json": {
              "type": "string"
            },
            "text/plain": [
              "'apple'"
            ]
          },
          "metadata": {
            "tags": []
          },
          "execution_count": 67
        }
      ]
    },
    {
      "cell_type": "markdown",
      "metadata": {
        "id": "gIVhqwRvXvee",
        "colab_type": "text"
      },
      "source": [
        "If there was a list inside a list inside a list then you can access the innermost value by executing z[ ][ ][ ]."
      ]
    },
    {
      "cell_type": "markdown",
      "metadata": {
        "id": "I23fW2V9Xvef",
        "colab_type": "text"
      },
      "source": [
        "### Slicing"
      ]
    },
    {
      "cell_type": "markdown",
      "metadata": {
        "id": "uho0g_CVXvef",
        "colab_type": "text"
      },
      "source": [
        "Indexing was only limited to accessing a single element, Slicing on the other hand is accessing a sequence of data inside the list. In other words \"slicing\" the list.\n",
        "\n",
        "Slicing is done by defining the index values of the first element and the last element from the parent list that is required in the sliced list. It is written as parentlist[ a : b ] where a,b are the index values from the parent list. If a or b is not defined then the index value is considered to be the first value for a if a is not defined and the last value for b when b is not defined."
      ]
    },
    {
      "cell_type": "code",
      "metadata": {
        "id": "ztL9WV3OXvef",
        "colab_type": "code",
        "colab": {}
      },
      "source": [
        "num = [0,1,2,3,4,5,6,7,8,9]"
      ],
      "execution_count": 68,
      "outputs": []
    },
    {
      "cell_type": "code",
      "metadata": {
        "id": "Z3FC5DarXveh",
        "colab_type": "code",
        "colab": {
          "base_uri": "https://localhost:8080/",
          "height": 0
        },
        "outputId": "a329c707-4881-4b90-c381-f04590ab11ef"
      },
      "source": [
        "print(num[0:4])\n",
        "print(num[4:])"
      ],
      "execution_count": 69,
      "outputs": [
        {
          "output_type": "stream",
          "text": [
            "[0, 1, 2, 3]\n",
            "[4, 5, 6, 7, 8, 9]\n"
          ],
          "name": "stdout"
        }
      ]
    },
    {
      "cell_type": "markdown",
      "metadata": {
        "id": "CGSDq5N-Xvej",
        "colab_type": "text"
      },
      "source": [
        "You can also slice a parent list with a fixed length or step length."
      ]
    },
    {
      "cell_type": "code",
      "metadata": {
        "id": "0KT3S27pXvek",
        "colab_type": "code",
        "colab": {
          "base_uri": "https://localhost:8080/",
          "height": 0
        },
        "outputId": "2e58418e-9a1e-41c3-dbf8-9b0dc1556704"
      },
      "source": [
        "num[:9:3]"
      ],
      "execution_count": 70,
      "outputs": [
        {
          "output_type": "execute_result",
          "data": {
            "text/plain": [
              "[0, 3, 6]"
            ]
          },
          "metadata": {
            "tags": []
          },
          "execution_count": 70
        }
      ]
    },
    {
      "cell_type": "markdown",
      "metadata": {
        "id": "8f-wE9wNXvel",
        "colab_type": "text"
      },
      "source": [
        "###Built in List Functions"
      ]
    },
    {
      "cell_type": "markdown",
      "metadata": {
        "id": "wERwuYFmXvel",
        "colab_type": "text"
      },
      "source": [
        "To find the length of the list or the number of elements in a list, **len( )** is used."
      ]
    },
    {
      "cell_type": "code",
      "metadata": {
        "id": "N_9Q1YFLXvem",
        "colab_type": "code",
        "colab": {
          "base_uri": "https://localhost:8080/",
          "height": 0
        },
        "outputId": "5901120b-9b21-4d77-d04d-0755b84ee079"
      },
      "source": [
        "len(num)"
      ],
      "execution_count": 71,
      "outputs": [
        {
          "output_type": "execute_result",
          "data": {
            "text/plain": [
              "10"
            ]
          },
          "metadata": {
            "tags": []
          },
          "execution_count": 71
        }
      ]
    },
    {
      "cell_type": "markdown",
      "metadata": {
        "id": "ovXPnWVBXveo",
        "colab_type": "text"
      },
      "source": [
        "If the list consists of all integer elements then **min( )** and **max( )** gives the minimum and maximum value in the list."
      ]
    },
    {
      "cell_type": "code",
      "metadata": {
        "id": "K24AS_5VXveo",
        "colab_type": "code",
        "colab": {
          "base_uri": "https://localhost:8080/",
          "height": 0
        },
        "outputId": "68ae708f-8184-417d-fdaf-e21fcbb657ef"
      },
      "source": [
        "min(num)"
      ],
      "execution_count": 72,
      "outputs": [
        {
          "output_type": "execute_result",
          "data": {
            "text/plain": [
              "0"
            ]
          },
          "metadata": {
            "tags": []
          },
          "execution_count": 72
        }
      ]
    },
    {
      "cell_type": "code",
      "metadata": {
        "id": "TUIqfw03Xveq",
        "colab_type": "code",
        "colab": {
          "base_uri": "https://localhost:8080/",
          "height": 0
        },
        "outputId": "e7ecdb9e-db8f-4eb4-b240-edf821da2a4e"
      },
      "source": [
        "max(num)"
      ],
      "execution_count": 73,
      "outputs": [
        {
          "output_type": "execute_result",
          "data": {
            "text/plain": [
              "9"
            ]
          },
          "metadata": {
            "tags": []
          },
          "execution_count": 73
        }
      ]
    },
    {
      "cell_type": "markdown",
      "metadata": {
        "id": "BsBroAvGXver",
        "colab_type": "text"
      },
      "source": [
        "Lists can be concatenated by adding, '+' them. The resultant list will contain all the elements of the lists that were added. The resultant list will not be a nested list."
      ]
    },
    {
      "cell_type": "code",
      "metadata": {
        "id": "hbhJQktyXves",
        "colab_type": "code",
        "colab": {
          "base_uri": "https://localhost:8080/",
          "height": 0
        },
        "outputId": "bfd41d34-3c3b-49af-eadb-fe0021e9e235"
      },
      "source": [
        "[1,2,3] + [5,4,7]"
      ],
      "execution_count": 74,
      "outputs": [
        {
          "output_type": "execute_result",
          "data": {
            "text/plain": [
              "[1, 2, 3, 5, 4, 7]"
            ]
          },
          "metadata": {
            "tags": []
          },
          "execution_count": 74
        }
      ]
    },
    {
      "cell_type": "markdown",
      "metadata": {
        "id": "VCcEPaQkXvet",
        "colab_type": "text"
      },
      "source": [
        "There might arise a requirement where you might need to check if a particular element is there in a predefined list. Consider the below list."
      ]
    },
    {
      "cell_type": "code",
      "metadata": {
        "id": "N660VBlaXvet",
        "colab_type": "code",
        "colab": {}
      },
      "source": [
        "names = ['Earth','Air','Fire','Water']"
      ],
      "execution_count": 75,
      "outputs": []
    },
    {
      "cell_type": "markdown",
      "metadata": {
        "id": "-YRTxETHXvev",
        "colab_type": "text"
      },
      "source": [
        "To check if 'Fire' and 'Rajath' is present in the list names. A conventional approach would be to use a for loop and iterate over the list and use the if condition. But in python you can use 'a in b' concept which would return 'True' if a is present in b and 'False' if not."
      ]
    },
    {
      "cell_type": "code",
      "metadata": {
        "id": "Cjo37osEXvev",
        "colab_type": "code",
        "colab": {
          "base_uri": "https://localhost:8080/",
          "height": 0
        },
        "outputId": "49eed991-e3b1-418a-bdde-9d9e89cbc112"
      },
      "source": [
        "'Fire' in names"
      ],
      "execution_count": 76,
      "outputs": [
        {
          "output_type": "execute_result",
          "data": {
            "text/plain": [
              "True"
            ]
          },
          "metadata": {
            "tags": []
          },
          "execution_count": 76
        }
      ]
    },
    {
      "cell_type": "code",
      "metadata": {
        "id": "_HSB8kYcXvex",
        "colab_type": "code",
        "colab": {
          "base_uri": "https://localhost:8080/",
          "height": 0
        },
        "outputId": "363e44e4-fb2d-4155-9845-37ae7e300c62"
      },
      "source": [
        "'Rajath' in names"
      ],
      "execution_count": 77,
      "outputs": [
        {
          "output_type": "execute_result",
          "data": {
            "text/plain": [
              "False"
            ]
          },
          "metadata": {
            "tags": []
          },
          "execution_count": 77
        }
      ]
    },
    {
      "cell_type": "markdown",
      "metadata": {
        "id": "FTBG_paXXvey",
        "colab_type": "text"
      },
      "source": [
        "In a list with elements as string, **max( )** and **min( )** is applicable. **max( )** would return a string element whose ASCII value is the highest and the lowest when **min( )** is used. Note that only the first index of each element is considered each time and if they value is the same then second index considered so on and so forth."
      ]
    },
    {
      "cell_type": "code",
      "metadata": {
        "id": "F6eD7RVKXvey",
        "colab_type": "code",
        "colab": {}
      },
      "source": [
        "mlist = ['bzaa','ds','nc','az','z','klm']"
      ],
      "execution_count": 78,
      "outputs": []
    },
    {
      "cell_type": "code",
      "metadata": {
        "id": "QnX14k_FXve2",
        "colab_type": "code",
        "colab": {
          "base_uri": "https://localhost:8080/",
          "height": 0
        },
        "outputId": "38d9748e-2d40-45c9-d754-3f6c2162e940"
      },
      "source": [
        "print(max(mlist))\n",
        "print(min(mlist))"
      ],
      "execution_count": 79,
      "outputs": [
        {
          "output_type": "stream",
          "text": [
            "z\n",
            "az\n"
          ],
          "name": "stdout"
        }
      ]
    },
    {
      "cell_type": "markdown",
      "metadata": {
        "id": "U84-Ca2vXve4",
        "colab_type": "text"
      },
      "source": [
        "Here the first index of each element is considered and thus z has the highest ASCII value thus it is returned and minimum ASCII is a. But what if numbers are declared as strings?"
      ]
    },
    {
      "cell_type": "code",
      "metadata": {
        "id": "r4zLD8qeXve4",
        "colab_type": "code",
        "colab": {}
      },
      "source": [
        "nlist = ['1','94','93','1000']"
      ],
      "execution_count": 80,
      "outputs": []
    },
    {
      "cell_type": "code",
      "metadata": {
        "id": "9WEdDRPfXve6",
        "colab_type": "code",
        "colab": {
          "base_uri": "https://localhost:8080/",
          "height": 0
        },
        "outputId": "bcd49e74-c5d6-4eb7-828a-3f454ac661d8"
      },
      "source": [
        "print(max(nlist))\n",
        "print(min(nlist))"
      ],
      "execution_count": 81,
      "outputs": [
        {
          "output_type": "stream",
          "text": [
            "94\n",
            "1\n"
          ],
          "name": "stdout"
        }
      ]
    },
    {
      "cell_type": "markdown",
      "metadata": {
        "id": "e-T1s2IkXve7",
        "colab_type": "text"
      },
      "source": [
        "Even if the numbers are declared in a string the first index of each element is considered and the maximum and minimum values are returned accordingly."
      ]
    },
    {
      "cell_type": "markdown",
      "metadata": {
        "id": "I6xCTJ-_Xve8",
        "colab_type": "text"
      },
      "source": [
        "But if you want to find the **max( )** string element based on the length of the string then another parameter 'key=len' is declared inside the **max( )** and **min( )** function."
      ]
    },
    {
      "cell_type": "code",
      "metadata": {
        "id": "_4hZ0OxxXve8",
        "colab_type": "code",
        "colab": {
          "base_uri": "https://localhost:8080/",
          "height": 0
        },
        "outputId": "bd5542a4-99a1-4526-e2bb-063fa741c7ba"
      },
      "source": [
        "print(max(names, key=len))\n",
        "print(min(names, key=len))"
      ],
      "execution_count": 82,
      "outputs": [
        {
          "output_type": "stream",
          "text": [
            "Earth\n",
            "Air\n"
          ],
          "name": "stdout"
        }
      ]
    },
    {
      "cell_type": "markdown",
      "metadata": {
        "id": "W7YqkJDrXve-",
        "colab_type": "text"
      },
      "source": [
        "But even 'Water' has length 5. **max()** or **min()** function returns the first element when there are two or more elements with the same length.\n",
        "\n",
        "Any other built in function can be used or lambda function (will be discussed later) in place of len.\n",
        "\n",
        "A string can be converted into a list by using the **list()** function."
      ]
    },
    {
      "cell_type": "code",
      "metadata": {
        "id": "UgzhhTEoXve-",
        "colab_type": "code",
        "colab": {
          "base_uri": "https://localhost:8080/",
          "height": 0
        },
        "outputId": "1d907b75-1708-4e19-afa2-36a57345cf35"
      },
      "source": [
        "list('hello')"
      ],
      "execution_count": 83,
      "outputs": [
        {
          "output_type": "execute_result",
          "data": {
            "text/plain": [
              "['h', 'e', 'l', 'l', 'o']"
            ]
          },
          "metadata": {
            "tags": []
          },
          "execution_count": 83
        }
      ]
    },
    {
      "cell_type": "markdown",
      "metadata": {
        "id": "dXg_xUfCXvfA",
        "colab_type": "text"
      },
      "source": [
        "**append( )** is used to add a element at the end of the list."
      ]
    },
    {
      "cell_type": "code",
      "metadata": {
        "id": "Neex1AnnXvfA",
        "colab_type": "code",
        "colab": {}
      },
      "source": [
        "lst = [1,1,4,8,7]"
      ],
      "execution_count": 84,
      "outputs": []
    },
    {
      "cell_type": "code",
      "metadata": {
        "id": "hwDQUOQlXvfB",
        "colab_type": "code",
        "colab": {
          "base_uri": "https://localhost:8080/",
          "height": 0
        },
        "outputId": "7d820dad-0be8-44e8-e5f1-e938d80f5786"
      },
      "source": [
        "lst.append(1)\n",
        "print(lst)"
      ],
      "execution_count": 85,
      "outputs": [
        {
          "output_type": "stream",
          "text": [
            "[1, 1, 4, 8, 7, 1]\n"
          ],
          "name": "stdout"
        }
      ]
    },
    {
      "cell_type": "markdown",
      "metadata": {
        "id": "5UiH1XMOXvfD",
        "colab_type": "text"
      },
      "source": [
        "**count( )** is used to count the number of a particular element that is present in the list. "
      ]
    },
    {
      "cell_type": "code",
      "metadata": {
        "id": "2XYAkFIaXvfD",
        "colab_type": "code",
        "colab": {
          "base_uri": "https://localhost:8080/",
          "height": 0
        },
        "outputId": "d3e5726a-7ed6-4c5b-b51b-1bb19cdb1c90"
      },
      "source": [
        "lst.count(1)"
      ],
      "execution_count": 86,
      "outputs": [
        {
          "output_type": "execute_result",
          "data": {
            "text/plain": [
              "3"
            ]
          },
          "metadata": {
            "tags": []
          },
          "execution_count": 86
        }
      ]
    },
    {
      "cell_type": "markdown",
      "metadata": {
        "id": "u2ABJNbXXvfF",
        "colab_type": "text"
      },
      "source": [
        "**append( )** function can also be used to add a entire list at the end. Observe that the resultant list becomes a nested list."
      ]
    },
    {
      "cell_type": "code",
      "metadata": {
        "id": "FBy7npJ_XvfG",
        "colab_type": "code",
        "colab": {}
      },
      "source": [
        "lst1 = [5,4,2,8]"
      ],
      "execution_count": 87,
      "outputs": []
    },
    {
      "cell_type": "code",
      "metadata": {
        "id": "1iwY_m_tXvfI",
        "colab_type": "code",
        "colab": {
          "base_uri": "https://localhost:8080/",
          "height": 0
        },
        "outputId": "669d5973-4118-409d-9ebe-3efe4f5cabd7"
      },
      "source": [
        "lst.append(lst1)\n",
        "print(lst)"
      ],
      "execution_count": 88,
      "outputs": [
        {
          "output_type": "stream",
          "text": [
            "[1, 1, 4, 8, 7, 1, [5, 4, 2, 8]]\n"
          ],
          "name": "stdout"
        }
      ]
    },
    {
      "cell_type": "markdown",
      "metadata": {
        "collapsed": false,
        "id": "PN4zz3ZZXvfJ",
        "colab_type": "text"
      },
      "source": [
        "But if nested list is not what is desired then **extend( )** function can be used."
      ]
    },
    {
      "cell_type": "code",
      "metadata": {
        "id": "mqOrYBdMXvfJ",
        "colab_type": "code",
        "colab": {
          "base_uri": "https://localhost:8080/",
          "height": 0
        },
        "outputId": "2dfb72e1-2214-4d86-fd83-8658838ea899"
      },
      "source": [
        "lst.extend(lst1)\n",
        "print(lst)"
      ],
      "execution_count": 89,
      "outputs": [
        {
          "output_type": "stream",
          "text": [
            "[1, 1, 4, 8, 7, 1, [5, 4, 2, 8], 5, 4, 2, 8]\n"
          ],
          "name": "stdout"
        }
      ]
    },
    {
      "cell_type": "markdown",
      "metadata": {
        "id": "F0D9XPXNXvfL",
        "colab_type": "text"
      },
      "source": [
        "**index( )** is used to find the index value of a particular element. Note that if there are multiple elements of the same value then the first index value of that element is returned."
      ]
    },
    {
      "cell_type": "code",
      "metadata": {
        "id": "0LWEGja0XvfL",
        "colab_type": "code",
        "colab": {
          "base_uri": "https://localhost:8080/",
          "height": 0
        },
        "outputId": "2a2a1cfc-bcd0-4a04-9ad9-4aa4efe785d0"
      },
      "source": [
        "lst.index(1)"
      ],
      "execution_count": 90,
      "outputs": [
        {
          "output_type": "execute_result",
          "data": {
            "text/plain": [
              "0"
            ]
          },
          "metadata": {
            "tags": []
          },
          "execution_count": 90
        }
      ]
    },
    {
      "cell_type": "markdown",
      "metadata": {
        "id": "xPG69ezaXvfN",
        "colab_type": "text"
      },
      "source": [
        "**insert(x,y)** is used to insert a element y at a specified index value x. **append( )** function made it only possible to insert at the end. "
      ]
    },
    {
      "cell_type": "code",
      "metadata": {
        "id": "f9txGBnQXvfN",
        "colab_type": "code",
        "colab": {
          "base_uri": "https://localhost:8080/",
          "height": 0
        },
        "outputId": "067e5db0-91e0-46af-a922-52b7983d1b8b"
      },
      "source": [
        "lst.insert(5, 'name')\n",
        "print(lst)"
      ],
      "execution_count": 91,
      "outputs": [
        {
          "output_type": "stream",
          "text": [
            "[1, 1, 4, 8, 7, 'name', 1, [5, 4, 2, 8], 5, 4, 2, 8]\n"
          ],
          "name": "stdout"
        }
      ]
    },
    {
      "cell_type": "markdown",
      "metadata": {
        "id": "Qe-TCseVXvfP",
        "colab_type": "text"
      },
      "source": [
        "**insert(x,y)** inserts but does not replace element. If you want to replace the element with another element you simply assign the value to that particular index."
      ]
    },
    {
      "cell_type": "code",
      "metadata": {
        "id": "1-NOePloXvfQ",
        "colab_type": "code",
        "colab": {
          "base_uri": "https://localhost:8080/",
          "height": 0
        },
        "outputId": "a714094e-8405-4726-c1d2-0b89dd2e7e6c"
      },
      "source": [
        "lst[5] = 'Python'\n",
        "print(lst)"
      ],
      "execution_count": 92,
      "outputs": [
        {
          "output_type": "stream",
          "text": [
            "[1, 1, 4, 8, 7, 'Python', 1, [5, 4, 2, 8], 5, 4, 2, 8]\n"
          ],
          "name": "stdout"
        }
      ]
    },
    {
      "cell_type": "markdown",
      "metadata": {
        "id": "0tCsb8JrXvfS",
        "colab_type": "text"
      },
      "source": [
        "**pop( )** function return the last element in the list. This is similar to the operation of a stack. Hence it wouldn't be wrong to tell that lists can be used as a stack."
      ]
    },
    {
      "cell_type": "code",
      "metadata": {
        "id": "MaU46RG3XvfS",
        "colab_type": "code",
        "colab": {
          "base_uri": "https://localhost:8080/",
          "height": 0
        },
        "outputId": "2dfa5650-57b5-4166-ba52-f8b394d9d223"
      },
      "source": [
        "lst.pop()"
      ],
      "execution_count": 93,
      "outputs": [
        {
          "output_type": "execute_result",
          "data": {
            "text/plain": [
              "8"
            ]
          },
          "metadata": {
            "tags": []
          },
          "execution_count": 93
        }
      ]
    },
    {
      "cell_type": "markdown",
      "metadata": {
        "id": "EBssPUIYXvfU",
        "colab_type": "text"
      },
      "source": [
        "Index value can be specified to pop a ceratin element corresponding to that index value."
      ]
    },
    {
      "cell_type": "code",
      "metadata": {
        "id": "_aZ1bLffXvfV",
        "colab_type": "code",
        "colab": {
          "base_uri": "https://localhost:8080/",
          "height": 0
        },
        "outputId": "88927016-7f39-4061-8eee-acb10412dd76"
      },
      "source": [
        "lst.pop(0)"
      ],
      "execution_count": 94,
      "outputs": [
        {
          "output_type": "execute_result",
          "data": {
            "text/plain": [
              "1"
            ]
          },
          "metadata": {
            "tags": []
          },
          "execution_count": 94
        }
      ]
    },
    {
      "cell_type": "markdown",
      "metadata": {
        "id": "236wJmOrXvfW",
        "colab_type": "text"
      },
      "source": [
        "**pop( )** is used to remove element based on it's index value which can be assigned to a variable. One can also remove element by specifying the element itself using the **remove( )** function."
      ]
    },
    {
      "cell_type": "code",
      "metadata": {
        "id": "4knS6iNeXvfW",
        "colab_type": "code",
        "colab": {
          "base_uri": "https://localhost:8080/",
          "height": 0
        },
        "outputId": "37c299f5-c448-4238-bda2-66f9c578834c"
      },
      "source": [
        "lst.remove('Python')\n",
        "print(lst)"
      ],
      "execution_count": 95,
      "outputs": [
        {
          "output_type": "stream",
          "text": [
            "[1, 4, 8, 7, 1, [5, 4, 2, 8], 5, 4, 2]\n"
          ],
          "name": "stdout"
        }
      ]
    },
    {
      "cell_type": "markdown",
      "metadata": {
        "id": "gsMLj_n6XvfY",
        "colab_type": "text"
      },
      "source": [
        "Alternative to **remove** function but with using index value is **del**"
      ]
    },
    {
      "cell_type": "code",
      "metadata": {
        "id": "Koy1u06dXvfZ",
        "colab_type": "code",
        "colab": {
          "base_uri": "https://localhost:8080/",
          "height": 0
        },
        "outputId": "15e0c820-d947-4104-829f-03ce6193d757"
      },
      "source": [
        "del lst[5]\n",
        "print(lst)"
      ],
      "execution_count": 96,
      "outputs": [
        {
          "output_type": "stream",
          "text": [
            "[1, 4, 8, 7, 1, 5, 4, 2]\n"
          ],
          "name": "stdout"
        }
      ]
    },
    {
      "cell_type": "markdown",
      "metadata": {
        "collapsed": false,
        "id": "iaQ12XTzXvfa",
        "colab_type": "text"
      },
      "source": [
        "The entire elements present in the list can be reversed by using the **reverse()** function."
      ]
    },
    {
      "cell_type": "code",
      "metadata": {
        "id": "hMH5TamYXvfa",
        "colab_type": "code",
        "colab": {
          "base_uri": "https://localhost:8080/",
          "height": 0
        },
        "outputId": "b7d65dfd-2258-4d2e-f45b-6e96fbe7c3bf"
      },
      "source": [
        "lst.reverse()\n",
        "print(lst)"
      ],
      "execution_count": 97,
      "outputs": [
        {
          "output_type": "stream",
          "text": [
            "[2, 4, 5, 1, 7, 8, 4, 1]\n"
          ],
          "name": "stdout"
        }
      ]
    },
    {
      "cell_type": "markdown",
      "metadata": {
        "id": "SbIt2dJ6Xvfc",
        "colab_type": "text"
      },
      "source": [
        "Python offers built in operation **sort( )** to arrange the elements in ascending order."
      ]
    },
    {
      "cell_type": "code",
      "metadata": {
        "id": "0Ij2ImRrXvfc",
        "colab_type": "code",
        "colab": {
          "base_uri": "https://localhost:8080/",
          "height": 0
        },
        "outputId": "f60f170e-14d6-4518-ed4a-234edef24cb3"
      },
      "source": [
        "lst.sort()\n",
        "print(lst)"
      ],
      "execution_count": 98,
      "outputs": [
        {
          "output_type": "stream",
          "text": [
            "[1, 1, 2, 4, 4, 5, 7, 8]\n"
          ],
          "name": "stdout"
        }
      ]
    },
    {
      "cell_type": "markdown",
      "metadata": {
        "id": "CdXF1fhQXvfe",
        "colab_type": "text"
      },
      "source": [
        "For descending order, By default the reverse condition will be False for reverse. Hence changing it to True would arrange the elements in descending order."
      ]
    },
    {
      "cell_type": "code",
      "metadata": {
        "id": "KcyFBo8-Xvfe",
        "colab_type": "code",
        "colab": {
          "base_uri": "https://localhost:8080/",
          "height": 0
        },
        "outputId": "db0ef3e4-4d8b-4844-8ee8-b9fc89842317"
      },
      "source": [
        "lst.sort(reverse=True)\n",
        "print(lst)"
      ],
      "execution_count": 99,
      "outputs": [
        {
          "output_type": "stream",
          "text": [
            "[8, 7, 5, 4, 4, 2, 1, 1]\n"
          ],
          "name": "stdout"
        }
      ]
    },
    {
      "cell_type": "markdown",
      "metadata": {
        "id": "MnJ9ALbrXvff",
        "colab_type": "text"
      },
      "source": [
        "Similarly for lists containing string elements, **sort( )** would sort the elements based on it's ASCII value in ascending and by specifying reverse=True in descending."
      ]
    },
    {
      "cell_type": "code",
      "metadata": {
        "id": "nK51hDmgXvfg",
        "colab_type": "code",
        "colab": {
          "base_uri": "https://localhost:8080/",
          "height": 0
        },
        "outputId": "24781f69-76d6-4605-d36c-14b79a3f412d"
      },
      "source": [
        "names.sort()\n",
        "print(names)\n",
        "names.sort(reverse=True)\n",
        "print(names)"
      ],
      "execution_count": 100,
      "outputs": [
        {
          "output_type": "stream",
          "text": [
            "['Air', 'Earth', 'Fire', 'Water']\n",
            "['Water', 'Fire', 'Earth', 'Air']\n"
          ],
          "name": "stdout"
        }
      ]
    },
    {
      "cell_type": "markdown",
      "metadata": {
        "id": "bTynHo-MXvfh",
        "colab_type": "text"
      },
      "source": [
        "To sort based on length key=len should be specified as shown."
      ]
    },
    {
      "cell_type": "code",
      "metadata": {
        "id": "C-rH176fXvfh",
        "colab_type": "code",
        "colab": {
          "base_uri": "https://localhost:8080/",
          "height": 0
        },
        "outputId": "de74158a-2724-4a8b-fe26-16a6fdfd8ba8"
      },
      "source": [
        "names.sort(key=len)\n",
        "print(names)\n",
        "names.sort(key=len,reverse=True)\n",
        "print(names)"
      ],
      "execution_count": 101,
      "outputs": [
        {
          "output_type": "stream",
          "text": [
            "['Air', 'Fire', 'Water', 'Earth']\n",
            "['Water', 'Earth', 'Fire', 'Air']\n"
          ],
          "name": "stdout"
        }
      ]
    },
    {
      "cell_type": "markdown",
      "metadata": {
        "id": "YhGmzAj_Xvfj",
        "colab_type": "text"
      },
      "source": [
        "### Copying a list"
      ]
    },
    {
      "cell_type": "markdown",
      "metadata": {
        "id": "mVopgS6mXvfk",
        "colab_type": "text"
      },
      "source": [
        "Most of the new python programmers commit this mistake. Consider the following,"
      ]
    },
    {
      "cell_type": "code",
      "metadata": {
        "id": "c6d7dP7PXvfk",
        "colab_type": "code",
        "colab": {}
      },
      "source": [
        "lista= [2,1,4,3]"
      ],
      "execution_count": 102,
      "outputs": []
    },
    {
      "cell_type": "code",
      "metadata": {
        "id": "sTpVjBRAXvfm",
        "colab_type": "code",
        "colab": {
          "base_uri": "https://localhost:8080/",
          "height": 0
        },
        "outputId": "7b747264-a02f-491b-ab8b-be6853ab1b27"
      },
      "source": [
        "listb = lista\n",
        "print(listb)"
      ],
      "execution_count": 103,
      "outputs": [
        {
          "output_type": "stream",
          "text": [
            "[2, 1, 4, 3]\n"
          ],
          "name": "stdout"
        }
      ]
    },
    {
      "cell_type": "markdown",
      "metadata": {
        "id": "zLFr8vgqXvfo",
        "colab_type": "text"
      },
      "source": [
        "Here, We have declared a list, lista = [2,1,4,3]. This list is copied to listb by assigning it's value and it get's copied as seen. Now we perform some random operations on lista."
      ]
    },
    {
      "cell_type": "code",
      "metadata": {
        "id": "-i6tQC1SXvfp",
        "colab_type": "code",
        "colab": {
          "base_uri": "https://localhost:8080/",
          "height": 0
        },
        "outputId": "63b9beac-c5f6-49af-d3c2-f69bd077c721"
      },
      "source": [
        "lista.pop()\n",
        "print(lista)\n",
        "lista.append(9)\n",
        "print(lista)"
      ],
      "execution_count": 104,
      "outputs": [
        {
          "output_type": "stream",
          "text": [
            "[2, 1, 4]\n",
            "[2, 1, 4, 9]\n"
          ],
          "name": "stdout"
        }
      ]
    },
    {
      "cell_type": "code",
      "metadata": {
        "id": "CYdQqTLNXvfq",
        "colab_type": "code",
        "colab": {
          "base_uri": "https://localhost:8080/",
          "height": 0
        },
        "outputId": "64d8eb61-9700-4f45-87cd-4b66385f7086"
      },
      "source": [
        "print(listb)"
      ],
      "execution_count": 105,
      "outputs": [
        {
          "output_type": "stream",
          "text": [
            "[2, 1, 4, 9]\n"
          ],
          "name": "stdout"
        }
      ]
    },
    {
      "cell_type": "markdown",
      "metadata": {
        "id": "nJmjAXUJXvfr",
        "colab_type": "text"
      },
      "source": [
        "listb has also changed though no operation has been performed on it. This is because you have assigned the same memory space of lista to listb. So how do fix this?\n",
        "\n",
        "If you recall, in slicing we had seen that parentlist[a:b] returns a list from parent list with start index a and end index b and if a and b is not mentioned then by default it considers the first and last element. We use the same concept here. By doing so, we are assigning the data of lista to listb as a variable."
      ]
    },
    {
      "cell_type": "code",
      "metadata": {
        "id": "KjMN7-J-wW4j",
        "colab_type": "code",
        "colab": {}
      },
      "source": [
        "lista = [2,1,4,3]"
      ],
      "execution_count": 106,
      "outputs": []
    },
    {
      "cell_type": "code",
      "metadata": {
        "id": "wvwVM_1WXvft",
        "colab_type": "code",
        "colab": {
          "base_uri": "https://localhost:8080/",
          "height": 0
        },
        "outputId": "ff686bf7-f2c2-4ae6-8ef4-3a1fb1c29f8c"
      },
      "source": [
        "listb = lista.copy()\n",
        "# listb = lista[:]\n",
        "print(listb)"
      ],
      "execution_count": 107,
      "outputs": [
        {
          "output_type": "stream",
          "text": [
            "[2, 1, 4, 3]\n"
          ],
          "name": "stdout"
        }
      ]
    },
    {
      "cell_type": "code",
      "metadata": {
        "id": "jxWlLaOSXvfu",
        "colab_type": "code",
        "colab": {
          "base_uri": "https://localhost:8080/",
          "height": 0
        },
        "outputId": "daee8fa2-73ae-4e70-a843-db59bf942775"
      },
      "source": [
        "lista.pop()\n",
        "print(lista)\n",
        "lista.append(9)\n",
        "print(lista)"
      ],
      "execution_count": 108,
      "outputs": [
        {
          "output_type": "stream",
          "text": [
            "[2, 1, 4]\n",
            "[2, 1, 4, 9]\n"
          ],
          "name": "stdout"
        }
      ]
    },
    {
      "cell_type": "code",
      "metadata": {
        "id": "JJUSySFlXvfw",
        "colab_type": "code",
        "colab": {
          "base_uri": "https://localhost:8080/",
          "height": 0
        },
        "outputId": "581b5c65-5ab7-4ae4-8dff-f672946d62d4"
      },
      "source": [
        "print(listb)"
      ],
      "execution_count": 109,
      "outputs": [
        {
          "output_type": "stream",
          "text": [
            "[2, 1, 4, 3]\n"
          ],
          "name": "stdout"
        }
      ]
    },
    {
      "cell_type": "markdown",
      "metadata": {
        "id": "gW_1EfPYXvfx",
        "colab_type": "text"
      },
      "source": [
        "##Tuples"
      ]
    },
    {
      "cell_type": "markdown",
      "metadata": {
        "id": "Voi4AUbvXvfx",
        "colab_type": "text"
      },
      "source": [
        "Tuples are similar to lists but only big difference is the elements inside a list can be changed but in tuple it cannot be changed. Think of tuples as something which has to be True for a particular something and cannot be True for no other values. For better understanding, Recall **divmod()** function."
      ]
    },
    {
      "cell_type": "code",
      "metadata": {
        "id": "MoIBXjYoXvfx",
        "colab_type": "code",
        "colab": {
          "base_uri": "https://localhost:8080/",
          "height": 51
        },
        "outputId": "a8b7df96-0aa0-4f44-faee-9ffe20eabd40"
      },
      "source": [
        "xyz = divmod(10,3)\n",
        "print(xyz)\n",
        "print(type(xyz))"
      ],
      "execution_count": 110,
      "outputs": [
        {
          "output_type": "stream",
          "text": [
            "(3, 1)\n",
            "<class 'tuple'>\n"
          ],
          "name": "stdout"
        }
      ]
    },
    {
      "cell_type": "markdown",
      "metadata": {
        "id": "J_y5sOg1Xvfy",
        "colab_type": "text"
      },
      "source": [
        "Here the quotient has to be 3 and the remainder has to be 1. These values cannot be changed whatsoever when 10 is divided by 3. Hence divmod returns these values in a tuple."
      ]
    },
    {
      "cell_type": "markdown",
      "metadata": {
        "id": "aKPGUuZFXvfy",
        "colab_type": "text"
      },
      "source": [
        "To define a tuple, A variable is assigned to paranthesis ( ) or tuple( )."
      ]
    },
    {
      "cell_type": "code",
      "metadata": {
        "id": "abkc2otkXvfz",
        "colab_type": "code",
        "colab": {}
      },
      "source": [
        "tup = ()\n",
        "tup2 = tuple()"
      ],
      "execution_count": 111,
      "outputs": []
    },
    {
      "cell_type": "markdown",
      "metadata": {
        "id": "QFBMpuiYXvf0",
        "colab_type": "text"
      },
      "source": [
        "If you want to directly declare a tuple it can be done by using a comma at the end of the data."
      ]
    },
    {
      "cell_type": "code",
      "metadata": {
        "id": "3X2hU9mrXvf0",
        "colab_type": "code",
        "colab": {
          "base_uri": "https://localhost:8080/",
          "height": 34
        },
        "outputId": "0a9da3de-ac6e-4c04-be97-84e2f8b6a5d1"
      },
      "source": [
        "27,"
      ],
      "execution_count": 112,
      "outputs": [
        {
          "output_type": "execute_result",
          "data": {
            "text/plain": [
              "(27,)"
            ]
          },
          "metadata": {
            "tags": []
          },
          "execution_count": 112
        }
      ]
    },
    {
      "cell_type": "markdown",
      "metadata": {
        "id": "HyOMxC3CXvf1",
        "colab_type": "text"
      },
      "source": [
        "27 when multiplied by 2 yields 54, But when multiplied with a tuple the data is repeated twice."
      ]
    },
    {
      "cell_type": "code",
      "metadata": {
        "id": "zAzRCZsTXvf1",
        "colab_type": "code",
        "colab": {
          "base_uri": "https://localhost:8080/",
          "height": 34
        },
        "outputId": "0e9cb9a1-3ff7-4de1-91e3-43ab98084aea"
      },
      "source": [
        "2*(27,)"
      ],
      "execution_count": 113,
      "outputs": [
        {
          "output_type": "execute_result",
          "data": {
            "text/plain": [
              "(27, 27)"
            ]
          },
          "metadata": {
            "tags": []
          },
          "execution_count": 113
        }
      ]
    },
    {
      "cell_type": "markdown",
      "metadata": {
        "id": "FsEECkYbXvf2",
        "colab_type": "text"
      },
      "source": [
        "Values can be assigned while declaring a tuple. It takes a list as input and converts it into a tuple or it takes a string and converts it into a tuple."
      ]
    },
    {
      "cell_type": "code",
      "metadata": {
        "scrolled": true,
        "id": "MURGQP1NXvf3",
        "colab_type": "code",
        "colab": {
          "base_uri": "https://localhost:8080/",
          "height": 51
        },
        "outputId": "55fa5ba5-ba73-4e80-fbdb-643feb888dbe"
      },
      "source": [
        "tup3 = tuple([1,2,3])\n",
        "print(tup3)\n",
        "tup4 = tuple('Hello')\n",
        "print(tup4)"
      ],
      "execution_count": 114,
      "outputs": [
        {
          "output_type": "stream",
          "text": [
            "(1, 2, 3)\n",
            "('H', 'e', 'l', 'l', 'o')\n"
          ],
          "name": "stdout"
        }
      ]
    },
    {
      "cell_type": "markdown",
      "metadata": {
        "id": "vHE8NnYzXvf3",
        "colab_type": "text"
      },
      "source": [
        "It follows the same indexing and slicing as Lists."
      ]
    },
    {
      "cell_type": "code",
      "metadata": {
        "id": "Qv-_82L3Xvf4",
        "colab_type": "code",
        "colab": {
          "base_uri": "https://localhost:8080/",
          "height": 51
        },
        "outputId": "4092d102-d9f6-449f-bfa0-5e119a0424ff"
      },
      "source": [
        "print(tup3[1])\n",
        "tup5 = tup4[:4]\n",
        "print(tup5)"
      ],
      "execution_count": 115,
      "outputs": [
        {
          "output_type": "stream",
          "text": [
            "2\n",
            "('H', 'e', 'l', 'l')\n"
          ],
          "name": "stdout"
        }
      ]
    },
    {
      "cell_type": "markdown",
      "metadata": {
        "id": "iWewtah2Xvf5",
        "colab_type": "text"
      },
      "source": [
        "### Mapping one tuple to another"
      ]
    },
    {
      "cell_type": "code",
      "metadata": {
        "id": "SNJ2lE7LXvf5",
        "colab_type": "code",
        "colab": {}
      },
      "source": [
        "(a,b,c)= ('alpha','beta','gamma')"
      ],
      "execution_count": 116,
      "outputs": []
    },
    {
      "cell_type": "code",
      "metadata": {
        "id": "EmMLLfvRXvf6",
        "colab_type": "code",
        "colab": {
          "base_uri": "https://localhost:8080/",
          "height": 34
        },
        "outputId": "c9444c62-eca6-4ad2-d3af-0dd930dd3a90"
      },
      "source": [
        "print(a,b,c)"
      ],
      "execution_count": 117,
      "outputs": [
        {
          "output_type": "stream",
          "text": [
            "alpha beta gamma\n"
          ],
          "name": "stdout"
        }
      ]
    },
    {
      "cell_type": "code",
      "metadata": {
        "id": "iBZKeerrXvf8",
        "colab_type": "code",
        "colab": {
          "base_uri": "https://localhost:8080/",
          "height": 34
        },
        "outputId": "a02dc046-cd64-44c2-a868-39595b04d0fc"
      },
      "source": [
        "d = tuple('RajathKumarMP')\n",
        "print(d)"
      ],
      "execution_count": 118,
      "outputs": [
        {
          "output_type": "stream",
          "text": [
            "('R', 'a', 'j', 'a', 't', 'h', 'K', 'u', 'm', 'a', 'r', 'M', 'P')\n"
          ],
          "name": "stdout"
        }
      ]
    },
    {
      "cell_type": "markdown",
      "metadata": {
        "id": "O625Mik4Xvf9",
        "colab_type": "text"
      },
      "source": [
        "### Built In Tuple functions"
      ]
    },
    {
      "cell_type": "markdown",
      "metadata": {
        "id": "YjaZUqIdXvf9",
        "colab_type": "text"
      },
      "source": [
        "**count()** function counts the number of specified element that is present in the tuple."
      ]
    },
    {
      "cell_type": "code",
      "metadata": {
        "id": "lARNXi7pXvf9",
        "colab_type": "code",
        "colab": {
          "base_uri": "https://localhost:8080/",
          "height": 34
        },
        "outputId": "77e49d85-9226-4923-bfea-3006da3d5f26"
      },
      "source": [
        "d.count('a')"
      ],
      "execution_count": 119,
      "outputs": [
        {
          "output_type": "execute_result",
          "data": {
            "text/plain": [
              "3"
            ]
          },
          "metadata": {
            "tags": []
          },
          "execution_count": 119
        }
      ]
    },
    {
      "cell_type": "markdown",
      "metadata": {
        "id": "VdEnJz9wXvf-",
        "colab_type": "text"
      },
      "source": [
        "**index()** function returns the index of the specified element. If the elements are more than one then the index of the first element of that specified element is returned"
      ]
    },
    {
      "cell_type": "code",
      "metadata": {
        "id": "b-kliaEOXvf_",
        "colab_type": "code",
        "colab": {
          "base_uri": "https://localhost:8080/",
          "height": 34
        },
        "outputId": "697a1da5-3230-4ea6-fed1-e2a2a5484947"
      },
      "source": [
        "d.index('a')"
      ],
      "execution_count": 120,
      "outputs": [
        {
          "output_type": "execute_result",
          "data": {
            "text/plain": [
              "1"
            ]
          },
          "metadata": {
            "tags": []
          },
          "execution_count": 120
        }
      ]
    },
    {
      "cell_type": "markdown",
      "metadata": {
        "id": "5qm44zJdYFkG",
        "colab_type": "text"
      },
      "source": [
        "##Dictionaries"
      ]
    },
    {
      "cell_type": "markdown",
      "metadata": {
        "id": "HEmn4qhdYFkH",
        "colab_type": "text"
      },
      "source": [
        "Dictionaries are more used like a database because here you can index a particular sequence with your user defined string."
      ]
    },
    {
      "cell_type": "markdown",
      "metadata": {
        "id": "SwfcC39VYFkH",
        "colab_type": "text"
      },
      "source": [
        "To define a dictionary, equate a variable to { } or dict()"
      ]
    },
    {
      "cell_type": "code",
      "metadata": {
        "id": "N6DbWGBBYFkH",
        "colab_type": "code",
        "colab": {},
        "outputId": "750c302f-1ef8-4134-8ab5-ec9b9d365f30"
      },
      "source": [
        "d0 = {}\n",
        "d1 = dict()\n",
        "print(type(d0), type(d1))"
      ],
      "execution_count": null,
      "outputs": [
        {
          "output_type": "stream",
          "text": [
            "<type 'dict'> <type 'dict'>\n"
          ],
          "name": "stdout"
        }
      ]
    },
    {
      "cell_type": "markdown",
      "metadata": {
        "id": "FYOa6L_DYFkJ",
        "colab_type": "text"
      },
      "source": [
        "Dictionary works somewhat like a list but with an added capability of assigning it's own index style."
      ]
    },
    {
      "cell_type": "code",
      "metadata": {
        "id": "1wcCdj6OYFkJ",
        "colab_type": "code",
        "colab": {},
        "outputId": "2d77a16b-96d4-4272-f210-8d2ff189e94a"
      },
      "source": [
        "d0['One'] = 1\n",
        "d0['OneTwo'] = 12 \n",
        "print(d0)"
      ],
      "execution_count": null,
      "outputs": [
        {
          "output_type": "stream",
          "text": [
            "{'OneTwo': 12, 'One': 1}\n"
          ],
          "name": "stdout"
        }
      ]
    },
    {
      "cell_type": "markdown",
      "metadata": {
        "id": "6OYHJ_mQYFkK",
        "colab_type": "text"
      },
      "source": [
        "That is how a dictionary looks like. Now you are able to access '1' by the index value set at 'One'"
      ]
    },
    {
      "cell_type": "code",
      "metadata": {
        "id": "MJjkimLUYFkL",
        "colab_type": "code",
        "colab": {},
        "outputId": "4b7aee4d-f0d6-462d-c761-ab5002ef3069"
      },
      "source": [
        "print(d0['One'])"
      ],
      "execution_count": null,
      "outputs": [
        {
          "output_type": "stream",
          "text": [
            "1\n"
          ],
          "name": "stdout"
        }
      ]
    },
    {
      "cell_type": "markdown",
      "metadata": {
        "id": "EpIGrkTyYFkM",
        "colab_type": "text"
      },
      "source": [
        "Two lists which are related can be merged to form a dictionary."
      ]
    },
    {
      "cell_type": "code",
      "metadata": {
        "id": "slbELRQnYFkM",
        "colab_type": "code",
        "colab": {}
      },
      "source": [
        "names = ['One', 'Two', 'Three', 'Four', 'Five']\n",
        "numbers = [1, 2, 3, 4, 5]"
      ],
      "execution_count": null,
      "outputs": []
    },
    {
      "cell_type": "markdown",
      "metadata": {
        "id": "Da9rZfwmYFkO",
        "colab_type": "text"
      },
      "source": [
        "**zip( )** function is used to combine two lists"
      ]
    },
    {
      "cell_type": "code",
      "metadata": {
        "id": "T4EsLjCuYFkP",
        "colab_type": "code",
        "colab": {},
        "outputId": "dd9ee33b-a263-48de-e174-6eed355d08ad"
      },
      "source": [
        "d2 = zip(names,numbers)\n",
        "print(d2)"
      ],
      "execution_count": null,
      "outputs": [
        {
          "output_type": "stream",
          "text": [
            "[('One', 1), ('Two', 2), ('Three', 3), ('Four', 4), ('Five', 5)]\n"
          ],
          "name": "stdout"
        }
      ]
    },
    {
      "cell_type": "markdown",
      "metadata": {
        "collapsed": false,
        "id": "wwOa7YayYFkQ",
        "colab_type": "text"
      },
      "source": [
        "The two lists are combined to form a single list and each elements are clubbed with their respective elements from the other list inside a tuple. Tuples because that is what is assigned and the value should not change.\n",
        "\n",
        "Further, To convert the above into a dictionary. **dict( )** function is used."
      ]
    },
    {
      "cell_type": "code",
      "metadata": {
        "id": "YuuX_0NqYFkQ",
        "colab_type": "code",
        "colab": {},
        "outputId": "6b96f59d-f8de-4464-9ba2-fcbd46b5314c"
      },
      "source": [
        "a1 = dict(d2)\n",
        "print(a1)"
      ],
      "execution_count": null,
      "outputs": [
        {
          "output_type": "stream",
          "text": [
            "{'Four': 4, 'Five': 5, 'Three': 3, 'Two': 2, 'One': 1}\n"
          ],
          "name": "stdout"
        }
      ]
    },
    {
      "cell_type": "markdown",
      "metadata": {
        "id": "s03SIHyPYFkS",
        "colab_type": "text"
      },
      "source": [
        "###Built-in Functions"
      ]
    },
    {
      "cell_type": "markdown",
      "metadata": {
        "id": "lb_CGF8zYFkS",
        "colab_type": "text"
      },
      "source": [
        "**clear( )** function is used to erase the entire database that was created."
      ]
    },
    {
      "cell_type": "code",
      "metadata": {
        "id": "hQWAmZXqYFkT",
        "colab_type": "code",
        "colab": {},
        "outputId": "dd91a4c4-55ed-4077-f58d-cb5e3458cced"
      },
      "source": [
        "a1.clear()\n",
        "print(a1)"
      ],
      "execution_count": null,
      "outputs": [
        {
          "output_type": "stream",
          "text": [
            "{}\n"
          ],
          "name": "stdout"
        }
      ]
    },
    {
      "cell_type": "markdown",
      "metadata": {
        "id": "gouxViPkYFkU",
        "colab_type": "text"
      },
      "source": [
        "Dictionary can also be built using loops."
      ]
    },
    {
      "cell_type": "code",
      "metadata": {
        "id": "0z4Bn3mFYFkV",
        "colab_type": "code",
        "colab": {},
        "outputId": "7f0b6de5-ff22-4141-f8ff-c4d5d4754248"
      },
      "source": [
        "for i in range(len(names)):\n",
        "    a1[names[i]] = numbers[i]\n",
        "print(a1)"
      ],
      "execution_count": null,
      "outputs": [
        {
          "output_type": "stream",
          "text": [
            "{'Four': 4, 'Five': 5, 'Three': 3, 'Two': 2, 'One': 1}\n"
          ],
          "name": "stdout"
        }
      ]
    },
    {
      "cell_type": "markdown",
      "metadata": {
        "id": "x2_SOmWkYFkW",
        "colab_type": "text"
      },
      "source": [
        "**values( )** function returns a list with all the assigned values in the dictionary."
      ]
    },
    {
      "cell_type": "code",
      "metadata": {
        "id": "OkdEePbjYFkX",
        "colab_type": "code",
        "colab": {},
        "outputId": "72ee3424-4c30-44fc-8ea6-a54cb970ef80"
      },
      "source": [
        "a1.values()"
      ],
      "execution_count": null,
      "outputs": [
        {
          "output_type": "execute_result",
          "data": {
            "text/plain": [
              "[4, 5, 3, 2, 1]"
            ]
          },
          "metadata": {
            "tags": []
          },
          "execution_count": 38
        }
      ]
    },
    {
      "cell_type": "markdown",
      "metadata": {
        "id": "wgivs6qkYFkZ",
        "colab_type": "text"
      },
      "source": [
        "**keys( )** function returns all the index or the keys to which contains the values that it was assigned to."
      ]
    },
    {
      "cell_type": "code",
      "metadata": {
        "id": "PnL8fVOfYFkZ",
        "colab_type": "code",
        "colab": {},
        "outputId": "44b236a8-d845-4f13-ff6c-b745ef5a8b80"
      },
      "source": [
        "a1.keys()"
      ],
      "execution_count": null,
      "outputs": [
        {
          "output_type": "execute_result",
          "data": {
            "text/plain": [
              "['Four', 'Five', 'Three', 'Two', 'One']"
            ]
          },
          "metadata": {
            "tags": []
          },
          "execution_count": 39
        }
      ]
    },
    {
      "cell_type": "markdown",
      "metadata": {
        "id": "1-xqmUfqYFka",
        "colab_type": "text"
      },
      "source": [
        "**items( )** is returns a list containing both the list but each element in the dictionary is inside a tuple. This is same as the result that was obtained when zip function was used."
      ]
    },
    {
      "cell_type": "code",
      "metadata": {
        "id": "nIYZJ6uHYFkb",
        "colab_type": "code",
        "colab": {},
        "outputId": "1ef3f191-9a36-43e7-bf3d-bfff917e2efc"
      },
      "source": [
        "a1.items()"
      ],
      "execution_count": null,
      "outputs": [
        {
          "output_type": "execute_result",
          "data": {
            "text/plain": [
              "[('Four', 4), ('Five', 5), ('Three', 3), ('Two', 2), ('One', 1)]"
            ]
          },
          "metadata": {
            "tags": []
          },
          "execution_count": 40
        }
      ]
    },
    {
      "cell_type": "markdown",
      "metadata": {
        "id": "qzAEpaRSYFkc",
        "colab_type": "text"
      },
      "source": [
        "**pop( )** function is used to get the remove that particular element and this removed element can be assigned to a new variable. But remember only the value is stored and not the key. Because the is just a index value."
      ]
    },
    {
      "cell_type": "code",
      "metadata": {
        "id": "L2Rh5dnKYFkd",
        "colab_type": "code",
        "colab": {},
        "outputId": "d1f8b44a-1c56-43d4-8a1c-89138c21dc49"
      },
      "source": [
        "a2 = a1.pop('Four')\n",
        "print(a1)\n",
        "print(a2)"
      ],
      "execution_count": null,
      "outputs": [
        {
          "output_type": "stream",
          "text": [
            "{'Five': 5, 'Three': 3, 'Two': 2, 'One': 1}\n",
            "4\n"
          ],
          "name": "stdout"
        }
      ]
    },
    {
      "cell_type": "markdown",
      "metadata": {
        "id": "kB1ItsrgFzca",
        "colab_type": "text"
      },
      "source": [
        "# Loops and Control Flow Statements"
      ]
    },
    {
      "cell_type": "markdown",
      "metadata": {
        "id": "VWUDUbsDGFPD",
        "colab_type": "text"
      },
      "source": [
        "## If"
      ]
    },
    {
      "cell_type": "markdown",
      "metadata": {
        "id": "4YnAIXiJGFPD",
        "colab_type": "text"
      },
      "source": [
        "If statement executes the code block below it if and only if the given condition resolves as `true`\n",
        "\n",
        "```\n",
        "if some_condition:\n",
        "    algorithm\n",
        "```\n",
        "\n"
      ]
    },
    {
      "cell_type": "code",
      "metadata": {
        "id": "mcUDirgVGFPD",
        "colab_type": "code",
        "colab": {
          "base_uri": "https://localhost:8080/",
          "height": 34
        },
        "outputId": "7579b8d7-5460-4bcf-b964-6b5dbf47a791"
      },
      "source": [
        "x = 12\n",
        "if x >10:\n",
        "    print(\"Hello\")"
      ],
      "execution_count": 122,
      "outputs": [
        {
          "output_type": "stream",
          "text": [
            "Hello\n"
          ],
          "name": "stdout"
        }
      ]
    },
    {
      "cell_type": "markdown",
      "metadata": {
        "id": "ciSW3v45GFPG",
        "colab_type": "text"
      },
      "source": [
        "##If-else"
      ]
    },
    {
      "cell_type": "markdown",
      "metadata": {
        "id": "ToizF9-vHZBW",
        "colab_type": "text"
      },
      "source": [
        "If-else statements executes the code below the if block if and only if the given condition resolves as `true`, and if the condition is `false` executes the code block below the else statement\n",
        "\n",
        "```\n",
        "if some_condition:\n",
        "    algorithm\n",
        "else:\n",
        "    algorithm\n",
        "```"
      ]
    },
    {
      "cell_type": "code",
      "metadata": {
        "id": "1axn_91JGFPH",
        "colab_type": "code",
        "colab": {
          "base_uri": "https://localhost:8080/",
          "height": 34
        },
        "outputId": "fb6dc3f3-732a-44a5-bffd-e07b0b738583"
      },
      "source": [
        "x = 12\n",
        "if x > 10:\n",
        "    print(\"hello\")\n",
        "else:\n",
        "    print(\"world\")"
      ],
      "execution_count": 124,
      "outputs": [
        {
          "output_type": "stream",
          "text": [
            "hello\n"
          ],
          "name": "stdout"
        }
      ]
    },
    {
      "cell_type": "markdown",
      "metadata": {
        "id": "uRVXglubGFPJ",
        "colab_type": "text"
      },
      "source": [
        "##if-elif"
      ]
    },
    {
      "cell_type": "markdown",
      "metadata": {
        "collapsed": false,
        "id": "EGC0bDmDGFPJ",
        "colab_type": "text"
      },
      "source": [
        "elif statement executes the corresponding code block if the previous condition is `false` and the corresponding condition is `true`\n",
        "\n",
        "```\n",
        "if some_condition:\n",
        "    algorithm\n",
        "elif:\n",
        "    algorithm\n",
        "else:\n",
        "    algorithm\n",
        "```"
      ]
    },
    {
      "cell_type": "code",
      "metadata": {
        "id": "hcOcNRGUGFPK",
        "colab_type": "code",
        "colab": {
          "base_uri": "https://localhost:8080/",
          "height": 34
        },
        "outputId": "460bfe6c-c72d-4cbf-83a6-ef181e4de35c"
      },
      "source": [
        "x = 10\n",
        "y = 12\n",
        "if x > y:\n",
        "    print(\"x>y\")\n",
        "elif x < y:\n",
        "    print(\"x<y\")\n",
        "else:\n",
        "    print(\"x=y\")"
      ],
      "execution_count": 125,
      "outputs": [
        {
          "output_type": "stream",
          "text": [
            "x<y\n"
          ],
          "name": "stdout"
        }
      ]
    },
    {
      "cell_type": "markdown",
      "metadata": {
        "id": "ndNaIh4mIhrV",
        "colab_type": "text"
      },
      "source": [
        "## Nested if Statements"
      ]
    },
    {
      "cell_type": "markdown",
      "metadata": {
        "id": "cWs1ecr4GFPL",
        "colab_type": "text"
      },
      "source": [
        "if statement inside a if statement or if-elif or if-else are called as nested if statements."
      ]
    },
    {
      "cell_type": "code",
      "metadata": {
        "id": "7b_e9ftvGFPM",
        "colab_type": "code",
        "colab": {},
        "outputId": "553b35eb-f161-49a4-a519-25788d4082df"
      },
      "source": [
        "x = 10\n",
        "y = 12\n",
        "if x > y:\n",
        "    print(\"x>y\")\n",
        "elif x < y:\n",
        "    print(\"x<y\")\n",
        "    if x==10:\n",
        "        print(\"x=10\")\n",
        "    else:\n",
        "        print(\"invalid\")\n",
        "else:\n",
        "    print(\"x=y\")"
      ],
      "execution_count": null,
      "outputs": [
        {
          "output_type": "stream",
          "text": [
            "x<y\n",
            "x=10\n"
          ],
          "name": "stdout"
        }
      ]
    },
    {
      "cell_type": "markdown",
      "metadata": {
        "id": "ZzxjuRDJGFPO",
        "colab_type": "text"
      },
      "source": [
        "##Loops"
      ]
    },
    {
      "cell_type": "markdown",
      "metadata": {
        "id": "LhvXneHwI88i",
        "colab_type": "text"
      },
      "source": [
        "Loops execute the code block for a number of iterations."
      ]
    },
    {
      "cell_type": "markdown",
      "metadata": {
        "id": "GunI_D9AGFPO",
        "colab_type": "text"
      },
      "source": [
        "###For"
      ]
    },
    {
      "cell_type": "markdown",
      "metadata": {
        "collapsed": false,
        "id": "WMST2GRfGFPO",
        "colab_type": "text"
      },
      "source": [
        "For statement iterates through the given list of items."
      ]
    },
    {
      "cell_type": "code",
      "metadata": {
        "id": "CHwo3TCyGFPP",
        "colab_type": "code",
        "colab": {
          "base_uri": "https://localhost:8080/",
          "height": 102
        },
        "outputId": "2d3325a6-750b-4000-ffe4-9aded2e13afc"
      },
      "source": [
        "for i in range(5):\n",
        "    print(i)"
      ],
      "execution_count": 126,
      "outputs": [
        {
          "output_type": "stream",
          "text": [
            "0\n",
            "1\n",
            "2\n",
            "3\n",
            "4\n"
          ],
          "name": "stdout"
        }
      ]
    },
    {
      "cell_type": "markdown",
      "metadata": {
        "id": "EZnxN8aoGFPR",
        "colab_type": "text"
      },
      "source": [
        "In the above example, i iterates over the 0,1,2,3,4. Every time it takes each value and executes the algorithm inside the loop. It is also possible to iterate over a nested list illustrated below."
      ]
    },
    {
      "cell_type": "code",
      "metadata": {
        "id": "YvZ_o6REGFPR",
        "colab_type": "code",
        "colab": {
          "base_uri": "https://localhost:8080/",
          "height": 68
        },
        "outputId": "1ed87302-e95b-4644-d50e-f1927e171524"
      },
      "source": [
        "list_of_lists = [[1, 2, 3], [4, 5, 6], [7, 8, 9]]\n",
        "for list1 in list_of_lists:\n",
        "        print(list1)"
      ],
      "execution_count": 127,
      "outputs": [
        {
          "output_type": "stream",
          "text": [
            "[1, 2, 3]\n",
            "[4, 5, 6]\n",
            "[7, 8, 9]\n"
          ],
          "name": "stdout"
        }
      ]
    },
    {
      "cell_type": "markdown",
      "metadata": {
        "id": "voV5cww-GFPT",
        "colab_type": "text"
      },
      "source": [
        "A use case of a nested for loop in this case would be,"
      ]
    },
    {
      "cell_type": "code",
      "metadata": {
        "id": "hfj9vPuFGFPT",
        "colab_type": "code",
        "colab": {
          "base_uri": "https://localhost:8080/",
          "height": 170
        },
        "outputId": "ff55ee35-f446-4de2-9959-0d49dc0a679d"
      },
      "source": [
        "list_of_lists = [[1, 2, 3], [4, 5, 6], [7, 8, 9]]\n",
        "for list1 in list_of_lists:\n",
        "    for x in list1:\n",
        "        print(x)"
      ],
      "execution_count": 128,
      "outputs": [
        {
          "output_type": "stream",
          "text": [
            "1\n",
            "2\n",
            "3\n",
            "4\n",
            "5\n",
            "6\n",
            "7\n",
            "8\n",
            "9\n"
          ],
          "name": "stdout"
        }
      ]
    },
    {
      "cell_type": "markdown",
      "metadata": {
        "id": "ao1Ed1UHGFPV",
        "colab_type": "text"
      },
      "source": [
        "###While"
      ]
    },
    {
      "cell_type": "markdown",
      "metadata": {
        "id": "Z_tfTjpnJzhl",
        "colab_type": "text"
      },
      "source": [
        "While loops in python executes the code block below iteratively until the condition given resolves to false. The condition supposed to be changing at each iteration for the code block to halt eventually."
      ]
    },
    {
      "cell_type": "code",
      "metadata": {
        "id": "MYxTgQyyGFPV",
        "colab_type": "code",
        "colab": {
          "base_uri": "https://localhost:8080/",
          "height": 68
        },
        "outputId": "8de13ddc-19a4-454e-c40c-cce806845736"
      },
      "source": [
        "i = 1\n",
        "while i < 3:\n",
        "    print(i ** 2)\n",
        "    i = i+1\n",
        "print('Bye')"
      ],
      "execution_count": 129,
      "outputs": [
        {
          "output_type": "stream",
          "text": [
            "1\n",
            "4\n",
            "Bye\n"
          ],
          "name": "stdout"
        }
      ]
    },
    {
      "cell_type": "markdown",
      "metadata": {
        "id": "F2EnT9mmGFPX",
        "colab_type": "text"
      },
      "source": [
        "##Break"
      ]
    },
    {
      "cell_type": "markdown",
      "metadata": {
        "id": "xjGDkVSgGFPY",
        "colab_type": "text"
      },
      "source": [
        "As the name says. It is used to break out of a loop when a condition becomes true when executing the loop."
      ]
    },
    {
      "cell_type": "code",
      "metadata": {
        "id": "0wojE3uYGFPY",
        "colab_type": "code",
        "colab": {
          "base_uri": "https://localhost:8080/",
          "height": 153
        },
        "outputId": "dcfeffac-bf0f-4532-9ebd-d1f927646401"
      },
      "source": [
        "for i in range(100):\n",
        "    print(i)\n",
        "    if i>=7:\n",
        "        break"
      ],
      "execution_count": 130,
      "outputs": [
        {
          "output_type": "stream",
          "text": [
            "0\n",
            "1\n",
            "2\n",
            "3\n",
            "4\n",
            "5\n",
            "6\n",
            "7\n"
          ],
          "name": "stdout"
        }
      ]
    },
    {
      "cell_type": "markdown",
      "metadata": {
        "id": "KL45O1NeGFPa",
        "colab_type": "text"
      },
      "source": [
        "##Continue"
      ]
    },
    {
      "cell_type": "markdown",
      "metadata": {
        "id": "NjyNWu4tGFPa",
        "colab_type": "text"
      },
      "source": [
        "This continues the rest of the loop. Sometimes when a condition is satisfied there are chances of the loop getting terminated. This can be avoided using continue statement. "
      ]
    },
    {
      "cell_type": "code",
      "metadata": {
        "id": "bnsxuMyQGFPa",
        "colab_type": "code",
        "colab": {
          "base_uri": "https://localhost:8080/",
          "height": 187
        },
        "outputId": "49e04485-8b90-4c74-ba53-80f05530d152"
      },
      "source": [
        "for i in range(10):\n",
        "    if i>4:\n",
        "        print(\"The end.\")\n",
        "        continue\n",
        "    elif i<7:\n",
        "        print(i)"
      ],
      "execution_count": 131,
      "outputs": [
        {
          "output_type": "stream",
          "text": [
            "0\n",
            "1\n",
            "2\n",
            "3\n",
            "4\n",
            "The end.\n",
            "The end.\n",
            "The end.\n",
            "The end.\n",
            "The end.\n"
          ],
          "name": "stdout"
        }
      ]
    },
    {
      "cell_type": "markdown",
      "metadata": {
        "id": "dxAmqaFaGFPc",
        "colab_type": "text"
      },
      "source": [
        "##List Comprehensions"
      ]
    },
    {
      "cell_type": "markdown",
      "metadata": {
        "id": "iYv43FuqGFPc",
        "colab_type": "text"
      },
      "source": [
        "Python makes it simple to generate a required list with a single line of code using list comprehensions. For example If i need to generate multiples of say 27 I write the code using for loop as,"
      ]
    },
    {
      "cell_type": "code",
      "metadata": {
        "id": "WXmg98bvGFPd",
        "colab_type": "code",
        "colab": {
          "base_uri": "https://localhost:8080/",
          "height": 34
        },
        "outputId": "12ea86e1-086c-48a8-8277-4ea2382d7931"
      },
      "source": [
        "res = []\n",
        "for i in range(1,11):\n",
        "    x = 27*i\n",
        "    res.append(x)\n",
        "print(res)"
      ],
      "execution_count": 132,
      "outputs": [
        {
          "output_type": "stream",
          "text": [
            "[27, 54, 81, 108, 135, 162, 189, 216, 243, 270]\n"
          ],
          "name": "stdout"
        }
      ]
    },
    {
      "cell_type": "markdown",
      "metadata": {
        "id": "YkRzAuRsGFPe",
        "colab_type": "text"
      },
      "source": [
        "Since you are generating another list altogether and that is what is required, List comprehensions is a more efficient way to solve this problem."
      ]
    },
    {
      "cell_type": "code",
      "metadata": {
        "id": "Y8OkpGRgGFPf",
        "colab_type": "code",
        "colab": {
          "base_uri": "https://localhost:8080/",
          "height": 34
        },
        "outputId": "8f4810b5-f0c5-4e08-cae6-0b23aea93734"
      },
      "source": [
        "[27*x for x in range(1,11)]"
      ],
      "execution_count": 133,
      "outputs": [
        {
          "output_type": "execute_result",
          "data": {
            "text/plain": [
              "[27, 54, 81, 108, 135, 162, 189, 216, 243, 270]"
            ]
          },
          "metadata": {
            "tags": []
          },
          "execution_count": 133
        }
      ]
    },
    {
      "cell_type": "markdown",
      "metadata": {
        "id": "tsD3yRhIGFPi",
        "colab_type": "text"
      },
      "source": [
        "That's it!. Only remember to enclose it in square brackets"
      ]
    },
    {
      "cell_type": "markdown",
      "metadata": {
        "id": "jV-FnP5OGFPi",
        "colab_type": "text"
      },
      "source": [
        "Understanding the code, The first bit of the code is always the algorithm and then leave a space and then write the necessary loop. But you might be wondering can nested loops be extended to list comprehensions? Yes you can."
      ]
    },
    {
      "cell_type": "code",
      "metadata": {
        "id": "ZB0r1YnnGFPj",
        "colab_type": "code",
        "colab": {
          "base_uri": "https://localhost:8080/",
          "height": 34
        },
        "outputId": "ac9ffeb4-3111-4b4e-de7a-f8532cb6d9cc"
      },
      "source": [
        "[27*x for x in range(1,20) if x<=10]"
      ],
      "execution_count": 134,
      "outputs": [
        {
          "output_type": "execute_result",
          "data": {
            "text/plain": [
              "[27, 54, 81, 108, 135, 162, 189, 216, 243, 270]"
            ]
          },
          "metadata": {
            "tags": []
          },
          "execution_count": 134
        }
      ]
    },
    {
      "cell_type": "markdown",
      "metadata": {
        "id": "TFqJ2LHhGFPl",
        "colab_type": "text"
      },
      "source": [
        "Let us add one more loop to make you understand better, "
      ]
    },
    {
      "cell_type": "code",
      "metadata": {
        "id": "h7Nw7Ql7GFPl",
        "colab_type": "code",
        "colab": {
          "base_uri": "https://localhost:8080/",
          "height": 357
        },
        "outputId": "89a8b212-adcd-4a2c-dd87-762ed5918078"
      },
      "source": [
        "[27*z for i in range(50) if i<2 for z in range(1,11)]"
      ],
      "execution_count": 139,
      "outputs": [
        {
          "output_type": "execute_result",
          "data": {
            "text/plain": [
              "[27,\n",
              " 54,\n",
              " 81,\n",
              " 108,\n",
              " 135,\n",
              " 162,\n",
              " 189,\n",
              " 216,\n",
              " 243,\n",
              " 270,\n",
              " 27,\n",
              " 54,\n",
              " 81,\n",
              " 108,\n",
              " 135,\n",
              " 162,\n",
              " 189,\n",
              " 216,\n",
              " 243,\n",
              " 270]"
            ]
          },
          "metadata": {
            "tags": []
          },
          "execution_count": 139
        }
      ]
    },
    {
      "cell_type": "markdown",
      "metadata": {
        "id": "HWh1ipogLqCs",
        "colab_type": "text"
      },
      "source": [
        "Nest list comprehensions are also possible. An example is given below."
      ]
    },
    {
      "cell_type": "code",
      "metadata": {
        "id": "1eed3NjgL41N",
        "colab_type": "code",
        "colab": {
          "base_uri": "https://localhost:8080/",
          "height": 102
        },
        "outputId": "fa047629-1e3f-4c28-eaa0-a45aad8a8fdd"
      },
      "source": [
        "[[27*i for i in range(11)] for z in range(1,11) if z%2==0]"
      ],
      "execution_count": 144,
      "outputs": [
        {
          "output_type": "execute_result",
          "data": {
            "text/plain": [
              "[[0, 27, 54, 81, 108, 135, 162, 189, 216, 243, 270],\n",
              " [0, 27, 54, 81, 108, 135, 162, 189, 216, 243, 270],\n",
              " [0, 27, 54, 81, 108, 135, 162, 189, 216, 243, 270],\n",
              " [0, 27, 54, 81, 108, 135, 162, 189, 216, 243, 270],\n",
              " [0, 27, 54, 81, 108, 135, 162, 189, 216, 243, 270]]"
            ]
          },
          "metadata": {
            "tags": []
          },
          "execution_count": 144
        }
      ]
    },
    {
      "cell_type": "markdown",
      "metadata": {
        "id": "GG_5QhD9MVHL",
        "colab_type": "text"
      },
      "source": [
        "# Functions"
      ]
    },
    {
      "cell_type": "markdown",
      "metadata": {
        "id": "zVlql5scSfRS",
        "colab_type": "text"
      },
      "source": [
        "## Implementation of Functions"
      ]
    },
    {
      "cell_type": "markdown",
      "metadata": {
        "id": "U-XzGrDfZHMo",
        "colab_type": "text"
      },
      "source": [
        "Most of the times, In a algorithm the statements keep repeating and it will be a tedious job to execute the same statements again and again and will consume a lot of memory and is not efficient. Enter Functions."
      ]
    },
    {
      "cell_type": "markdown",
      "metadata": {
        "id": "rs50FChDZHMp",
        "colab_type": "text"
      },
      "source": [
        "This is the basic syntax of a function"
      ]
    },
    {
      "cell_type": "markdown",
      "metadata": {
        "id": "pMraoxG3ZHMp",
        "colab_type": "text"
      },
      "source": [
        "```\n",
        "def funcname(arg1, arg2,... argN):\n",
        "    ''' Document String'''\n",
        "    statements\n",
        "    return <value>\n",
        "```\n",
        "\n"
      ]
    },
    {
      "cell_type": "markdown",
      "metadata": {
        "id": "5e88jJnJZHMq",
        "colab_type": "text"
      },
      "source": [
        "Read the above syntax as, A function by name \"funcname\" is defined, which accepts arguements \"arg1,arg2,....argN\". The function is documented and it is '''Document String'''. The function after executing the statements returns a \"value\"."
      ]
    },
    {
      "cell_type": "code",
      "metadata": {
        "id": "L7c-HdwkZHMq",
        "colab_type": "code",
        "colab": {
          "base_uri": "https://localhost:8080/",
          "height": 51
        },
        "outputId": "31a48f96-64f9-414a-9c96-0ce92916bc8e"
      },
      "source": [
        "print(\"Hey Rajath!\")\n",
        "print(\"Rajath, How do you do?\")"
      ],
      "execution_count": 146,
      "outputs": [
        {
          "output_type": "stream",
          "text": [
            "Hey Rajath!\n",
            "Rajath, How do you do?\n"
          ],
          "name": "stdout"
        }
      ]
    },
    {
      "cell_type": "markdown",
      "metadata": {
        "id": "vxNG-qAFZHMt",
        "colab_type": "text"
      },
      "source": [
        "Instead of writing the above two statements every single time it can be replaced by defining a function which would do the job in just one line. \n",
        "\n",
        "Defining a function firstfunc()."
      ]
    },
    {
      "cell_type": "code",
      "metadata": {
        "id": "-TN3yqRLZHMt",
        "colab_type": "code",
        "colab": {}
      },
      "source": [
        "def firstfunc():\n",
        "    print(\"Hey Rajath!\")\n",
        "    print(\"Rajath, How do you do?\")   "
      ],
      "execution_count": 147,
      "outputs": []
    },
    {
      "cell_type": "code",
      "metadata": {
        "id": "dX9PBUC-ZHMv",
        "colab_type": "code",
        "colab": {
          "base_uri": "https://localhost:8080/",
          "height": 51
        },
        "outputId": "9c869739-0cd6-48b9-bf93-a8e8a9eb5f9b"
      },
      "source": [
        "firstfunc()"
      ],
      "execution_count": 148,
      "outputs": [
        {
          "output_type": "stream",
          "text": [
            "Hey Rajath!\n",
            "Rajath, How do you do?\n"
          ],
          "name": "stdout"
        }
      ]
    },
    {
      "cell_type": "markdown",
      "metadata": {
        "id": "W0vd35OXZHMx",
        "colab_type": "text"
      },
      "source": [
        "**firstfunc()** every time just prints the message to a single person. We can make our function **firstfunc()** to accept arguements which will store the name and then prints respective to that accepted name. To do so, add a argument within the function as shown."
      ]
    },
    {
      "cell_type": "code",
      "metadata": {
        "id": "BNteLUReZHMy",
        "colab_type": "code",
        "colab": {}
      },
      "source": [
        "def firstfunc(username):\n",
        "    print(\"Hey\", username + '!')\n",
        "    print(username + ',' ,\"How do you do?\")"
      ],
      "execution_count": 151,
      "outputs": []
    },
    {
      "cell_type": "code",
      "metadata": {
        "id": "9QFa8W_-ZHM0",
        "colab_type": "code",
        "colab": {
          "base_uri": "https://localhost:8080/",
          "height": 34
        },
        "outputId": "aaf7632c-4437-4a5a-b961-df26abf9fbdc"
      },
      "source": [
        "name1 = input('Please enter your name : ')"
      ],
      "execution_count": 153,
      "outputs": [
        {
          "output_type": "stream",
          "text": [
            "Please enter your name : Alita\n"
          ],
          "name": "stdout"
        }
      ]
    },
    {
      "cell_type": "markdown",
      "metadata": {
        "id": "YW642YvlZHM3",
        "colab_type": "text"
      },
      "source": [
        "The name \"Alita\" is actually stored in name1. So we pass this variable to the function **firstfunc()** as the variable username because that is the variable that is defined for this function. i.e name1 is passed as username."
      ]
    },
    {
      "cell_type": "code",
      "metadata": {
        "id": "lUACimWGZHM4",
        "colab_type": "code",
        "colab": {
          "base_uri": "https://localhost:8080/",
          "height": 51
        },
        "outputId": "bd7b091c-1200-42bd-ac82-64f5c1218436"
      },
      "source": [
        "firstfunc(name1)"
      ],
      "execution_count": 154,
      "outputs": [
        {
          "output_type": "stream",
          "text": [
            "Hey Alita!\n",
            "Alita, How do you do?\n"
          ],
          "name": "stdout"
        }
      ]
    },
    {
      "cell_type": "markdown",
      "metadata": {
        "id": "fxc8KsUQZHM6",
        "colab_type": "text"
      },
      "source": [
        "Let us simplify this even further by defining another function **secondfunc()** which accepts the name and stores it inside a variable and then calls the **firstfunc()** from inside the function itself."
      ]
    },
    {
      "cell_type": "code",
      "metadata": {
        "id": "vPVNCjI4ZHM6",
        "colab_type": "code",
        "colab": {}
      },
      "source": [
        "def firstfunc(username):\n",
        "    print(\"Hey\", username + '!')\n",
        "    print(username + ',' ,\"I miss you.\")\n",
        "def secondfunc():\n",
        "    name = input(\"Please enter your name : \")\n",
        "    firstfunc(name)"
      ],
      "execution_count": 157,
      "outputs": []
    },
    {
      "cell_type": "code",
      "metadata": {
        "id": "tefZ0itNZHM8",
        "colab_type": "code",
        "colab": {
          "base_uri": "https://localhost:8080/",
          "height": 68
        },
        "outputId": "6d66b58b-cb9d-44b9-e939-7c4cf5e32403"
      },
      "source": [
        "secondfunc()"
      ],
      "execution_count": 158,
      "outputs": [
        {
          "output_type": "stream",
          "text": [
            "Please enter your name : Felix\n",
            "Hey Felix!\n",
            "Felix, I miss you.\n"
          ],
          "name": "stdout"
        }
      ]
    },
    {
      "cell_type": "markdown",
      "metadata": {
        "id": "nyNgCL58ZHM-",
        "colab_type": "text"
      },
      "source": [
        "##Return Statement"
      ]
    },
    {
      "cell_type": "markdown",
      "metadata": {
        "id": "5AJoYmvuZHM-",
        "colab_type": "text"
      },
      "source": [
        "When the function results in some value and that value has to be stored in a variable or needs to be sent back or returned for further operation to the main algorithm, return statement is used."
      ]
    },
    {
      "cell_type": "code",
      "metadata": {
        "id": "ZGpLI3B9ZHM-",
        "colab_type": "code",
        "colab": {}
      },
      "source": [
        "def times(x,y):\n",
        "    z = x*y\n",
        "    return z"
      ],
      "execution_count": 159,
      "outputs": []
    },
    {
      "cell_type": "markdown",
      "metadata": {
        "id": "ZK-djlmkZHNA",
        "colab_type": "text"
      },
      "source": [
        "The above defined **times( )** function accepts two arguements and return the variable z which contains the result of the product of the two arguements"
      ]
    },
    {
      "cell_type": "code",
      "metadata": {
        "id": "7Wuvy9RHZHNA",
        "colab_type": "code",
        "colab": {
          "base_uri": "https://localhost:8080/",
          "height": 34
        },
        "outputId": "b12107ff-bf84-4a20-adfc-89d0878a0166"
      },
      "source": [
        "c = times(4,5)\n",
        "print(c)"
      ],
      "execution_count": 160,
      "outputs": [
        {
          "output_type": "stream",
          "text": [
            "20\n"
          ],
          "name": "stdout"
        }
      ]
    },
    {
      "cell_type": "markdown",
      "metadata": {
        "id": "cMlt5s28ZHNC",
        "colab_type": "text"
      },
      "source": [
        "The z value is stored in variable c and can be used for further operations."
      ]
    },
    {
      "cell_type": "markdown",
      "metadata": {
        "id": "c1WC1CibZHNC",
        "colab_type": "text"
      },
      "source": [
        "Instead of declaring another variable the entire statement itself can be used in the return statement as shown."
      ]
    },
    {
      "cell_type": "code",
      "metadata": {
        "id": "6dVvXY-wZHND",
        "colab_type": "code",
        "colab": {}
      },
      "source": [
        "def times(x,y):\n",
        "    '''This multiplies the two input arguments'''\n",
        "    return x*y"
      ],
      "execution_count": 161,
      "outputs": []
    },
    {
      "cell_type": "code",
      "metadata": {
        "id": "QClNpKCRZHNE",
        "colab_type": "code",
        "colab": {
          "base_uri": "https://localhost:8080/",
          "height": 34
        },
        "outputId": "0f94b09f-3c46-4e61-b69b-5dcd56e0e973"
      },
      "source": [
        "c = times(4,5)\n",
        "print(c)"
      ],
      "execution_count": 162,
      "outputs": [
        {
          "output_type": "stream",
          "text": [
            "20\n"
          ],
          "name": "stdout"
        }
      ]
    },
    {
      "cell_type": "markdown",
      "metadata": {
        "id": "UW7hhnEfZHNG",
        "colab_type": "text"
      },
      "source": [
        "Since the **times( )** is now defined, we can document it as shown above. This document is returned whenever **times( )** function is called under **help( )** function."
      ]
    },
    {
      "cell_type": "code",
      "metadata": {
        "id": "oXiwc8bqZHNG",
        "colab_type": "code",
        "colab": {
          "base_uri": "https://localhost:8080/",
          "height": 102
        },
        "outputId": "4da63754-004a-448a-b017-427618cbc5ee"
      },
      "source": [
        "help(times)"
      ],
      "execution_count": 163,
      "outputs": [
        {
          "output_type": "stream",
          "text": [
            "Help on function times in module __main__:\n",
            "\n",
            "times(x, y)\n",
            "    This multiplies the two input arguments\n",
            "\n"
          ],
          "name": "stdout"
        }
      ]
    },
    {
      "cell_type": "markdown",
      "metadata": {
        "id": "d65sX86vZHNI",
        "colab_type": "text"
      },
      "source": [
        "Multiple variable can also be returned, But keep in mind the order."
      ]
    },
    {
      "cell_type": "code",
      "metadata": {
        "id": "kQvURE2gZHNI",
        "colab_type": "code",
        "colab": {}
      },
      "source": [
        "eglist = [10,50,30,12,6,8,100]"
      ],
      "execution_count": 164,
      "outputs": []
    },
    {
      "cell_type": "code",
      "metadata": {
        "id": "VGSk1aRmZHNK",
        "colab_type": "code",
        "colab": {}
      },
      "source": [
        "def egfunc(eglist):\n",
        "    highest = max(eglist)\n",
        "    lowest = min(eglist)\n",
        "    first = eglist[0]\n",
        "    last = eglist[-1]\n",
        "    return highest,lowest,first,last"
      ],
      "execution_count": 165,
      "outputs": []
    },
    {
      "cell_type": "markdown",
      "metadata": {
        "id": "Iryj8R3CZHNM",
        "colab_type": "text"
      },
      "source": [
        "If the function is just called without any variable for it to be assigned to, the result is returned inside a tuple. But if the variables are mentioned then the result is assigned to the variable in a particular order which is declared in the return statement."
      ]
    },
    {
      "cell_type": "code",
      "metadata": {
        "id": "zk78WTtAZHNM",
        "colab_type": "code",
        "colab": {
          "base_uri": "https://localhost:8080/",
          "height": 34
        },
        "outputId": "a7b4bc1e-07c1-4448-b6ca-b2e54c729da0"
      },
      "source": [
        "egfunc(eglist)"
      ],
      "execution_count": 166,
      "outputs": [
        {
          "output_type": "execute_result",
          "data": {
            "text/plain": [
              "(100, 6, 10, 100)"
            ]
          },
          "metadata": {
            "tags": []
          },
          "execution_count": 166
        }
      ]
    },
    {
      "cell_type": "code",
      "metadata": {
        "id": "IAAYvkRMZHNO",
        "colab_type": "code",
        "colab": {
          "base_uri": "https://localhost:8080/",
          "height": 85
        },
        "outputId": "91a0a39c-2111-4aaf-a324-a7bbe4bdd9d1"
      },
      "source": [
        "a,b,c,d = egfunc(eglist)\n",
        "print(' a =',a,'\\n b =',b,'\\n c =',c,'\\n d =',d)"
      ],
      "execution_count": 167,
      "outputs": [
        {
          "output_type": "stream",
          "text": [
            " a = 100 \n",
            " b = 6 \n",
            " c = 10 \n",
            " d = 100\n"
          ],
          "name": "stdout"
        }
      ]
    },
    {
      "cell_type": "markdown",
      "metadata": {
        "id": "JVktCKN3ZHNQ",
        "colab_type": "text"
      },
      "source": [
        "##Implicit arguments"
      ]
    },
    {
      "cell_type": "markdown",
      "metadata": {
        "id": "6O-bSULhZHNQ",
        "colab_type": "text"
      },
      "source": [
        "When an argument of a function is common in majority of the cases or it is \"implicit\" this concept is used."
      ]
    },
    {
      "cell_type": "code",
      "metadata": {
        "id": "nq9d03oIZHNQ",
        "colab_type": "code",
        "colab": {}
      },
      "source": [
        "def implicitadd(x,y=3):\n",
        "    return x+y"
      ],
      "execution_count": 168,
      "outputs": []
    },
    {
      "cell_type": "markdown",
      "metadata": {
        "id": "hzvN_e6oZHNS",
        "colab_type": "text"
      },
      "source": [
        "**implicitadd( )** is a function accepts two arguments but most of the times the first argument needs to be added just by 3. Hence the second argument is assigned the value 3. Here the second argument is implicit."
      ]
    },
    {
      "cell_type": "markdown",
      "metadata": {
        "id": "AEWyleOCZHNS",
        "colab_type": "text"
      },
      "source": [
        "Now if the second argument is not defined when calling the **implicitadd( )** function then it considered as 3."
      ]
    },
    {
      "cell_type": "code",
      "metadata": {
        "id": "o_Catz2oZHNS",
        "colab_type": "code",
        "colab": {
          "base_uri": "https://localhost:8080/",
          "height": 34
        },
        "outputId": "c24f0c26-17d7-4b20-8263-c2e231a29bf3"
      },
      "source": [
        "implicitadd(4)"
      ],
      "execution_count": 169,
      "outputs": [
        {
          "output_type": "execute_result",
          "data": {
            "text/plain": [
              "7"
            ]
          },
          "metadata": {
            "tags": []
          },
          "execution_count": 169
        }
      ]
    },
    {
      "cell_type": "markdown",
      "metadata": {
        "id": "Jc8LMfAmZHNU",
        "colab_type": "text"
      },
      "source": [
        "But if the second argument is specified then this value overrides the implicit value assigned to the argument "
      ]
    },
    {
      "cell_type": "code",
      "metadata": {
        "id": "7-yD7R1aZHNU",
        "colab_type": "code",
        "colab": {
          "base_uri": "https://localhost:8080/",
          "height": 34
        },
        "outputId": "f6102e36-4b70-4b14-b5ed-41af401e39ab"
      },
      "source": [
        "implicitadd(4,4)"
      ],
      "execution_count": 170,
      "outputs": [
        {
          "output_type": "execute_result",
          "data": {
            "text/plain": [
              "8"
            ]
          },
          "metadata": {
            "tags": []
          },
          "execution_count": 170
        }
      ]
    },
    {
      "cell_type": "markdown",
      "metadata": {
        "id": "jGZHomUmZHNW",
        "colab_type": "text"
      },
      "source": [
        "##Any number of arguments"
      ]
    },
    {
      "cell_type": "markdown",
      "metadata": {
        "id": "uJEcaTHGZHNW",
        "colab_type": "text"
      },
      "source": [
        "If the number of arguments that is to be accepted by a function is not known then a asterisk symbol is used before the argument."
      ]
    },
    {
      "cell_type": "code",
      "metadata": {
        "id": "YSufq3OSZHNX",
        "colab_type": "code",
        "colab": {}
      },
      "source": [
        "def add_n(*args):\n",
        "    res = 0\n",
        "    reslist = []\n",
        "    for i in args:\n",
        "        reslist.append(i)\n",
        "    print(reslist)\n",
        "    return sum(reslist)"
      ],
      "execution_count": 171,
      "outputs": []
    },
    {
      "cell_type": "markdown",
      "metadata": {
        "id": "w_TPdXIFZHNZ",
        "colab_type": "text"
      },
      "source": [
        "The above function accepts any number of arguments, defines a list and appends all the arguments into that list and return the sum of all the arguments."
      ]
    },
    {
      "cell_type": "code",
      "metadata": {
        "id": "NeoQQi9HZHNZ",
        "colab_type": "code",
        "colab": {
          "base_uri": "https://localhost:8080/",
          "height": 51
        },
        "outputId": "f58dbf94-1577-407f-c270-227e32dfa1e5"
      },
      "source": [
        "add_n(1,2,3,4,5)"
      ],
      "execution_count": 172,
      "outputs": [
        {
          "output_type": "stream",
          "text": [
            "[1, 2, 3, 4, 5]\n"
          ],
          "name": "stdout"
        },
        {
          "output_type": "execute_result",
          "data": {
            "text/plain": [
              "15"
            ]
          },
          "metadata": {
            "tags": []
          },
          "execution_count": 172
        }
      ]
    },
    {
      "cell_type": "code",
      "metadata": {
        "id": "btGkUvVuZHNd",
        "colab_type": "code",
        "colab": {
          "base_uri": "https://localhost:8080/",
          "height": 51
        },
        "outputId": "89d4f199-9df8-4a01-c3c4-a95138da3db5"
      },
      "source": [
        "add_n(1,2,3)"
      ],
      "execution_count": 173,
      "outputs": [
        {
          "output_type": "stream",
          "text": [
            "[1, 2, 3]\n"
          ],
          "name": "stdout"
        },
        {
          "output_type": "execute_result",
          "data": {
            "text/plain": [
              "6"
            ]
          },
          "metadata": {
            "tags": []
          },
          "execution_count": 173
        }
      ]
    },
    {
      "cell_type": "markdown",
      "metadata": {
        "id": "HxYpwnkCZHNe",
        "colab_type": "text"
      },
      "source": [
        "##Global and Local Variables"
      ]
    },
    {
      "cell_type": "markdown",
      "metadata": {
        "id": "fyqIkBL9ZHNe",
        "colab_type": "text"
      },
      "source": [
        "Whatever variable is declared inside a function is local variable and outside the function in global variable."
      ]
    },
    {
      "cell_type": "code",
      "metadata": {
        "id": "r05WmpduZHNf",
        "colab_type": "code",
        "colab": {}
      },
      "source": [
        "eg1 = [1,2,3,4,5]"
      ],
      "execution_count": 1,
      "outputs": []
    },
    {
      "cell_type": "markdown",
      "metadata": {
        "id": "yh73CSrNZHNg",
        "colab_type": "text"
      },
      "source": [
        "In the below function we are appending a element to the declared list inside the function. eg2 variable declared inside the function is a local variable."
      ]
    },
    {
      "cell_type": "code",
      "metadata": {
        "id": "esd4AQ43ZHNh",
        "colab_type": "code",
        "colab": {}
      },
      "source": [
        "def egfunc1():\n",
        "    def thirdfunc(arg1):\n",
        "        eg2 = arg1[:]\n",
        "        eg2.append(6)\n",
        "        print(\"This is happening inside the function :\", eg2) \n",
        "    print(\"This is happening before the function is called : \", eg1)\n",
        "    thirdfunc(eg1)\n",
        "    print(\"This is happening outside the function :\", eg1)   \n",
        "    print(\"Accessing a variable declared inside the function from outside :\" , eg2)"
      ],
      "execution_count": 2,
      "outputs": []
    },
    {
      "cell_type": "code",
      "metadata": {
        "id": "Z5U4RwSMZHNj",
        "colab_type": "code",
        "colab": {
          "base_uri": "https://localhost:8080/",
          "height": 299
        },
        "outputId": "6dcac4b3-97c7-4114-f1e7-19058a102428"
      },
      "source": [
        "egfunc1()"
      ],
      "execution_count": 3,
      "outputs": [
        {
          "output_type": "stream",
          "text": [
            "This is happening before the function is called :  [1, 2, 3, 4, 5]\n",
            "This is happening inside the function : [1, 2, 3, 4, 5, 6]\n",
            "This is happening outside the function : [1, 2, 3, 4, 5]\n"
          ],
          "name": "stdout"
        },
        {
          "output_type": "error",
          "ename": "NameError",
          "evalue": "ignored",
          "traceback": [
            "\u001b[0;31m---------------------------------------------------------------------------\u001b[0m",
            "\u001b[0;31mNameError\u001b[0m                                 Traceback (most recent call last)",
            "\u001b[0;32m<ipython-input-3-a0aede218e7c>\u001b[0m in \u001b[0;36m<module>\u001b[0;34m()\u001b[0m\n\u001b[0;32m----> 1\u001b[0;31m \u001b[0megfunc1\u001b[0m\u001b[0;34m(\u001b[0m\u001b[0;34m)\u001b[0m\u001b[0;34m\u001b[0m\u001b[0;34m\u001b[0m\u001b[0m\n\u001b[0m",
            "\u001b[0;32m<ipython-input-2-7705019c179d>\u001b[0m in \u001b[0;36megfunc1\u001b[0;34m()\u001b[0m\n\u001b[1;32m      7\u001b[0m     \u001b[0mthirdfunc\u001b[0m\u001b[0;34m(\u001b[0m\u001b[0meg1\u001b[0m\u001b[0;34m)\u001b[0m\u001b[0;34m\u001b[0m\u001b[0;34m\u001b[0m\u001b[0m\n\u001b[1;32m      8\u001b[0m     \u001b[0mprint\u001b[0m\u001b[0;34m(\u001b[0m\u001b[0;34m\"This is happening outside the function :\"\u001b[0m\u001b[0;34m,\u001b[0m \u001b[0meg1\u001b[0m\u001b[0;34m)\u001b[0m\u001b[0;34m\u001b[0m\u001b[0;34m\u001b[0m\u001b[0m\n\u001b[0;32m----> 9\u001b[0;31m     \u001b[0mprint\u001b[0m\u001b[0;34m(\u001b[0m\u001b[0;34m\"Accessing a variable declared inside the function from outside :\"\u001b[0m \u001b[0;34m,\u001b[0m \u001b[0meg2\u001b[0m\u001b[0;34m)\u001b[0m\u001b[0;34m\u001b[0m\u001b[0;34m\u001b[0m\u001b[0m\n\u001b[0m",
            "\u001b[0;31mNameError\u001b[0m: name 'eg2' is not defined"
          ]
        }
      ]
    },
    {
      "cell_type": "markdown",
      "metadata": {
        "id": "JMUrTi-cZHNk",
        "colab_type": "text"
      },
      "source": [
        "If a **global** variable is defined as shown in the example below then that variable can be called from anywhere."
      ]
    },
    {
      "cell_type": "code",
      "metadata": {
        "id": "FWyHYM3EZHNm",
        "colab_type": "code",
        "colab": {}
      },
      "source": [
        "def egfunc1():\n",
        "    def thirdfunc(arg1):\n",
        "        global eg2\n",
        "        eg2 = arg1[:]\n",
        "        eg2.append(6)\n",
        "        print(\"This is happening inside the function :\", eg2) \n",
        "    print(\"This is happening before the function is called : \", eg1)\n",
        "    thirdfunc(eg1)\n",
        "    print(\"This is happening outside the function :\", eg1)   \n",
        "    print(\"Accessing a variable declared inside the function from outside :\" , eg2)"
      ],
      "execution_count": 5,
      "outputs": []
    },
    {
      "cell_type": "code",
      "metadata": {
        "id": "S2CAdoBWZHNo",
        "colab_type": "code",
        "colab": {
          "base_uri": "https://localhost:8080/",
          "height": 85
        },
        "outputId": "eb0cddd1-a4fb-4371-e519-ecc74a71c493"
      },
      "source": [
        "egfunc1()"
      ],
      "execution_count": 6,
      "outputs": [
        {
          "output_type": "stream",
          "text": [
            "This is happening before the function is called :  [1, 2, 3, 4, 5]\n",
            "This is happening inside the function : [1, 2, 3, 4, 5, 6]\n",
            "This is happening outside the function : [1, 2, 3, 4, 5]\n",
            "Accessing a variable declared inside the function from outside : [1, 2, 3, 4, 5, 6]\n"
          ],
          "name": "stdout"
        }
      ]
    },
    {
      "cell_type": "markdown",
      "metadata": {
        "id": "pWdhrtr_ZHNq",
        "colab_type": "text"
      },
      "source": [
        "##Lambda Functions"
      ]
    },
    {
      "cell_type": "markdown",
      "metadata": {
        "id": "rmAy9CR7ZHNq",
        "colab_type": "text"
      },
      "source": [
        "These are small functions which are not defined with any name and carry a single expression whose result is returned. Lambda functions comes very handy when operating with lists. These function are defined by the keyword **lambda** followed by the variables, a colon and the respective expression."
      ]
    },
    {
      "cell_type": "code",
      "metadata": {
        "id": "0eZga4osZHNr",
        "colab_type": "code",
        "colab": {}
      },
      "source": [
        "z = lambda x: x * x"
      ],
      "execution_count": 7,
      "outputs": []
    },
    {
      "cell_type": "code",
      "metadata": {
        "id": "HVWXJYCoZHNt",
        "colab_type": "code",
        "colab": {
          "base_uri": "https://localhost:8080/",
          "height": 34
        },
        "outputId": "602046f8-1b77-4209-a983-a99c0cf2bddb"
      },
      "source": [
        "z(8)"
      ],
      "execution_count": 8,
      "outputs": [
        {
          "output_type": "execute_result",
          "data": {
            "text/plain": [
              "64"
            ]
          },
          "metadata": {
            "tags": []
          },
          "execution_count": 8
        }
      ]
    },
    {
      "cell_type": "markdown",
      "metadata": {
        "id": "ZVDdx0nEZHNu",
        "colab_type": "text"
      },
      "source": [
        "###map"
      ]
    },
    {
      "cell_type": "markdown",
      "metadata": {
        "id": "pmwjJ6iKZHNv",
        "colab_type": "text"
      },
      "source": [
        "**map( )** function basically executes the function that is defined to each of the list's element separately. In Python 3, map returns an iterator. This way it can also be used directly in the value range of for loops. Keep in mind that iterating over the map object will deplete the map object."
      ]
    },
    {
      "cell_type": "code",
      "metadata": {
        "id": "XxLo1EeWZHNv",
        "colab_type": "code",
        "colab": {}
      },
      "source": [
        "list1 = [1,2,3,4,5,6,7,8,9]"
      ],
      "execution_count": 9,
      "outputs": []
    },
    {
      "cell_type": "code",
      "metadata": {
        "id": "d8TrkbiUZHNw",
        "colab_type": "code",
        "colab": {
          "base_uri": "https://localhost:8080/",
          "height": 51
        },
        "outputId": "187608a7-674c-44aa-a6c7-b330fee35ba1"
      },
      "source": [
        "eg = map(lambda x:x+2, list1)\n",
        "print(list(eg))\n",
        "print(list(eg))"
      ],
      "execution_count": 27,
      "outputs": [
        {
          "output_type": "stream",
          "text": [
            "[3, 4, 5, 6, 7, 8, 9, 10, 11]\n",
            "[]\n"
          ],
          "name": "stdout"
        }
      ]
    },
    {
      "cell_type": "markdown",
      "metadata": {
        "id": "f4vA5PLxZHNy",
        "colab_type": "text"
      },
      "source": [
        "You can also add two lists."
      ]
    },
    {
      "cell_type": "code",
      "metadata": {
        "id": "12gaSsNHZHNz",
        "colab_type": "code",
        "colab": {}
      },
      "source": [
        "list2 = [9,8,7,6,5,4,3,2,1]"
      ],
      "execution_count": 28,
      "outputs": []
    },
    {
      "cell_type": "code",
      "metadata": {
        "id": "4LjuRmUHZHN2",
        "colab_type": "code",
        "colab": {
          "base_uri": "https://localhost:8080/",
          "height": 34
        },
        "outputId": "f6fc02a4-9c91-4ee3-96f4-de97e20a1c6d"
      },
      "source": [
        "eg2 = map(lambda x,y:x+y, list1,list2)\n",
        "print(list(eg2))"
      ],
      "execution_count": 29,
      "outputs": [
        {
          "output_type": "stream",
          "text": [
            "[10, 10, 10, 10, 10, 10, 10, 10, 10]\n"
          ],
          "name": "stdout"
        }
      ]
    },
    {
      "cell_type": "markdown",
      "metadata": {
        "collapsed": false,
        "id": "_RHldN7bZHN3",
        "colab_type": "text"
      },
      "source": [
        "Not only lambda function but also other built in functions can also be used."
      ]
    },
    {
      "cell_type": "code",
      "metadata": {
        "id": "2mOjG07iZHN3",
        "colab_type": "code",
        "colab": {
          "base_uri": "https://localhost:8080/",
          "height": 34
        },
        "outputId": "c8e02666-9aaa-4bae-d829-a4b0d812f9f0"
      },
      "source": [
        "eg2 = map(lambda x,y:x+y, list1,list2)\n",
        "eg3 = map(str,list(eg2))\n",
        "print(list(eg3))"
      ],
      "execution_count": 30,
      "outputs": [
        {
          "output_type": "stream",
          "text": [
            "['10', '10', '10', '10', '10', '10', '10', '10', '10']\n"
          ],
          "name": "stdout"
        }
      ]
    },
    {
      "cell_type": "markdown",
      "metadata": {
        "id": "WX-rIP7oZHN5",
        "colab_type": "text"
      },
      "source": [
        "###filter"
      ]
    },
    {
      "cell_type": "markdown",
      "metadata": {
        "id": "kZ3wJjUqZHN6",
        "colab_type": "text"
      },
      "source": [
        "**filter( )** function is used to filter out the values in a list. Note that **filter()** function returns the result in a new iterable filter object."
      ]
    },
    {
      "cell_type": "code",
      "metadata": {
        "id": "DmcDjv_jZHN6",
        "colab_type": "code",
        "colab": {}
      },
      "source": [
        "list1 = [1,2,3,4,5,6,7,8,9]"
      ],
      "execution_count": 33,
      "outputs": []
    },
    {
      "cell_type": "markdown",
      "metadata": {
        "id": "R-K6MqZMZHN8",
        "colab_type": "text"
      },
      "source": [
        "To get the elements which are less than 5,"
      ]
    },
    {
      "cell_type": "code",
      "metadata": {
        "id": "7AWddaZMZHN8",
        "colab_type": "code",
        "colab": {
          "base_uri": "https://localhost:8080/",
          "height": 34
        },
        "outputId": "4c44f0a2-b1f9-4c67-e902-85443f455f8b"
      },
      "source": [
        "filter(lambda x:x<5,list1)"
      ],
      "execution_count": 37,
      "outputs": [
        {
          "output_type": "execute_result",
          "data": {
            "text/plain": [
              "<filter at 0x7f0b57b45588>"
            ]
          },
          "metadata": {
            "tags": []
          },
          "execution_count": 37
        }
      ]
    },
    {
      "cell_type": "code",
      "metadata": {
        "id": "VVh_g0MrUw4j",
        "colab_type": "code",
        "colab": {
          "base_uri": "https://localhost:8080/",
          "height": 34
        },
        "outputId": "a1992424-91bd-4dde-99e0-79a27e723a4e"
      },
      "source": [
        "list(filter(lambda x:x<5,list1))"
      ],
      "execution_count": 38,
      "outputs": [
        {
          "output_type": "execute_result",
          "data": {
            "text/plain": [
              "[1, 2, 3, 4]"
            ]
          },
          "metadata": {
            "tags": []
          },
          "execution_count": 38
        }
      ]
    },
    {
      "cell_type": "markdown",
      "metadata": {
        "id": "Bnc-ERWBZHN-",
        "colab_type": "text"
      },
      "source": [
        "Notice what happens when **map()** is used."
      ]
    },
    {
      "cell_type": "code",
      "metadata": {
        "id": "Oko9-YfSZHN-",
        "colab_type": "code",
        "colab": {
          "base_uri": "https://localhost:8080/",
          "height": 34
        },
        "outputId": "400add87-f943-4d0f-9d1c-27a7839dd340"
      },
      "source": [
        "list(map(lambda x:x<5, list1))"
      ],
      "execution_count": 41,
      "outputs": [
        {
          "output_type": "execute_result",
          "data": {
            "text/plain": [
              "[True, True, True, True, False, False, False, False, False]"
            ]
          },
          "metadata": {
            "tags": []
          },
          "execution_count": 41
        }
      ]
    },
    {
      "cell_type": "markdown",
      "metadata": {
        "id": "zhvkPwsqZHOA",
        "colab_type": "text"
      },
      "source": [
        "We can conclude that, whatever is returned true in **map( )** function that particular element is returned when **filter( )** function is used."
      ]
    },
    {
      "cell_type": "code",
      "metadata": {
        "id": "Ix6GAPOBZHOA",
        "colab_type": "code",
        "colab": {
          "base_uri": "https://localhost:8080/",
          "height": 34
        },
        "outputId": "5ba5bd82-9cb3-4a71-c576-2e39038c5472"
      },
      "source": [
        "list(filter(lambda x:x%4==0,list1))"
      ],
      "execution_count": 43,
      "outputs": [
        {
          "output_type": "execute_result",
          "data": {
            "text/plain": [
              "[4, 8]"
            ]
          },
          "metadata": {
            "tags": []
          },
          "execution_count": 43
        }
      ]
    },
    {
      "cell_type": "markdown",
      "metadata": {
        "id": "Yhlg9TISWDmN",
        "colab_type": "text"
      },
      "source": [
        "### reduce"
      ]
    },
    {
      "cell_type": "markdown",
      "metadata": {
        "id": "9_nAEpz2WKgD",
        "colab_type": "text"
      },
      "source": [
        "**reduce()** function applies the input functon to the input list iteratively until the list is depleted. In the following example reduce function will first take the summation of the first and second element of the `numbers` list and uses the resulting value as if the first element of the reminder of the `numbers` list and takes the summation with the third element."
      ]
    },
    {
      "cell_type": "code",
      "metadata": {
        "id": "mNeiV698WFnr",
        "colab_type": "code",
        "colab": {
          "base_uri": "https://localhost:8080/",
          "height": 34
        },
        "outputId": "d539620c-409c-4fd8-f473-931727181f05"
      },
      "source": [
        "from functools import reduce\n",
        "\n",
        "numbers = [3, 4, 6, 9, 34, 12]\n",
        "\n",
        "def custom_sum(first, second):\n",
        "    return first + second\n",
        "\n",
        "result = reduce(custom_sum, numbers)\n",
        "print(result)"
      ],
      "execution_count": 44,
      "outputs": [
        {
          "output_type": "stream",
          "text": [
            "68\n"
          ],
          "name": "stdout"
        }
      ]
    },
    {
      "cell_type": "markdown",
      "metadata": {
        "id": "wNNzpQCmWyQT",
        "colab_type": "text"
      },
      "source": [
        "### enumerate"
      ]
    },
    {
      "cell_type": "markdown",
      "metadata": {
        "id": "5NtkXsSgW9-U",
        "colab_type": "text"
      },
      "source": [
        "**enumerate()** function operates very similar to **zip()** function. The key difference is that the enumerate function will use a list of integers with legth equal to the input list as the second input argument of the zip function."
      ]
    },
    {
      "cell_type": "code",
      "metadata": {
        "id": "Dr3o9ZlRXdvS",
        "colab_type": "code",
        "colab": {
          "base_uri": "https://localhost:8080/",
          "height": 119
        },
        "outputId": "1e143c99-e913-4c22-99be-82f3ce6728c7"
      },
      "source": [
        "numbers = [3, 4, 6, 9, 34, 12]\n",
        "\n",
        "for i, j in enumerate(numbers):\n",
        "  print((i,j))"
      ],
      "execution_count": 49,
      "outputs": [
        {
          "output_type": "stream",
          "text": [
            "(0, 3)\n",
            "(1, 4)\n",
            "(2, 6)\n",
            "(3, 9)\n",
            "(4, 34)\n",
            "(5, 12)\n"
          ],
          "name": "stdout"
        }
      ]
    },
    {
      "cell_type": "markdown",
      "metadata": {
        "id": "bvWRZ8WTYMWH",
        "colab_type": "text"
      },
      "source": [
        "# Exception Handling"
      ]
    },
    {
      "cell_type": "markdown",
      "metadata": {
        "id": "eR5eHTW9hGZi",
        "colab_type": "text"
      },
      "source": [
        "## Usage with Exceptions"
      ]
    },
    {
      "cell_type": "markdown",
      "metadata": {
        "id": "UGC2BQfrd-2n",
        "colab_type": "text"
      },
      "source": [
        "Even if a statement or expression is syntactically correct, it may cause an error when an attempt is made to execute it. Errors detected during execution are called exceptions and are not unconditionally fatal.\n",
        "\n",
        "Programmers are supposed to have the foresight to handle runtime errors since they are not obvious."
      ]
    },
    {
      "cell_type": "code",
      "metadata": {
        "id": "2ytN-MkbhGZi",
        "colab_type": "code",
        "colab": {}
      },
      "source": [
        "class TraceBlock:\n",
        "    def message(self, arg):\n",
        "        print('running ' + arg) \n",
        "        \n",
        "    def __enter__(self):\n",
        "        print('starting with block')\n",
        "        return self\n",
        "    \n",
        "    def __exit__(self, exc_type, exc_value, exc_tb):\n",
        "        if exc_type is None: \n",
        "            print('exited normally\\n')\n",
        "        else:\n",
        "            print('raise an exception! ' + str(exc_type)) \n",
        "            return False # Propagate"
      ],
      "execution_count": 50,
      "outputs": []
    },
    {
      "cell_type": "code",
      "metadata": {
        "id": "kMhnDkgLhGZk",
        "colab_type": "code",
        "colab": {
          "base_uri": "https://localhost:8080/",
          "height": 102
        },
        "outputId": "3a7988e4-5d62-4953-cb89-8d1f31f4cdca"
      },
      "source": [
        "with TraceBlock() as action: \n",
        "    action.message('test 1')\n",
        "    print('reached')"
      ],
      "execution_count": 51,
      "outputs": [
        {
          "output_type": "stream",
          "text": [
            "starting with block\n",
            "running test 1\n",
            "reached\n",
            "exited normally\n",
            "\n"
          ],
          "name": "stdout"
        }
      ]
    },
    {
      "cell_type": "code",
      "metadata": {
        "id": "1pYYxiLChGZm",
        "colab_type": "code",
        "colab": {
          "base_uri": "https://localhost:8080/",
          "height": 265
        },
        "outputId": "464804b5-c971-4f3c-a74a-412b4a42c352"
      },
      "source": [
        "with TraceBlock() as action: \n",
        "    action.message('test 2') \n",
        "    raise TypeError()\n",
        "    print('not reached')"
      ],
      "execution_count": 52,
      "outputs": [
        {
          "output_type": "stream",
          "text": [
            "starting with block\n",
            "running test 2\n",
            "raise an exception! <class 'TypeError'>\n"
          ],
          "name": "stdout"
        },
        {
          "output_type": "error",
          "ename": "TypeError",
          "evalue": "ignored",
          "traceback": [
            "\u001b[0;31m---------------------------------------------------------------------------\u001b[0m",
            "\u001b[0;31mTypeError\u001b[0m                                 Traceback (most recent call last)",
            "\u001b[0;32m<ipython-input-52-5a07116ad67f>\u001b[0m in \u001b[0;36m<module>\u001b[0;34m()\u001b[0m\n\u001b[1;32m      1\u001b[0m \u001b[0;32mwith\u001b[0m \u001b[0mTraceBlock\u001b[0m\u001b[0;34m(\u001b[0m\u001b[0;34m)\u001b[0m \u001b[0;32mas\u001b[0m \u001b[0maction\u001b[0m\u001b[0;34m:\u001b[0m\u001b[0;34m\u001b[0m\u001b[0;34m\u001b[0m\u001b[0m\n\u001b[1;32m      2\u001b[0m     \u001b[0maction\u001b[0m\u001b[0;34m.\u001b[0m\u001b[0mmessage\u001b[0m\u001b[0;34m(\u001b[0m\u001b[0;34m'test 2'\u001b[0m\u001b[0;34m)\u001b[0m\u001b[0;34m\u001b[0m\u001b[0;34m\u001b[0m\u001b[0m\n\u001b[0;32m----> 3\u001b[0;31m     \u001b[0;32mraise\u001b[0m \u001b[0mTypeError\u001b[0m\u001b[0;34m(\u001b[0m\u001b[0;34m)\u001b[0m\u001b[0;34m\u001b[0m\u001b[0;34m\u001b[0m\u001b[0m\n\u001b[0m\u001b[1;32m      4\u001b[0m     \u001b[0mprint\u001b[0m\u001b[0;34m(\u001b[0m\u001b[0;34m'not reached'\u001b[0m\u001b[0;34m)\u001b[0m\u001b[0;34m\u001b[0m\u001b[0;34m\u001b[0m\u001b[0m\n",
            "\u001b[0;31mTypeError\u001b[0m: "
          ]
        }
      ]
    },
    {
      "cell_type": "markdown",
      "metadata": {
        "id": "VEJ5CLbthGZp",
        "colab_type": "text"
      },
      "source": [
        "## User Defined Exceptions"
      ]
    },
    {
      "cell_type": "code",
      "metadata": {
        "id": "WENZsOxohGZp",
        "colab_type": "code",
        "colab": {}
      },
      "source": [
        "class AlreadyGotOne(Exception): \n",
        "    pass\n",
        "\n",
        "def gail():\n",
        "    raise AlreadyGotOne()"
      ],
      "execution_count": 53,
      "outputs": []
    },
    {
      "cell_type": "code",
      "metadata": {
        "id": "oklFPUXlhGZr",
        "colab_type": "code",
        "colab": {
          "base_uri": "https://localhost:8080/",
          "height": 34
        },
        "outputId": "87893723-d512-425e-9d30-fe87a257e00a"
      },
      "source": [
        "try:\n",
        "    gail()\n",
        "except AlreadyGotOne:\n",
        "    print('got exception')"
      ],
      "execution_count": 54,
      "outputs": [
        {
          "output_type": "stream",
          "text": [
            "got exception\n"
          ],
          "name": "stdout"
        }
      ]
    },
    {
      "cell_type": "code",
      "metadata": {
        "id": "aALd3ZyDf4ux",
        "colab_type": "code",
        "colab": {
          "base_uri": "https://localhost:8080/",
          "height": 248
        },
        "outputId": "f4656010-18d3-4135-e52a-c6268d35b55e"
      },
      "source": [
        "gail()"
      ],
      "execution_count": 55,
      "outputs": [
        {
          "output_type": "error",
          "ename": "AlreadyGotOne",
          "evalue": "ignored",
          "traceback": [
            "\u001b[0;31m---------------------------------------------------------------------------\u001b[0m",
            "\u001b[0;31mAlreadyGotOne\u001b[0m                             Traceback (most recent call last)",
            "\u001b[0;32m<ipython-input-55-702e33abdd81>\u001b[0m in \u001b[0;36m<module>\u001b[0;34m()\u001b[0m\n\u001b[0;32m----> 1\u001b[0;31m \u001b[0mgail\u001b[0m\u001b[0;34m(\u001b[0m\u001b[0;34m)\u001b[0m\u001b[0;34m\u001b[0m\u001b[0;34m\u001b[0m\u001b[0m\n\u001b[0m",
            "\u001b[0;32m<ipython-input-53-83840f3ff91e>\u001b[0m in \u001b[0;36mgail\u001b[0;34m()\u001b[0m\n\u001b[1;32m      3\u001b[0m \u001b[0;34m\u001b[0m\u001b[0m\n\u001b[1;32m      4\u001b[0m \u001b[0;32mdef\u001b[0m \u001b[0mgail\u001b[0m\u001b[0;34m(\u001b[0m\u001b[0;34m)\u001b[0m\u001b[0;34m:\u001b[0m\u001b[0;34m\u001b[0m\u001b[0;34m\u001b[0m\u001b[0m\n\u001b[0;32m----> 5\u001b[0;31m     \u001b[0;32mraise\u001b[0m \u001b[0mAlreadyGotOne\u001b[0m\u001b[0;34m(\u001b[0m\u001b[0;34m)\u001b[0m\u001b[0;34m\u001b[0m\u001b[0;34m\u001b[0m\u001b[0m\n\u001b[0m",
            "\u001b[0;31mAlreadyGotOne\u001b[0m: "
          ]
        }
      ]
    },
    {
      "cell_type": "code",
      "metadata": {
        "scrolled": true,
        "id": "DL55BVSrhGZt",
        "colab_type": "code",
        "colab": {
          "base_uri": "https://localhost:8080/",
          "height": 197
        },
        "outputId": "c5dc155a-b810-4abb-e212-4bf28dc466a9"
      },
      "source": [
        "class MyCustomError(Exception):\n",
        "    \n",
        "    def __init__(self, job, *args, **kwargs):\n",
        "        super(MyCustomError, self).__init__(*args, **kwargs)\n",
        "        self._job = job\n",
        "    \n",
        "    def __str__(self): \n",
        "        return 'This is how i handle exceptions as a {}'.format(self._job)\n",
        "    \n",
        "raise MyCustomError('Python Programmer')"
      ],
      "execution_count": 57,
      "outputs": [
        {
          "output_type": "error",
          "ename": "MyCustomError",
          "evalue": "ignored",
          "traceback": [
            "\u001b[0;31m---------------------------------------------------------------------------\u001b[0m",
            "\u001b[0;31mMyCustomError\u001b[0m                             Traceback (most recent call last)",
            "\u001b[0;32m<ipython-input-57-2003e5234784>\u001b[0m in \u001b[0;36m<module>\u001b[0;34m()\u001b[0m\n\u001b[1;32m      8\u001b[0m         \u001b[0;32mreturn\u001b[0m \u001b[0;34m'This is how i handle exceptions as a {}'\u001b[0m\u001b[0;34m.\u001b[0m\u001b[0mformat\u001b[0m\u001b[0;34m(\u001b[0m\u001b[0mself\u001b[0m\u001b[0;34m.\u001b[0m\u001b[0m_job\u001b[0m\u001b[0;34m)\u001b[0m\u001b[0;34m\u001b[0m\u001b[0;34m\u001b[0m\u001b[0m\n\u001b[1;32m      9\u001b[0m \u001b[0;34m\u001b[0m\u001b[0m\n\u001b[0;32m---> 10\u001b[0;31m \u001b[0;32mraise\u001b[0m \u001b[0mMyCustomError\u001b[0m\u001b[0;34m(\u001b[0m\u001b[0;34m'Python Programmer'\u001b[0m\u001b[0;34m)\u001b[0m\u001b[0;34m\u001b[0m\u001b[0;34m\u001b[0m\u001b[0m\n\u001b[0m",
            "\u001b[0;31mMyCustomError\u001b[0m: This is how i handle exceptions as a Python Programmer"
          ]
        }
      ]
    },
    {
      "cell_type": "markdown",
      "metadata": {
        "id": "sBZe8hwDgKie",
        "colab_type": "text"
      },
      "source": [
        "## Finally clause"
      ]
    },
    {
      "cell_type": "markdown",
      "metadata": {
        "id": "Ye5jAXr6gvcl",
        "colab_type": "text"
      },
      "source": [
        "If a `finally` clause is present, the `finally` clause will execute as the last task before the try statement completes. The `finally` clause runs whether or not the try statement produces an exception."
      ]
    },
    {
      "cell_type": "code",
      "metadata": {
        "id": "orEqfLrwg0Yx",
        "colab_type": "code",
        "colab": {
          "base_uri": "https://localhost:8080/",
          "height": 231
        },
        "outputId": "1ce8e946-7358-4328-a070-21f2f09df51d"
      },
      "source": [
        "try:\n",
        "  raise KeyboardInterrupt\n",
        "finally:\n",
        "  print('Goodbye, world!')"
      ],
      "execution_count": 58,
      "outputs": [
        {
          "output_type": "stream",
          "text": [
            "Goodbye, world!\n"
          ],
          "name": "stdout"
        },
        {
          "output_type": "error",
          "ename": "KeyboardInterrupt",
          "evalue": "ignored",
          "traceback": [
            "\u001b[0;31m---------------------------------------------------------------------------\u001b[0m",
            "\u001b[0;31mKeyboardInterrupt\u001b[0m                         Traceback (most recent call last)",
            "\u001b[0;32m<ipython-input-58-030ffb500de3>\u001b[0m in \u001b[0;36m<module>\u001b[0;34m()\u001b[0m\n\u001b[1;32m      1\u001b[0m \u001b[0;32mtry\u001b[0m\u001b[0;34m:\u001b[0m\u001b[0;34m\u001b[0m\u001b[0;34m\u001b[0m\u001b[0m\n\u001b[0;32m----> 2\u001b[0;31m   \u001b[0;32mraise\u001b[0m \u001b[0mKeyboardInterrupt\u001b[0m\u001b[0;34m\u001b[0m\u001b[0;34m\u001b[0m\u001b[0m\n\u001b[0m\u001b[1;32m      3\u001b[0m \u001b[0;32mfinally\u001b[0m\u001b[0;34m:\u001b[0m\u001b[0;34m\u001b[0m\u001b[0;34m\u001b[0m\u001b[0m\n\u001b[1;32m      4\u001b[0m   \u001b[0mprint\u001b[0m\u001b[0;34m(\u001b[0m\u001b[0;34m'Goodbye, world!'\u001b[0m\u001b[0;34m)\u001b[0m\u001b[0;34m\u001b[0m\u001b[0;34m\u001b[0m\u001b[0m\n",
            "\u001b[0;31mKeyboardInterrupt\u001b[0m: "
          ]
        }
      ]
    },
    {
      "cell_type": "markdown",
      "metadata": {
        "id": "jpyFVnV-hJUV",
        "colab_type": "text"
      },
      "source": [
        "# File Operations, Inputs and Outputs"
      ]
    },
    {
      "cell_type": "markdown",
      "metadata": {
        "id": "cYv9NcHhhT9Z",
        "colab_type": "text"
      },
      "source": [
        "## Opening and Working on Files"
      ]
    },
    {
      "cell_type": "markdown",
      "metadata": {
        "id": "HL4nAbFajLaL",
        "colab_type": "text"
      },
      "source": [
        "Python has a built-in open() function to open a file. This function returns a file object, also called a handle, as it is used to read or modify the file accordingly.\n",
        "\n",
        "NOTE:\n",
        "From here on, we are going to keep using the with/as statement to handle I/O operations, namely Context Manager objects."
      ]
    },
    {
      "cell_type": "markdown",
      "metadata": {
        "id": "36p-DuORl1tp",
        "colab_type": "text"
      },
      "source": [
        "We can specify the mode while opening a file. In mode, we specify whether we want to read `r`, write `w` or append `a` to the file. We can also specify if we want to open the file in text mode or binary mode."
      ]
    },
    {
      "cell_type": "code",
      "metadata": {
        "id": "BuyEmIpgl8UJ",
        "colab_type": "code",
        "colab": {
          "base_uri": "https://localhost:8080/",
          "height": 51
        },
        "outputId": "d7c3714c-1bbd-47b8-b623-859b53190ec4"
      },
      "source": [
        "with open('test.txt', 'r') as f:\n",
        "  print(f.readline())"
      ],
      "execution_count": 62,
      "outputs": [
        {
          "output_type": "stream",
          "text": [
            "Line 0\n",
            "\n"
          ],
          "name": "stdout"
        }
      ]
    },
    {
      "cell_type": "code",
      "metadata": {
        "id": "mao1NrKCmbJw",
        "colab_type": "code",
        "colab": {
          "base_uri": "https://localhost:8080/",
          "height": 119
        },
        "outputId": "c96653db-f643-4e56-92ce-e142e7f208a0"
      },
      "source": [
        "import csv\n",
        "\n",
        "with open('elderlyHeightWeight.csv', 'r') as csvfile:\n",
        "    reader = csv.reader(csvfile, delimiter='\\t') # define the field delimiter\n",
        "    header = next(reader)\n",
        "    print(header)\n",
        "    print() # blank line\n",
        "\n",
        "    for i in range(4):\n",
        "        print(next(reader)) # print the first 4 lines after the header"
      ],
      "execution_count": 63,
      "outputs": [
        {
          "output_type": "stream",
          "text": [
            "['Gender', 'Age', 'body wt', 'ht']\n",
            "\n",
            "['F', '77', '63.8', '155.5']\n",
            "['F', '80', '56.4', '160.5']\n",
            "['F', '76', '55.2', '159.5']\n",
            "['F', '77', '58.5', '151']\n"
          ],
          "name": "stdout"
        }
      ]
    },
    {
      "cell_type": "markdown",
      "metadata": {
        "id": "9YCnLe8Li76K",
        "colab_type": "text"
      },
      "source": [
        "We can see that the ```reader()``` function has processed each line into a single list element based on the field delimiter we supplied. Importantly also note that all the values are now of type ```str``` in each list (everything is in quotes). This is important if you want to do calculations on these values. \n",
        "\n",
        "Using the ```csv``` module makes it easy to select whole columns by selecting the data we want from the ```reader```.  We'll use the ```.next()``` method to find the column order and then iterate over the rows with a ```for``` loop to pull out height and weight."
      ]
    },
    {
      "cell_type": "code",
      "metadata": {
        "id": "WweKHdhKi76K",
        "colab_type": "code",
        "colab": {
          "base_uri": "https://localhost:8080/",
          "height": 68
        },
        "outputId": "d36e2100-fa35-4b7e-964d-c106220b92d2"
      },
      "source": [
        "\n",
        "with open('elderlyHeightWeight.csv', 'r') as csvfile:\n",
        "    reader = csv.reader(csvfile, delimiter='\\t') # define the field delimiter\n",
        "\n",
        "    # use next() method on reader object to id the headers\n",
        "    headers = next(reader)\n",
        "    print(headers)\n",
        "    \n",
        "    # we now know weight index is 2, height index is 3\n",
        "    \n",
        "    weight  = ['Weight'] # list to hold data, put in header \n",
        "    height = ['Height']\n",
        "\n",
        "    for row in reader:\n",
        "        weight.append(row[2])\n",
        "        height.append(row[3])\n",
        "    \n",
        "    print (weight)\n",
        "    print (height)"
      ],
      "execution_count": 72,
      "outputs": [
        {
          "output_type": "stream",
          "text": [
            "['Gender', 'Age', 'body wt', 'ht']\n",
            "['Weight', '63.8', '56.4', '55.2', '58.5', '64', '51.6', '54.6', '71', '75.5', '83.9', '75.7', '72.5', '56.2', '73.4', '67.7', '93', '95.6', '75.6']\n",
            "['Height', '155.5', '160.5', '159.5', '151', '165.5', '167', '154', '153', '171', '178.5', '167', '171.5', '167', '168.5', '174.5', '168', '168', '183.5']\n"
          ],
          "name": "stdout"
        }
      ]
    },
    {
      "cell_type": "markdown",
      "metadata": {
        "id": "ZXOp-_Usi76M",
        "colab_type": "text"
      },
      "source": [
        "The ```iterable``` in the \n",
        "\n",
        "```\n",
        "for...\n",
        "``` \n",
        "\n",
        "loop above is each row of the input file. From each row we simply capture the two values we want and add these to lists. We could then further process the data in these two lists."
      ]
    },
    {
      "cell_type": "markdown",
      "metadata": {
        "id": "LCStnzz0i76N",
        "colab_type": "text"
      },
      "source": [
        "In order to open a file for writing we use the ```'w'``` parameter in our ```open()``` statement. Rather obviously ```'w'``` stands for write. If the file doesn't exist a new file is created with the given name and extension.\n",
        "\n",
        "Note that if the file exists then opening it with the ```'w'``` argument removes any data that was in the file and overwrites it with what you put in. This may not be what you wanted to do. \n",
        "\n",
        "Once we have an open file we can write data to it with the ```write()``` method applied to the file handle.\n",
        "\n",
        "Let's open a file and write some data to it."
      ]
    },
    {
      "cell_type": "code",
      "metadata": {
        "id": "vGlOV4DYi76N",
        "colab_type": "code",
        "colab": {}
      },
      "source": [
        "with open('new_test.txt', 'w') as f_out:\n",
        "    for i in range(10):\n",
        "        line  = 'Line ' + str(i) + '\\n'\n",
        "        f_out.write(line)"
      ],
      "execution_count": 73,
      "outputs": []
    },
    {
      "cell_type": "markdown",
      "metadata": {
        "id": "lq_0Survn9vL",
        "colab_type": "text"
      },
      "source": [
        "If we want to append to the already existing data in a file, we simply open it with append `a` mode and write to the file as usual."
      ]
    },
    {
      "cell_type": "code",
      "metadata": {
        "id": "wNplerVHomcV",
        "colab_type": "code",
        "colab": {}
      },
      "source": [
        "with open('new_test.txt', 'a') as f_out:\n",
        "    for i in range(10, 20):\n",
        "        line  = 'Appended Line ' + str(i) + '\\n'\n",
        "        f_out.write(line)"
      ],
      "execution_count": 74,
      "outputs": []
    },
    {
      "cell_type": "code",
      "metadata": {
        "id": "V1-5gMFHor20",
        "colab_type": "code",
        "colab": {}
      },
      "source": [
        ""
      ],
      "execution_count": 74,
      "outputs": []
    },
    {
      "cell_type": "markdown",
      "metadata": {
        "id": "fI6VNBFNJ-QV",
        "colab_type": "text"
      },
      "source": [
        "## Working on Json Files with Pandas"
      ]
    },
    {
      "cell_type": "markdown",
      "metadata": {
        "id": "8b-EPHJdKi10",
        "colab_type": "text"
      },
      "source": [
        "###What is JSON?"
      ]
    },
    {
      "cell_type": "markdown",
      "metadata": {
        "id": "5UM6hQ1gpXQT",
        "colab_type": "text"
      },
      "source": [
        "JSON is shorthand for JavaScript Object Notation. This is a text format that is often used to exchange data on the web.\n",
        "\n",
        "The format looks like this:"
      ]
    },
    {
      "cell_type": "code",
      "metadata": {
        "id": "17PTv5y6K4Pd",
        "colab_type": "code",
        "colab": {
          "base_uri": "https://localhost:8080/",
          "height": 221
        },
        "outputId": "9e29cf6f-87c3-4e37-eabf-02d4b21062fb"
      },
      "source": [
        "import json\n",
        "\n",
        "your_json = '{\"col1\":{\"row1\":1,\"row2\":2,\"row3\":3},\"col2\":{\"row1\":\"x\",\"row2\":\"y\",\"row3\":\"z\"}}'\n",
        "parsed = json.loads(your_json)\n",
        "print(json.dumps(parsed, indent=4, sort_keys=True))"
      ],
      "execution_count": 66,
      "outputs": [
        {
          "output_type": "stream",
          "text": [
            "{\n",
            "    \"col1\": {\n",
            "        \"row1\": 1,\n",
            "        \"row2\": 2,\n",
            "        \"row3\": 3\n",
            "    },\n",
            "    \"col2\": {\n",
            "        \"row1\": \"x\",\n",
            "        \"row2\": \"y\",\n",
            "        \"row3\": \"z\"\n",
            "    }\n",
            "}\n"
          ],
          "name": "stdout"
        }
      ]
    },
    {
      "cell_type": "markdown",
      "metadata": {
        "id": "30NObrGUM2N-",
        "colab_type": "text"
      },
      "source": [
        "Any type of data can be stored in this format (string, integer, float etc).\n",
        "\n",
        "It’s common for a web server to return and accept json format. This is often how the frontend communicates with the backend."
      ]
    },
    {
      "cell_type": "markdown",
      "metadata": {
        "id": "3mZwQA3FM8zA",
        "colab_type": "text"
      },
      "source": [
        "###pandas.read_json"
      ]
    },
    {
      "cell_type": "markdown",
      "metadata": {
        "id": "DI-7Lv87ND-e",
        "colab_type": "text"
      },
      "source": [
        "The example below parses a JSON string and converts it to a Pandas DataFrame."
      ]
    },
    {
      "cell_type": "code",
      "metadata": {
        "id": "5ZErO4WRLkq0",
        "colab_type": "code",
        "colab": {
          "base_uri": "https://localhost:8080/",
          "height": 85
        },
        "outputId": "9a4ab3d1-a71e-4ce0-93f1-83f3930bf23b"
      },
      "source": [
        "# load pandas and json modules                                                                                               \n",
        "import pandas as pd\n",
        "import json\n",
        "\n",
        "# json string                                                                                                                \n",
        "s = '{\"col1\":{\"row1\":1,\"row2\":2,\"row3\":3},\"col2\":{\"row1\":\"x\",\"row2\":\"y\",\"row3\":\"z\"}}'\n",
        "\n",
        "# read json to data frame                                                                                                    \n",
        "df = pd.read_json(s)\n",
        "print(df)"
      ],
      "execution_count": 67,
      "outputs": [
        {
          "output_type": "stream",
          "text": [
            "      col1 col2\n",
            "row1     1    x\n",
            "row2     2    y\n",
            "row3     3    z\n"
          ],
          "name": "stdout"
        }
      ]
    },
    {
      "cell_type": "markdown",
      "metadata": {
        "id": "nw0LBjKrNOUq",
        "colab_type": "text"
      },
      "source": [
        "###Load JSON from URL"
      ]
    },
    {
      "cell_type": "markdown",
      "metadata": {
        "id": "aigr1vsINROQ",
        "colab_type": "text"
      },
      "source": [
        "To load JSON from an URL (API), you can use this code:"
      ]
    },
    {
      "cell_type": "code",
      "metadata": {
        "id": "DDWjTlG2M59C",
        "colab_type": "code",
        "colab": {
          "base_uri": "https://localhost:8080/",
          "height": 918
        },
        "outputId": "3e61fda5-6372-4132-9504-2fc9c02fb8e5"
      },
      "source": [
        "import requests\n",
        "from pandas.io.json import json_normalize\n",
        "import pandas as pd\n",
        "\n",
        "url = \"https://api.exchangerate-api.com/v4/latest/USD\"\n",
        "df = pd.read_json(url)\n",
        "print(df)"
      ],
      "execution_count": 68,
      "outputs": [
        {
          "output_type": "stream",
          "text": [
            "    base       date  time_last_updated         rates\n",
            "AED  USD 2020-08-16         1597536251      3.671928\n",
            "ARS  USD 2020-08-16         1597536251     73.117051\n",
            "AUD  USD 2020-08-16         1597536251      1.397466\n",
            "BGN  USD 2020-08-16         1597536251      1.655520\n",
            "BRL  USD 2020-08-16         1597536251      5.389548\n",
            "BSD  USD 2020-08-16         1597536251      1.000000\n",
            "CAD  USD 2020-08-16         1597536251      1.325003\n",
            "CHF  USD 2020-08-16         1597536251      0.909920\n",
            "CLP  USD 2020-08-16         1597536251    793.482324\n",
            "CNY  USD 2020-08-16         1597536251      6.950775\n",
            "COP  USD 2020-08-16         1597536251   3777.714286\n",
            "CZK  USD 2020-08-16         1597536251     22.115138\n",
            "DKK  USD 2020-08-16         1597536251      6.305452\n",
            "DOP  USD 2020-08-16         1597536251     58.332353\n",
            "EGP  USD 2020-08-16         1597536251     15.872749\n",
            "EUR  USD 2020-08-16         1597536251      0.845790\n",
            "FJD  USD 2020-08-16         1597536251      2.136313\n",
            "GBP  USD 2020-08-16         1597536251      0.763956\n",
            "GTQ  USD 2020-08-16         1597536251      7.690936\n",
            "HKD  USD 2020-08-16         1597536251      7.750209\n",
            "HRK  USD 2020-08-16         1597536251      6.377916\n",
            "HUF  USD 2020-08-16         1597536251    292.965483\n",
            "IDR  USD 2020-08-16         1597536251  14973.488190\n",
            "ILS  USD 2020-08-16         1597536251      3.403939\n",
            "INR  USD 2020-08-16         1597536251     74.883024\n",
            "ISK  USD 2020-08-16         1597536251    136.393721\n",
            "JPY  USD 2020-08-16         1597536251    106.676250\n",
            "KRW  USD 2020-08-16         1597536251   1186.255165\n",
            "KZT  USD 2020-08-16         1597536251    419.746032\n",
            "MVR  USD 2020-08-16         1597536251     15.350000\n",
            "MXN  USD 2020-08-16         1597536251     22.116482\n",
            "MYR  USD 2020-08-16         1597536251      4.192936\n",
            "NOK  USD 2020-08-16         1597536251      8.908156\n",
            "NZD  USD 2020-08-16         1597536251      1.528849\n",
            "PAB  USD 2020-08-16         1597536251      1.000000\n",
            "PEN  USD 2020-08-16         1597536251      3.572521\n",
            "PHP  USD 2020-08-16         1597536251     48.744086\n",
            "PKR  USD 2020-08-16         1597536251    167.720930\n",
            "PLN  USD 2020-08-16         1597536251      3.724122\n",
            "PYG  USD 2020-08-16         1597536251   7212.000000\n",
            "RON  USD 2020-08-16         1597536251      4.093314\n",
            "RUB  USD 2020-08-16         1597536251     73.210807\n",
            "SAR  USD 2020-08-16         1597536251      3.750231\n",
            "SEK  USD 2020-08-16         1597536251      8.703962\n",
            "SGD  USD 2020-08-16         1597536251      1.372047\n",
            "THB  USD 2020-08-16         1597536251     31.096861\n",
            "TRY  USD 2020-08-16         1597536251      7.368864\n",
            "TWD  USD 2020-08-16         1597536251     29.400752\n",
            "UAH  USD 2020-08-16         1597536251     27.308675\n",
            "USD  USD 2020-08-16         1597536251      1.000000\n",
            "UYU  USD 2020-08-16         1597536251     42.400855\n",
            "ZAR  USD 2020-08-16         1597536251     17.426011\n"
          ],
          "name": "stdout"
        }
      ]
    },
    {
      "cell_type": "markdown",
      "metadata": {
        "id": "T9dKmKedNa0J",
        "colab_type": "text"
      },
      "source": [
        "###Save to JSON file"
      ]
    },
    {
      "cell_type": "markdown",
      "metadata": {
        "id": "rQm326WuNe95",
        "colab_type": "text"
      },
      "source": [
        "A DataFrame can be saved as a json file. To do so, use the method ```to_json(filename)```.<br>\n",
        "If you want to save to a json file, you can do the following:"
      ]
    },
    {
      "cell_type": "code",
      "metadata": {
        "id": "dbRBqsKxNZ4S",
        "colab_type": "code",
        "colab": {}
      },
      "source": [
        "import pandas as pd\n",
        "import json\n",
        "df = pd.DataFrame([1,2,3])\n",
        "df.to_json('example.json')"
      ],
      "execution_count": 69,
      "outputs": []
    },
    {
      "cell_type": "markdown",
      "metadata": {
        "id": "GB4Ony2yNn1i",
        "colab_type": "text"
      },
      "source": [
        "For a dataframe with several columns:"
      ]
    },
    {
      "cell_type": "code",
      "metadata": {
        "id": "t9e1AwpKNov5",
        "colab_type": "code",
        "colab": {}
      },
      "source": [
        "data = [['Axel',32], ['Alice', 26], ['Alex', 45]]\n",
        "df = pd.DataFrame(data,columns=['Name','Age'])\n",
        "df.to_json('example.json')"
      ],
      "execution_count": 70,
      "outputs": []
    },
    {
      "cell_type": "markdown",
      "metadata": {
        "id": "zKJpzar_NvpV",
        "colab_type": "text"
      },
      "source": [
        "### Load JSON from File\n"
      ]
    },
    {
      "cell_type": "markdown",
      "metadata": {
        "id": "QCPipX7bN_26",
        "colab_type": "text"
      },
      "source": [
        "If the json data is stored in a file, you can load it into a DataFrame.\n",
        "\n",
        "You can use the example above to create a json file, then use this example to load it into a dataframe."
      ]
    },
    {
      "cell_type": "code",
      "metadata": {
        "id": "dDyLcNXqNqG0",
        "colab_type": "code",
        "colab": {}
      },
      "source": [
        "df_f = pd.read_json('example.json')"
      ],
      "execution_count": 71,
      "outputs": []
    },
    {
      "cell_type": "markdown",
      "metadata": {
        "id": "jwdqABkTO4b0",
        "colab_type": "text"
      },
      "source": [
        "###Pandas to JSON example"
      ]
    },
    {
      "cell_type": "markdown",
      "metadata": {
        "id": "J0dZOepCO9Ee",
        "colab_type": "text"
      },
      "source": [
        "In the next example, you load data from a csv file into a dataframe, that you can then save as json file.\n",
        "\n",
        "You can load a csv file as a pandas dataframe:"
      ]
    },
    {
      "cell_type": "code",
      "metadata": {
        "id": "9FRWtdHVOUCb",
        "colab_type": "code",
        "colab": {}
      },
      "source": [
        "df = pd.read_csv(\"elderlyHeightWeight.csv\")"
      ],
      "execution_count": 75,
      "outputs": []
    },
    {
      "cell_type": "markdown",
      "metadata": {
        "id": "EWcy5exEPBmt",
        "colab_type": "text"
      },
      "source": [
        "Then save the DataFrame to JSON format:"
      ]
    },
    {
      "cell_type": "code",
      "metadata": {
        "id": "yUbSHw1xPEQP",
        "colab_type": "code",
        "colab": {}
      },
      "source": [
        "df.to_json(\"data.json\")"
      ],
      "execution_count": 76,
      "outputs": []
    },
    {
      "cell_type": "code",
      "metadata": {
        "id": "wEZ8--y4qejp",
        "colab_type": "code",
        "colab": {}
      },
      "source": [
        ""
      ],
      "execution_count": null,
      "outputs": []
    }
  ]
}